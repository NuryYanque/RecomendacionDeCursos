{
 "cells": [
  {
   "cell_type": "code",
   "execution_count": null,
   "metadata": {
    "id": "jYKZ3xjJHJVI"
   },
   "outputs": [],
   "source": []
  },
  {
   "cell_type": "markdown",
   "metadata": {
    "id": "e97jH19wJE4q"
   },
   "source": [
    "texto test"
   ]
  },
  {
   "cell_type": "code",
   "execution_count": 4,
   "metadata": {
    "id": "sJsLKdW2LEdc"
   },
   "outputs": [],
   "source": [
    "import pandas as pd"
   ]
  },
  {
   "cell_type": "code",
   "execution_count": null,
   "metadata": {
    "id": "lgSlRTrHLA2L"
   },
   "outputs": [],
   "source": [
    "201901\t201902\t202001\t202002\n",
    "18\t23\t27\t23\n",
    "18\t18\t23\t23\n",
    "18\t18\t18\t27\n",
    "18\t23\t23\t23\n",
    "23\t23\t23\t23\n",
    "27\t27\t27\t27"
   ]
  },
  {
   "cell_type": "code",
   "execution_count": 5,
   "metadata": {
    "executionInfo": {
     "elapsed": 901,
     "status": "ok",
     "timestamp": 1604242182565,
     "user": {
      "displayName": "Nury Yuleny Arosquipa Yanque",
      "photoUrl": "https://lh3.googleusercontent.com/a-/AOh14GhrSvvDooqXZiD0drEXojYowkdCAA1ZAS9FDIVFnt8=s64",
      "userId": "13184423204279143700"
     },
     "user_tz": 180
    },
    "id": "5YIEmMGpMSFq"
   },
   "outputs": [],
   "source": [
    "perfil_alumno = [\n",
    "    ['201700000', 18, 18, 18, 18],\n",
    "    ['201818909', 18, 23, 27, 23], \n",
    "    ['201621635',18,\t18,\t23,\t23],\n",
    "    ['201710287',18,\t18,\t18,\t27],\n",
    "    ['201720918', 18,\t23, 23,\t23],\n",
    "    ['201810705', 23,\t23,\t23,\t23],\n",
    "    ['201820634', 27,\t27,\t27,\t27]\n",
    "]\n",
    "\n"
   ]
  },
  {
   "cell_type": "code",
   "execution_count": 6,
   "metadata": {
    "executionInfo": {
     "elapsed": 971,
     "status": "ok",
     "timestamp": 1604242186164,
     "user": {
      "displayName": "Nury Yuleny Arosquipa Yanque",
      "photoUrl": "https://lh3.googleusercontent.com/a-/AOh14GhrSvvDooqXZiD0drEXojYowkdCAA1ZAS9FDIVFnt8=s64",
      "userId": "13184423204279143700"
     },
     "user_tz": 180
    },
    "id": "tvW8uHCgMrhP"
   },
   "outputs": [],
   "source": [
    "perfil_alumno_df = pd.DataFrame.from_records(perfil_alumno, columns=['COD_ALUMNO', '201901', '201902', '202001', '202002'])"
   ]
  },
  {
   "cell_type": "code",
   "execution_count": 7,
   "metadata": {
    "colab": {
     "base_uri": "https://localhost:8080/",
     "height": 266
    },
    "executionInfo": {
     "elapsed": 723,
     "status": "ok",
     "timestamp": 1604242188615,
     "user": {
      "displayName": "Nury Yuleny Arosquipa Yanque",
      "photoUrl": "https://lh3.googleusercontent.com/a-/AOh14GhrSvvDooqXZiD0drEXojYowkdCAA1ZAS9FDIVFnt8=s64",
      "userId": "13184423204279143700"
     },
     "user_tz": 180
    },
    "id": "2yh9lkNCNzwC",
    "outputId": "32752c27-d0cf-4380-cb7d-cffd37a1f2ee"
   },
   "outputs": [
    {
     "data": {
      "text/html": [
       "<div>\n",
       "<style scoped>\n",
       "    .dataframe tbody tr th:only-of-type {\n",
       "        vertical-align: middle;\n",
       "    }\n",
       "\n",
       "    .dataframe tbody tr th {\n",
       "        vertical-align: top;\n",
       "    }\n",
       "\n",
       "    .dataframe thead th {\n",
       "        text-align: right;\n",
       "    }\n",
       "</style>\n",
       "<table border=\"1\" class=\"dataframe\">\n",
       "  <thead>\n",
       "    <tr style=\"text-align: right;\">\n",
       "      <th></th>\n",
       "      <th>COD_ALUMNO</th>\n",
       "      <th>201901</th>\n",
       "      <th>201902</th>\n",
       "      <th>202001</th>\n",
       "      <th>202002</th>\n",
       "    </tr>\n",
       "  </thead>\n",
       "  <tbody>\n",
       "    <tr>\n",
       "      <th>0</th>\n",
       "      <td>201700000</td>\n",
       "      <td>18</td>\n",
       "      <td>18</td>\n",
       "      <td>18</td>\n",
       "      <td>18</td>\n",
       "    </tr>\n",
       "    <tr>\n",
       "      <th>1</th>\n",
       "      <td>201818909</td>\n",
       "      <td>18</td>\n",
       "      <td>23</td>\n",
       "      <td>27</td>\n",
       "      <td>23</td>\n",
       "    </tr>\n",
       "    <tr>\n",
       "      <th>2</th>\n",
       "      <td>201621635</td>\n",
       "      <td>18</td>\n",
       "      <td>18</td>\n",
       "      <td>23</td>\n",
       "      <td>23</td>\n",
       "    </tr>\n",
       "    <tr>\n",
       "      <th>3</th>\n",
       "      <td>201710287</td>\n",
       "      <td>18</td>\n",
       "      <td>18</td>\n",
       "      <td>18</td>\n",
       "      <td>27</td>\n",
       "    </tr>\n",
       "    <tr>\n",
       "      <th>4</th>\n",
       "      <td>201720918</td>\n",
       "      <td>18</td>\n",
       "      <td>23</td>\n",
       "      <td>23</td>\n",
       "      <td>23</td>\n",
       "    </tr>\n",
       "    <tr>\n",
       "      <th>5</th>\n",
       "      <td>201810705</td>\n",
       "      <td>23</td>\n",
       "      <td>23</td>\n",
       "      <td>23</td>\n",
       "      <td>23</td>\n",
       "    </tr>\n",
       "    <tr>\n",
       "      <th>6</th>\n",
       "      <td>201820634</td>\n",
       "      <td>27</td>\n",
       "      <td>27</td>\n",
       "      <td>27</td>\n",
       "      <td>27</td>\n",
       "    </tr>\n",
       "  </tbody>\n",
       "</table>\n",
       "</div>"
      ],
      "text/plain": [
       "  COD_ALUMNO  201901  201902  202001  202002\n",
       "0  201700000      18      18      18      18\n",
       "1  201818909      18      23      27      23\n",
       "2  201621635      18      18      23      23\n",
       "3  201710287      18      18      18      27\n",
       "4  201720918      18      23      23      23\n",
       "5  201810705      23      23      23      23\n",
       "6  201820634      27      27      27      27"
      ]
     },
     "execution_count": 7,
     "metadata": {},
     "output_type": "execute_result"
    }
   ],
   "source": [
    "perfil_alumno_df"
   ]
  },
  {
   "cell_type": "code",
   "execution_count": 8,
   "metadata": {
    "colab": {
     "base_uri": "https://localhost:8080/"
    },
    "executionInfo": {
     "elapsed": 967,
     "status": "ok",
     "timestamp": 1604243705398,
     "user": {
      "displayName": "Nury Yuleny Arosquipa Yanque",
      "photoUrl": "https://lh3.googleusercontent.com/a-/AOh14GhrSvvDooqXZiD0drEXojYowkdCAA1ZAS9FDIVFnt8=s64",
      "userId": "13184423204279143700"
     },
     "user_tz": 180
    },
    "id": "-pueQTbASmYA",
    "outputId": "6cc43dd0-8fdb-42b0-f74f-a97cbd816979"
   },
   "outputs": [],
   "source": [
    "alumno_query = perfil_alumno_df[perfil_alumno_df['COD_ALUMNO'] == '201700000']\n"
   ]
  },
  {
   "cell_type": "code",
   "execution_count": 9,
   "metadata": {},
   "outputs": [
    {
     "data": {
      "text/plain": [
       "array([72])"
      ]
     },
     "execution_count": 9,
     "metadata": {},
     "output_type": "execute_result"
    }
   ],
   "source": [
    "total_creditos = alumno_query['201901'].values + alumno_query['201902'].values + alumno_query['202001'].values + alumno_query['202002'].values\n",
    "total_creditos\n",
    "    "
   ]
  },
  {
   "cell_type": "code",
   "execution_count": null,
   "metadata": {
    "executionInfo": {
     "elapsed": 969,
     "status": "ok",
     "timestamp": 1604243865558,
     "user": {
      "displayName": "Nury Yuleny Arosquipa Yanque",
      "photoUrl": "https://lh3.googleusercontent.com/a-/AOh14GhrSvvDooqXZiD0drEXojYowkdCAA1ZAS9FDIVFnt8=s64",
      "userId": "13184423204279143700"
     },
     "user_tz": 180
    },
    "id": "aMRnqZ0GJGJi"
   },
   "outputs": [],
   "source": [
    "#Si un alumno tiene en los 4 semestre 18 cred como max tiene 1\n",
    "\n",
    "def rendimiento_alumno(cod_alumno):\n",
    "    # si en el periodo 201901 tiene 18, en el periodo 201902 tiene 18, si en el periodo 202001 tiene 18, si en el periodo 202002 tiene 18, entonces 1\n",
    "    alumno_query = perfil_alumno_df[perfil_alumno_df['COD_ALUMNO'] == cod_alumno]\n",
    "    total_creditos = alumno_query['201901'].values + alumno_query['201902'].values + alumno_query['202001'].values + alumno_query['202002'].values    \n",
    "    performance = total_creditos[0] / 4    \n",
    "    print(performance)\n",
    "    if performance <= 18.0:\n",
    "        return 1\n",
    "\n",
    "    # CASO 2\n",
    "\n",
    "    # CASO 3\n",
    "\n",
    "    # cASO 4\n",
    "\n",
    "    return -1"
   ]
  },
  {
   "cell_type": "code",
   "execution_count": null,
   "metadata": {
    "colab": {
     "base_uri": "https://localhost:8080/"
    },
    "executionInfo": {
     "elapsed": 938,
     "status": "ok",
     "timestamp": 1604243820094,
     "user": {
      "displayName": "Nury Yuleny Arosquipa Yanque",
      "photoUrl": "https://lh3.googleusercontent.com/a-/AOh14GhrSvvDooqXZiD0drEXojYowkdCAA1ZAS9FDIVFnt8=s64",
      "userId": "13184423204279143700"
     },
     "user_tz": 180
    },
    "id": "YHdYYnwUSBSp",
    "outputId": "e9f66dd9-e8d9-41a4-ab9a-4c19331e4bdd"
   },
   "outputs": [],
   "source": [
    "cod_alumno = '201818909'\n",
    "print(rendimiento_alumno(cod_alumno))"
   ]
  },
  {
   "cell_type": "code",
   "execution_count": null,
   "metadata": {
    "id": "snHVhO5rJifx"
   },
   "outputs": [],
   "source": [
    "#Si un alumno tiene en los 4 semestre 23 cred como max tiene 4"
   ]
  },
  {
   "cell_type": "code",
   "execution_count": null,
   "metadata": {
    "id": "GR4ANGIqJm17"
   },
   "outputs": [],
   "source": [
    "#Si un alumno tiene en los 4 semestre 27 cred como max tiene 5"
   ]
  },
  {
   "cell_type": "code",
   "execution_count": null,
   "metadata": {
    "id": "GOnU5iZsJqE7"
   },
   "outputs": [],
   "source": [
    "#Si un alumno tiene en los últimos periodos 18 cred max y en uno mayor a este, tiene 2"
   ]
  },
  {
   "cell_type": "code",
   "execution_count": null,
   "metadata": {
    "id": "_pwW83GJJtaS"
   },
   "outputs": [],
   "source": [
    "#Si un alumno tiene en en sus periodos 23 y 27 y en el último 18  tiene 3"
   ]
  },
  {
   "cell_type": "code",
   "execution_count": null,
   "metadata": {
    "id": "RIS4Z-wFJwRW"
   },
   "outputs": [],
   "source": [
    "#Si un alumno tiene en el último periodo 27 cred y en sus últimos periodos variabilidad tiene 3.5\n",
    "\n",
    "#Si un alumno termina en su último ciclo con 27 tiene 4\n",
    "\n",
    "#Si un alumno termina en su último ciclo con 27 y en unos de sus últimos 4 periodos 27 tiene 4.5\n"
   ]
  },
  {
   "cell_type": "code",
   "execution_count": null,
   "metadata": {
    "id": "mnOgFhrGZrva"
   },
   "outputs": [],
   "source": [
    "# cargar en esta variable el banco de cursos ing industrial\n",
    "\n",
    "banco_de_cursos = {\n",
    "                   'A': 17, aprobados/total_alumno, ES_CRITICO\n",
    "                   'B', 16, *, NO_CRITICO\n",
    "                   'C', 14. ***, NO_CRITICO\n",
    "}\n",
    "\n",
    "curso_disponibles_alumno = [\"A\", \"B\", \"C\"]\n",
    "\n",
    "def cursos_recomendados_alumno(cursos_disponibles_alumno):\n",
    "   for curso_disponible in cursos_disponibles_alumno:\n",
    "       descripcion_curso = banco_cursos[curso_disponible]\n",
    "       # heuristica para colocar probabilidad de recomendacion a partir de la descripcion del curso\n",
    "      \n",
    "      A, 0.9\n",
    "      B, 0.7\n",
    "      C, 0.1\n",
    " \n",
    "\n"
   ]
  },
  {
   "cell_type": "markdown",
   "metadata": {},
   "source": [
    "## Banco de cursos"
   ]
  },
  {
   "cell_type": "code",
   "execution_count": 38,
   "metadata": {},
   "outputs": [],
   "source": [
    "import pandas as pd"
   ]
  },
  {
   "cell_type": "code",
   "execution_count": 39,
   "metadata": {},
   "outputs": [],
   "source": [
    "banco_cursos = pd.read_csv('../data/cursos_curricula_requisitos.csv', index_col='Unnamed: 0', sep=';')"
   ]
  },
  {
   "cell_type": "code",
   "execution_count": 40,
   "metadata": {},
   "outputs": [
    {
     "data": {
      "text/plain": [
       "Index(['COD_LINEA_NEGOCIO', 'COD_PRODUCTO', 'DESC_PRODUCTO', 'COD_CURRICULO',\n",
       "       'DESC_CURRICULO', 'COD_CURSO', 'DESC_CURSO', 'DESC_ABRE_CURSO', 'clave',\n",
       "       'COD_DIRECCION', 'NOM_DIRECCION', 'COD_CURSO_ELEC', 'CICLO',\n",
       "       'CANT_CREDITOS', 'CANT_CREDEQUIV', 'FECHA_CREACION', 'USUARIO_CREACION',\n",
       "       'FECHA_MODIFICACION', 'USUARIO_MODIFICACION', 'TOTAL CRED', 'REQUISITO',\n",
       "       'REQUISITO PYTHON', 'Ruta Critica', 'Unnamed: 24',\n",
       "       'prom_promedios_notas', 'prom_promedios_Aprob'],\n",
       "      dtype='object')"
      ]
     },
     "execution_count": 40,
     "metadata": {},
     "output_type": "execute_result"
    }
   ],
   "source": [
    "banco_cursos.columns"
   ]
  },
  {
   "cell_type": "code",
   "execution_count": 41,
   "metadata": {},
   "outputs": [],
   "source": [
    "banco_cursos = banco_cursos[['COD_CURRICULO', 'COD_CURSO', 'prom_promedios_notas', 'prom_promedios_Aprob', 'Ruta Critica', 'TOTAL CRED']]"
   ]
  },
  {
   "cell_type": "code",
   "execution_count": 42,
   "metadata": {},
   "outputs": [
    {
     "data": {
      "text/html": [
       "<div>\n",
       "<style scoped>\n",
       "    .dataframe tbody tr th:only-of-type {\n",
       "        vertical-align: middle;\n",
       "    }\n",
       "\n",
       "    .dataframe tbody tr th {\n",
       "        vertical-align: top;\n",
       "    }\n",
       "\n",
       "    .dataframe thead th {\n",
       "        text-align: right;\n",
       "    }\n",
       "</style>\n",
       "<table border=\"1\" class=\"dataframe\">\n",
       "  <thead>\n",
       "    <tr style=\"text-align: right;\">\n",
       "      <th></th>\n",
       "      <th>COD_CURRICULO</th>\n",
       "      <th>COD_CURSO</th>\n",
       "      <th>prom_promedios_notas</th>\n",
       "      <th>prom_promedios_Aprob</th>\n",
       "      <th>Ruta Critica</th>\n",
       "      <th>TOTAL CRED</th>\n",
       "    </tr>\n",
       "  </thead>\n",
       "  <tbody>\n",
       "    <tr>\n",
       "      <th>0</th>\n",
       "      <td>44</td>\n",
       "      <td>AM130</td>\n",
       "      <td>14,00</td>\n",
       "      <td>100%</td>\n",
       "      <td>1.0</td>\n",
       "      <td>3</td>\n",
       "    </tr>\n",
       "    <tr>\n",
       "      <th>1</th>\n",
       "      <td>45</td>\n",
       "      <td>AM130</td>\n",
       "      <td>15,26</td>\n",
       "      <td>80%</td>\n",
       "      <td>1.0</td>\n",
       "      <td>3</td>\n",
       "    </tr>\n",
       "    <tr>\n",
       "      <th>2</th>\n",
       "      <td>45</td>\n",
       "      <td>HU543</td>\n",
       "      <td>15,13</td>\n",
       "      <td>74%</td>\n",
       "      <td>2.0</td>\n",
       "      <td>4</td>\n",
       "    </tr>\n",
       "    <tr>\n",
       "      <th>3</th>\n",
       "      <td>45</td>\n",
       "      <td>HU548</td>\n",
       "      <td>14,15</td>\n",
       "      <td>65%</td>\n",
       "      <td>0.0</td>\n",
       "      <td>2</td>\n",
       "    </tr>\n",
       "    <tr>\n",
       "      <th>4</th>\n",
       "      <td>44</td>\n",
       "      <td>HU543</td>\n",
       "      <td>15,33</td>\n",
       "      <td>77%</td>\n",
       "      <td>2.0</td>\n",
       "      <td>4</td>\n",
       "    </tr>\n",
       "    <tr>\n",
       "      <th>...</th>\n",
       "      <td>...</td>\n",
       "      <td>...</td>\n",
       "      <td>...</td>\n",
       "      <td>...</td>\n",
       "      <td>...</td>\n",
       "      <td>...</td>\n",
       "    </tr>\n",
       "    <tr>\n",
       "      <th>548</th>\n",
       "      <td>41</td>\n",
       "      <td>HU522</td>\n",
       "      <td>15,70</td>\n",
       "      <td>58%</td>\n",
       "      <td>0.0</td>\n",
       "      <td>3</td>\n",
       "    </tr>\n",
       "    <tr>\n",
       "      <th>549</th>\n",
       "      <td>41</td>\n",
       "      <td>TR240</td>\n",
       "      <td>14,00</td>\n",
       "      <td>40%</td>\n",
       "      <td>0.0</td>\n",
       "      <td>3</td>\n",
       "    </tr>\n",
       "    <tr>\n",
       "      <th>550</th>\n",
       "      <td>41</td>\n",
       "      <td>HU469</td>\n",
       "      <td>16,44</td>\n",
       "      <td>75%</td>\n",
       "      <td>0.0</td>\n",
       "      <td>3</td>\n",
       "    </tr>\n",
       "    <tr>\n",
       "      <th>551</th>\n",
       "      <td>41</td>\n",
       "      <td>DE440</td>\n",
       "      <td>#DIV/0!</td>\n",
       "      <td>#DIV/0!</td>\n",
       "      <td>0.0</td>\n",
       "      <td>2</td>\n",
       "    </tr>\n",
       "    <tr>\n",
       "      <th>552</th>\n",
       "      <td>42</td>\n",
       "      <td>IN97</td>\n",
       "      <td>14,59</td>\n",
       "      <td>86%</td>\n",
       "      <td>0.0</td>\n",
       "      <td>4</td>\n",
       "    </tr>\n",
       "  </tbody>\n",
       "</table>\n",
       "<p>553 rows × 6 columns</p>\n",
       "</div>"
      ],
      "text/plain": [
       "     COD_CURRICULO COD_CURSO prom_promedios_notas prom_promedios_Aprob  \\\n",
       "0               44     AM130                14,00                 100%   \n",
       "1               45     AM130                15,26                  80%   \n",
       "2               45     HU543                15,13                  74%   \n",
       "3               45     HU548                14,15                  65%   \n",
       "4               44     HU543                15,33                  77%   \n",
       "..             ...       ...                  ...                  ...   \n",
       "548             41     HU522                15,70                  58%   \n",
       "549             41     TR240                14,00                  40%   \n",
       "550             41     HU469                16,44                  75%   \n",
       "551             41     DE440              #DIV/0!              #DIV/0!   \n",
       "552             42      IN97                14,59                  86%   \n",
       "\n",
       "     Ruta Critica  TOTAL CRED  \n",
       "0             1.0           3  \n",
       "1             1.0           3  \n",
       "2             2.0           4  \n",
       "3             0.0           2  \n",
       "4             2.0           4  \n",
       "..            ...         ...  \n",
       "548           0.0           3  \n",
       "549           0.0           3  \n",
       "550           0.0           3  \n",
       "551           0.0           2  \n",
       "552           0.0           4  \n",
       "\n",
       "[553 rows x 6 columns]"
      ]
     },
     "execution_count": 42,
     "metadata": {},
     "output_type": "execute_result"
    }
   ],
   "source": [
    "banco_cursos"
   ]
  },
  {
   "cell_type": "markdown",
   "metadata": {},
   "source": [
    "## Alumno y lista de cursos para matricula"
   ]
  },
  {
   "cell_type": "code",
   "execution_count": 1,
   "metadata": {
    "id": "CeOzEOufZmKi"
   },
   "outputs": [],
   "source": [
    "malla = 44\n",
    "cod_alumno = '201322051'\n",
    "lista_cursos = ['AH57', 'HU187', 'HU469', 'HU508', 'HU51', 'IN134', 'IN149', 'IN150', 'IN155', \\\n",
    "                'IN181','IN183','IN184', 'IN185', 'IN186', 'IN187', 'IN215', 'IN93', 'IN160', \\\n",
    "                'IN176', 'IN214', 'IN398', 'IN92','MA264']"
   ]
  },
  {
   "cell_type": "code",
   "execution_count": 2,
   "metadata": {},
   "outputs": [
    {
     "name": "stdout",
     "output_type": "stream",
     "text": [
      "23\n"
     ]
    }
   ],
   "source": [
    "print(len(lista_cursos))"
   ]
  },
  {
   "cell_type": "markdown",
   "metadata": {},
   "source": [
    "## Sistema de Recomendacion"
   ]
  },
  {
   "cell_type": "markdown",
   "metadata": {},
   "source": [
    "- Filtra por malla\n",
    "- Busca en el banco de datos la lista de cursos para matricula del alumno"
   ]
  },
  {
   "cell_type": "code",
   "execution_count": 20,
   "metadata": {},
   "outputs": [],
   "source": [
    "banco_cursos_malla = banco_cursos[banco_cursos['COD_CURRICULO'] == malla]"
   ]
  },
  {
   "cell_type": "code",
   "execution_count": 22,
   "metadata": {},
   "outputs": [
    {
     "data": {
      "text/html": [
       "<div>\n",
       "<style scoped>\n",
       "    .dataframe tbody tr th:only-of-type {\n",
       "        vertical-align: middle;\n",
       "    }\n",
       "\n",
       "    .dataframe tbody tr th {\n",
       "        vertical-align: top;\n",
       "    }\n",
       "\n",
       "    .dataframe thead th {\n",
       "        text-align: right;\n",
       "    }\n",
       "</style>\n",
       "<table border=\"1\" class=\"dataframe\">\n",
       "  <thead>\n",
       "    <tr style=\"text-align: right;\">\n",
       "      <th></th>\n",
       "      <th>COD_CURRICULO</th>\n",
       "      <th>COD_CURSO</th>\n",
       "      <th>prom_promedios_notas</th>\n",
       "      <th>prom_promedios_Aprob</th>\n",
       "      <th>Ruta Critica</th>\n",
       "    </tr>\n",
       "  </thead>\n",
       "  <tbody>\n",
       "    <tr>\n",
       "      <th>0</th>\n",
       "      <td>44</td>\n",
       "      <td>AM130</td>\n",
       "      <td>14,00</td>\n",
       "      <td>100%</td>\n",
       "      <td>1.0</td>\n",
       "    </tr>\n",
       "    <tr>\n",
       "      <th>4</th>\n",
       "      <td>44</td>\n",
       "      <td>HU543</td>\n",
       "      <td>15,33</td>\n",
       "      <td>77%</td>\n",
       "      <td>2.0</td>\n",
       "    </tr>\n",
       "    <tr>\n",
       "      <th>5</th>\n",
       "      <td>44</td>\n",
       "      <td>HU548</td>\n",
       "      <td>15,76</td>\n",
       "      <td>82%</td>\n",
       "      <td>0.0</td>\n",
       "    </tr>\n",
       "    <tr>\n",
       "      <th>6</th>\n",
       "      <td>44</td>\n",
       "      <td>HU187</td>\n",
       "      <td>15,10</td>\n",
       "      <td>80%</td>\n",
       "      <td>0.0</td>\n",
       "    </tr>\n",
       "    <tr>\n",
       "      <th>9</th>\n",
       "      <td>44</td>\n",
       "      <td>IN142</td>\n",
       "      <td>15,18</td>\n",
       "      <td>80%</td>\n",
       "      <td>1.0</td>\n",
       "    </tr>\n",
       "    <tr>\n",
       "      <th>...</th>\n",
       "      <td>...</td>\n",
       "      <td>...</td>\n",
       "      <td>...</td>\n",
       "      <td>...</td>\n",
       "      <td>...</td>\n",
       "    </tr>\n",
       "    <tr>\n",
       "      <th>225</th>\n",
       "      <td>44</td>\n",
       "      <td>TR197</td>\n",
       "      <td>#DIV/0!</td>\n",
       "      <td>#DIV/0!</td>\n",
       "      <td>0.0</td>\n",
       "    </tr>\n",
       "    <tr>\n",
       "      <th>227</th>\n",
       "      <td>44</td>\n",
       "      <td>TR223</td>\n",
       "      <td>#DIV/0!</td>\n",
       "      <td>#DIV/0!</td>\n",
       "      <td>0.0</td>\n",
       "    </tr>\n",
       "    <tr>\n",
       "      <th>229</th>\n",
       "      <td>44</td>\n",
       "      <td>TR240</td>\n",
       "      <td>14,00</td>\n",
       "      <td>40%</td>\n",
       "      <td>0.0</td>\n",
       "    </tr>\n",
       "    <tr>\n",
       "      <th>231</th>\n",
       "      <td>44</td>\n",
       "      <td>TR222</td>\n",
       "      <td>#DIV/0!</td>\n",
       "      <td>#DIV/0!</td>\n",
       "      <td>1.0</td>\n",
       "    </tr>\n",
       "    <tr>\n",
       "      <th>233</th>\n",
       "      <td>44</td>\n",
       "      <td>TR285</td>\n",
       "      <td>#DIV/0!</td>\n",
       "      <td>#DIV/0!</td>\n",
       "      <td>0.0</td>\n",
       "    </tr>\n",
       "  </tbody>\n",
       "</table>\n",
       "<p>112 rows × 5 columns</p>\n",
       "</div>"
      ],
      "text/plain": [
       "     COD_CURRICULO COD_CURSO prom_promedios_notas prom_promedios_Aprob  \\\n",
       "0               44     AM130                14,00                 100%   \n",
       "4               44     HU543                15,33                  77%   \n",
       "5               44     HU548                15,76                  82%   \n",
       "6               44     HU187                15,10                  80%   \n",
       "9               44     IN142                15,18                  80%   \n",
       "..             ...       ...                  ...                  ...   \n",
       "225             44     TR197              #DIV/0!              #DIV/0!   \n",
       "227             44     TR223              #DIV/0!              #DIV/0!   \n",
       "229             44     TR240                14,00                  40%   \n",
       "231             44     TR222              #DIV/0!              #DIV/0!   \n",
       "233             44     TR285              #DIV/0!              #DIV/0!   \n",
       "\n",
       "     Ruta Critica  \n",
       "0             1.0  \n",
       "4             2.0  \n",
       "5             0.0  \n",
       "6             0.0  \n",
       "9             1.0  \n",
       "..            ...  \n",
       "225           0.0  \n",
       "227           0.0  \n",
       "229           0.0  \n",
       "231           1.0  \n",
       "233           0.0  \n",
       "\n",
       "[112 rows x 5 columns]"
      ]
     },
     "execution_count": 22,
     "metadata": {},
     "output_type": "execute_result"
    }
   ],
   "source": [
    "banco_cursos_malla"
   ]
  },
  {
   "cell_type": "code",
   "execution_count": 34,
   "metadata": {},
   "outputs": [
    {
     "name": "stdout",
     "output_type": "stream",
     "text": [
      "   COD_CURSO prom_promedios_notas prom_promedios_Aprob  Ruta Critica\n",
      "73      AH57                15,96                  76%           0.0\n",
      "  COD_CURSO prom_promedios_notas prom_promedios_Aprob  Ruta Critica\n",
      "6     HU187                15,10                  80%           0.0\n",
      "   COD_CURSO prom_promedios_notas prom_promedios_Aprob  Ruta Critica\n",
      "68     HU469                16,44                  75%           0.0\n",
      "   COD_CURSO prom_promedios_notas prom_promedios_Aprob  Ruta Critica\n",
      "69     HU508                15,38                  78%           0.0\n",
      "    COD_CURSO prom_promedios_notas prom_promedios_Aprob  Ruta Critica\n",
      "203      HU51                15,76                  85%           0.0\n",
      "    COD_CURSO prom_promedios_notas prom_promedios_Aprob  Ruta Critica\n",
      "121     IN134                15,12                  95%           1.0\n",
      "    COD_CURSO prom_promedios_notas prom_promedios_Aprob  Ruta Critica\n",
      "157     IN149                15,04                  88%           0.0\n",
      "    COD_CURSO prom_promedios_notas prom_promedios_Aprob  Ruta Critica\n",
      "158     IN150                14,84                  75%           0.0\n",
      "    COD_CURSO prom_promedios_notas prom_promedios_Aprob  Ruta Critica\n",
      "163     IN155                16,02                  91%           0.0\n",
      "    COD_CURSO prom_promedios_notas prom_promedios_Aprob  Ruta Critica\n",
      "164     IN181                16,70                  91%           0.0\n",
      "    COD_CURSO prom_promedios_notas prom_promedios_Aprob  Ruta Critica\n",
      "159     IN183                15,79                  74%           0.0\n",
      "    COD_CURSO prom_promedios_notas prom_promedios_Aprob  Ruta Critica\n",
      "160     IN184                15,56                  81%           0.0\n",
      "    COD_CURSO prom_promedios_notas prom_promedios_Aprob  Ruta Critica\n",
      "161     IN185                13,21                  49%           0.0\n",
      "    COD_CURSO prom_promedios_notas prom_promedios_Aprob  Ruta Critica\n",
      "165     IN186                15,85                  75%           0.0\n",
      "    COD_CURSO prom_promedios_notas prom_promedios_Aprob  Ruta Critica\n",
      "162     IN187                15,64                  90%           0.0\n",
      "    COD_CURSO prom_promedios_notas prom_promedios_Aprob  Ruta Critica\n",
      "131     IN215                14,57                  89%           1.0\n",
      "    COD_CURSO prom_promedios_notas prom_promedios_Aprob  Ruta Critica\n",
      "156      IN93                15,54                  97%           1.0\n",
      "    COD_CURSO prom_promedios_notas prom_promedios_Aprob  Ruta Critica\n",
      "111     IN160                14,11                  88%           1.0\n",
      "    COD_CURSO prom_promedios_notas prom_promedios_Aprob  Ruta Critica\n",
      "130     IN176                13,63                  68%           2.0\n",
      "    COD_CURSO prom_promedios_notas prom_promedios_Aprob  Ruta Critica\n",
      "115     IN214                13,89                  69%           1.0\n",
      "    COD_CURSO prom_promedios_notas prom_promedios_Aprob  Ruta Critica\n",
      "114     IN398                14,30                  78%           1.0\n",
      "    COD_CURSO prom_promedios_notas prom_promedios_Aprob  Ruta Critica\n",
      "169      IN92                15,57                  94%           1.0\n",
      "    COD_CURSO prom_promedios_notas prom_promedios_Aprob  Ruta Critica\n",
      "177     MA264                15,07                  87%           1.0\n"
     ]
    }
   ],
   "source": [
    "for curso in lista_cursos:\n",
    "    print(banco_cursos_malla[banco_cursos_malla.COD_CURSO == curso][['COD_CURSO', 'prom_promedios_notas', 'prom_promedios_Aprob', 'Ruta Critica']])"
   ]
  },
  {
   "cell_type": "markdown",
   "metadata": {},
   "source": [
    "## Considerando rendimiento del alumno"
   ]
  },
  {
   "cell_type": "markdown",
   "metadata": {},
   "source": [
    "- Leer archivo que contiene perfil del alumno, recuperar valor de la columna \"RENDIMIENTO\" para ese alumno\n",
    "- Segun ese valor retornar los cursos recomendandos\n",
    "    - Si RENDIMIENTO igual BUENO(ranking 1) \n",
    "      retorno cursos segun ruta critica\n",
    "    - Si RENDIMIENTO igual REGULAR(ranking 2)\n",
    "      retorno cursos con mayor % de aprobacion y ruta critica\n",
    "    - Si RENDIMIENTO igual MALO\n",
    "      considerar promedios y aprobacion"
   ]
  },
  {
   "cell_type": "code",
   "execution_count": null,
   "metadata": {},
   "outputs": [],
   "source": []
  },
  {
   "cell_type": "code",
   "execution_count": null,
   "metadata": {},
   "outputs": [],
   "source": []
  },
  {
   "cell_type": "code",
   "execution_count": null,
   "metadata": {},
   "outputs": [],
   "source": []
  },
  {
   "cell_type": "code",
   "execution_count": null,
   "metadata": {},
   "outputs": [],
   "source": []
  },
  {
   "cell_type": "code",
   "execution_count": null,
   "metadata": {
    "id": "dGCy-4RAKAJE"
   },
   "outputs": [],
   "source": [
    "#escoger el curso que este vigente \n",
    "#recomendar el de mayor nota\n",
    "#considerar el ciclo en que se lleva el curso\n",
    "#el alumno tiene hasta 3 niveles de dispersion en reglamento\n",
    "#considerar que el alumno cubra su carga maxima teniendo la prioridad los cursos obligatorios y luego los electivos(dependera cuantos les faltan)\n",
    "#recomendar el curso que da mejor avance curricular como prioridad\n"
   ]
  }
 ],
 "metadata": {
  "colab": {
   "name": "Untitled0.ipynb",
   "provenance": []
  },
  "kernelspec": {
   "display_name": "Python 3",
   "language": "python",
   "name": "python3"
  },
  "language_info": {
   "codemirror_mode": {
    "name": "ipython",
    "version": 3
   },
   "file_extension": ".py",
   "mimetype": "text/x-python",
   "name": "python",
   "nbconvert_exporter": "python",
   "pygments_lexer": "ipython3",
   "version": "3.7.5"
  }
 },
 "nbformat": 4,
 "nbformat_minor": 1
}
