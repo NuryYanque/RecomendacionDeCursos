{
 "cells": [
  {
   "source": [],
   "cell_type": "markdown",
   "metadata": {
    "id": "jYKZ3xjJHJVI"
   }
  },
  {
   "cell_type": "markdown",
   "metadata": {
    "id": "e97jH19wJE4q"
   },
   "source": [
    "# PROMEDIO DE NOTAS"
   ]
  },
  {
   "cell_type": "code",
   "execution_count": 224,
   "metadata": {
    "id": "sJsLKdW2LEdc"
   },
   "outputs": [],
   "source": [
    "import pandas as pd"
   ]
  },
  {
   "cell_type": "code",
   "execution_count": 225,
   "metadata": {},
   "outputs": [
    {
     "output_type": "execute_result",
     "data": {
      "text/plain": [
       "  COD_ALUMNO  201901  201902  202001  202002  cuantos ciclos tiene el alumno  \\\n",
       "0  201818909       8     9.0    11.0    11.0                               4   \n",
       "1  201621635       6     7.0     9.0    12.0                               4   \n",
       "2  201710287      11     4.0     6.0     7.0                               4   \n",
       "3  201720918       7     8.0    11.0    11.0                               4   \n",
       "4  201810705       7     6.0     6.0     6.0                               4   \n",
       "\n",
       "   curricula   nivel alumno  201901.1  201902.1  ...  \\\n",
       "0          44             5        18        23  ...   \n",
       "1          44             3        18        18  ...   \n",
       "2          44             3        18        18  ...   \n",
       "3          44             4        18        23  ...   \n",
       "4          44             2        23        23  ...   \n",
       "\n",
       "   m_habil_DES_TIPO_INGRESO  SEXO  Edad  201901.4  201902.4  202001.4  \\\n",
       "0      SELECCIÓN PREFERENTE     1    19         0         0         0   \n",
       "1       EVALUACION INTEGRAL     1    23         0         1         0   \n",
       "2      SELECCIÓN PREFERENTE     0    22         1         1         1   \n",
       "3      SELECCIÓN PREFERENTE     0    21         1         0         0   \n",
       "4       EVALUACION INTEGRAL     0    22         0         0         0   \n",
       "\n",
       "   202002.4  0  1  RIESGO  \n",
       "0         0  4  0       0  \n",
       "1         0  3  1       0  \n",
       "2         0  1  3       0  \n",
       "3         0  3  1       0  \n",
       "4         0  4  0       0  \n",
       "\n",
       "[5 rows x 57 columns]"
      ],
      "text/html": "<div>\n<style scoped>\n    .dataframe tbody tr th:only-of-type {\n        vertical-align: middle;\n    }\n\n    .dataframe tbody tr th {\n        vertical-align: top;\n    }\n\n    .dataframe thead th {\n        text-align: right;\n    }\n</style>\n<table border=\"1\" class=\"dataframe\">\n  <thead>\n    <tr style=\"text-align: right;\">\n      <th></th>\n      <th>COD_ALUMNO</th>\n      <th>201901</th>\n      <th>201902</th>\n      <th>202001</th>\n      <th>202002</th>\n      <th>cuantos ciclos tiene el alumno</th>\n      <th>curricula</th>\n      <th>nivel alumno</th>\n      <th>201901.1</th>\n      <th>201902.1</th>\n      <th>...</th>\n      <th>m_habil_DES_TIPO_INGRESO</th>\n      <th>SEXO</th>\n      <th>Edad</th>\n      <th>201901.4</th>\n      <th>201902.4</th>\n      <th>202001.4</th>\n      <th>202002.4</th>\n      <th>0</th>\n      <th>1</th>\n      <th>RIESGO</th>\n    </tr>\n  </thead>\n  <tbody>\n    <tr>\n      <th>0</th>\n      <td>201818909</td>\n      <td>8</td>\n      <td>9.0</td>\n      <td>11.0</td>\n      <td>11.0</td>\n      <td>4</td>\n      <td>44</td>\n      <td>5</td>\n      <td>18</td>\n      <td>23</td>\n      <td>...</td>\n      <td>SELECCIÓN PREFERENTE</td>\n      <td>1</td>\n      <td>19</td>\n      <td>0</td>\n      <td>0</td>\n      <td>0</td>\n      <td>0</td>\n      <td>4</td>\n      <td>0</td>\n      <td>0</td>\n    </tr>\n    <tr>\n      <th>1</th>\n      <td>201621635</td>\n      <td>6</td>\n      <td>7.0</td>\n      <td>9.0</td>\n      <td>12.0</td>\n      <td>4</td>\n      <td>44</td>\n      <td>3</td>\n      <td>18</td>\n      <td>18</td>\n      <td>...</td>\n      <td>EVALUACION INTEGRAL</td>\n      <td>1</td>\n      <td>23</td>\n      <td>0</td>\n      <td>1</td>\n      <td>0</td>\n      <td>0</td>\n      <td>3</td>\n      <td>1</td>\n      <td>0</td>\n    </tr>\n    <tr>\n      <th>2</th>\n      <td>201710287</td>\n      <td>11</td>\n      <td>4.0</td>\n      <td>6.0</td>\n      <td>7.0</td>\n      <td>4</td>\n      <td>44</td>\n      <td>3</td>\n      <td>18</td>\n      <td>18</td>\n      <td>...</td>\n      <td>SELECCIÓN PREFERENTE</td>\n      <td>0</td>\n      <td>22</td>\n      <td>1</td>\n      <td>1</td>\n      <td>1</td>\n      <td>0</td>\n      <td>1</td>\n      <td>3</td>\n      <td>0</td>\n    </tr>\n    <tr>\n      <th>3</th>\n      <td>201720918</td>\n      <td>7</td>\n      <td>8.0</td>\n      <td>11.0</td>\n      <td>11.0</td>\n      <td>4</td>\n      <td>44</td>\n      <td>4</td>\n      <td>18</td>\n      <td>23</td>\n      <td>...</td>\n      <td>SELECCIÓN PREFERENTE</td>\n      <td>0</td>\n      <td>21</td>\n      <td>1</td>\n      <td>0</td>\n      <td>0</td>\n      <td>0</td>\n      <td>3</td>\n      <td>1</td>\n      <td>0</td>\n    </tr>\n    <tr>\n      <th>4</th>\n      <td>201810705</td>\n      <td>7</td>\n      <td>6.0</td>\n      <td>6.0</td>\n      <td>6.0</td>\n      <td>4</td>\n      <td>44</td>\n      <td>2</td>\n      <td>23</td>\n      <td>23</td>\n      <td>...</td>\n      <td>EVALUACION INTEGRAL</td>\n      <td>0</td>\n      <td>22</td>\n      <td>0</td>\n      <td>0</td>\n      <td>0</td>\n      <td>0</td>\n      <td>4</td>\n      <td>0</td>\n      <td>0</td>\n    </tr>\n  </tbody>\n</table>\n<p>5 rows × 57 columns</p>\n</div>"
     },
     "metadata": {},
     "execution_count": 225
    }
   ],
   "source": [
    "df_alumno = pd.read_csv('../data/Perfil_alumno.csv',sep=';' , encoding='latin-1')\n",
    "df_alumno.head(5)"
   ]
  },
  {
   "cell_type": "code",
   "execution_count": 226,
   "metadata": {},
   "outputs": [
    {
     "output_type": "execute_result",
     "data": {
      "text/plain": [
       "Index(['COD_ALUMNO', 'cuantos ciclos tiene el alumno', 'curricula ',\n",
       "       'nivel alumno', '201901.1', '201902.1', '202001.1', '202002.1', '18',\n",
       "       '23', '27', 'MAX_CREDITAJE', 'NUM_TURNO', 'POND_ACTUAL',\n",
       "       'POND_ACUMULADO', 'NUM_OBS_CONS', 'NUM_OBS_ALTE', 'TIPO_MERITO',\n",
       "       'm_habil_COD_CURSO', '201901.2', '201902.2', '202001.2', '202002.2',\n",
       "       '201901.3', '201902.3', '202001.3', '202002.3', 'COD_ESTADO_MAT_CUR',\n",
       "       'NUM_VEZ_CURSO', 'Extra_acad', 'NO', 'SI',\n",
       "       'promadio de aprobacion de cursos de manera historica',\n",
       "       'ADMINISTRACION', 'ADMINISTRACION Y MARKETING',\n",
       "       'ADMINISTRACION Y RECURSOS HUMANOS', 'CIENCIAS',\n",
       "       'ECONOMIA Y NEGOCIOS INTERNACIONALES', 'HUMANIDADES',\n",
       "       'INGENIERIA INDUSTRIAL', 'INICIATIVA EMPRESARIAL',\n",
       "       'TRADUCCION E INTERPRETACION PROFESIONAL', '#N/D',\n",
       "       'm_habil_DES_TIPO_INGRESO', 'SEXO', 'Edad', '201901.4', '201902.4',\n",
       "       '202001.4', '202002.4', '0', '1', 'RIESGO'],\n",
       "      dtype='object')"
      ]
     },
     "metadata": {},
     "execution_count": 226
    }
   ],
   "source": [
    "df_alumno =df_alumno.drop('201901',axis=1)\n",
    "df_alumno =df_alumno.drop('201902',axis=1)\n",
    "df_alumno =df_alumno.drop('202001',axis=1)\n",
    "df_alumno =df_alumno.drop('202002',axis=1)\n",
    "df_alumno.columns"
   ]
  },
  {
   "cell_type": "code",
   "execution_count": 227,
   "metadata": {},
   "outputs": [
    {
     "output_type": "execute_result",
     "data": {
      "text/plain": [
       "            cuantos ciclos tiene el alumno  curricula   nivel alumno  \\\n",
       "COD_ALUMNO                                                             \n",
       "201818909                                4          44             5   \n",
       "201621635                                4          44             3   \n",
       "201710287                                4          44             3   \n",
       "201720918                                4          44             4   \n",
       "201810705                                4          44             2   \n",
       "\n",
       "            201901.1  201902.1  202001.1  202002.1  18  23  27  ...  \\\n",
       "COD_ALUMNO                                                      ...   \n",
       "201818909         18        23        27        23   1   2   1  ...   \n",
       "201621635         18        18        23        23   2   2   0  ...   \n",
       "201710287         18        18        18        27   3   0   1  ...   \n",
       "201720918         18        23        23        23   1   3   0  ...   \n",
       "201810705         23        23        23        23   0   4   0  ...   \n",
       "\n",
       "            m_habil_DES_TIPO_INGRESO  SEXO  Edad  201901.4  201902.4  \\\n",
       "COD_ALUMNO                                                             \n",
       "201818909       SELECCIÓN PREFERENTE     1    19         0         0   \n",
       "201621635        EVALUACION INTEGRAL     1    23         0         1   \n",
       "201710287       SELECCIÓN PREFERENTE     0    22         1         1   \n",
       "201720918       SELECCIÓN PREFERENTE     0    21         1         0   \n",
       "201810705        EVALUACION INTEGRAL     0    22         0         0   \n",
       "\n",
       "            202001.4  202002.4  0  1  RIESGO  \n",
       "COD_ALUMNO                                    \n",
       "201818909          0         0  4  0       0  \n",
       "201621635          0         0  3  1       0  \n",
       "201710287          1         0  1  3       0  \n",
       "201720918          0         0  3  1       0  \n",
       "201810705          0         0  4  0       0  \n",
       "\n",
       "[5 rows x 52 columns]"
      ],
      "text/html": "<div>\n<style scoped>\n    .dataframe tbody tr th:only-of-type {\n        vertical-align: middle;\n    }\n\n    .dataframe tbody tr th {\n        vertical-align: top;\n    }\n\n    .dataframe thead th {\n        text-align: right;\n    }\n</style>\n<table border=\"1\" class=\"dataframe\">\n  <thead>\n    <tr style=\"text-align: right;\">\n      <th></th>\n      <th>cuantos ciclos tiene el alumno</th>\n      <th>curricula</th>\n      <th>nivel alumno</th>\n      <th>201901.1</th>\n      <th>201902.1</th>\n      <th>202001.1</th>\n      <th>202002.1</th>\n      <th>18</th>\n      <th>23</th>\n      <th>27</th>\n      <th>...</th>\n      <th>m_habil_DES_TIPO_INGRESO</th>\n      <th>SEXO</th>\n      <th>Edad</th>\n      <th>201901.4</th>\n      <th>201902.4</th>\n      <th>202001.4</th>\n      <th>202002.4</th>\n      <th>0</th>\n      <th>1</th>\n      <th>RIESGO</th>\n    </tr>\n    <tr>\n      <th>COD_ALUMNO</th>\n      <th></th>\n      <th></th>\n      <th></th>\n      <th></th>\n      <th></th>\n      <th></th>\n      <th></th>\n      <th></th>\n      <th></th>\n      <th></th>\n      <th></th>\n      <th></th>\n      <th></th>\n      <th></th>\n      <th></th>\n      <th></th>\n      <th></th>\n      <th></th>\n      <th></th>\n      <th></th>\n      <th></th>\n    </tr>\n  </thead>\n  <tbody>\n    <tr>\n      <th>201818909</th>\n      <td>4</td>\n      <td>44</td>\n      <td>5</td>\n      <td>18</td>\n      <td>23</td>\n      <td>27</td>\n      <td>23</td>\n      <td>1</td>\n      <td>2</td>\n      <td>1</td>\n      <td>...</td>\n      <td>SELECCIÓN PREFERENTE</td>\n      <td>1</td>\n      <td>19</td>\n      <td>0</td>\n      <td>0</td>\n      <td>0</td>\n      <td>0</td>\n      <td>4</td>\n      <td>0</td>\n      <td>0</td>\n    </tr>\n    <tr>\n      <th>201621635</th>\n      <td>4</td>\n      <td>44</td>\n      <td>3</td>\n      <td>18</td>\n      <td>18</td>\n      <td>23</td>\n      <td>23</td>\n      <td>2</td>\n      <td>2</td>\n      <td>0</td>\n      <td>...</td>\n      <td>EVALUACION INTEGRAL</td>\n      <td>1</td>\n      <td>23</td>\n      <td>0</td>\n      <td>1</td>\n      <td>0</td>\n      <td>0</td>\n      <td>3</td>\n      <td>1</td>\n      <td>0</td>\n    </tr>\n    <tr>\n      <th>201710287</th>\n      <td>4</td>\n      <td>44</td>\n      <td>3</td>\n      <td>18</td>\n      <td>18</td>\n      <td>18</td>\n      <td>27</td>\n      <td>3</td>\n      <td>0</td>\n      <td>1</td>\n      <td>...</td>\n      <td>SELECCIÓN PREFERENTE</td>\n      <td>0</td>\n      <td>22</td>\n      <td>1</td>\n      <td>1</td>\n      <td>1</td>\n      <td>0</td>\n      <td>1</td>\n      <td>3</td>\n      <td>0</td>\n    </tr>\n    <tr>\n      <th>201720918</th>\n      <td>4</td>\n      <td>44</td>\n      <td>4</td>\n      <td>18</td>\n      <td>23</td>\n      <td>23</td>\n      <td>23</td>\n      <td>1</td>\n      <td>3</td>\n      <td>0</td>\n      <td>...</td>\n      <td>SELECCIÓN PREFERENTE</td>\n      <td>0</td>\n      <td>21</td>\n      <td>1</td>\n      <td>0</td>\n      <td>0</td>\n      <td>0</td>\n      <td>3</td>\n      <td>1</td>\n      <td>0</td>\n    </tr>\n    <tr>\n      <th>201810705</th>\n      <td>4</td>\n      <td>44</td>\n      <td>2</td>\n      <td>23</td>\n      <td>23</td>\n      <td>23</td>\n      <td>23</td>\n      <td>0</td>\n      <td>4</td>\n      <td>0</td>\n      <td>...</td>\n      <td>EVALUACION INTEGRAL</td>\n      <td>0</td>\n      <td>22</td>\n      <td>0</td>\n      <td>0</td>\n      <td>0</td>\n      <td>0</td>\n      <td>4</td>\n      <td>0</td>\n      <td>0</td>\n    </tr>\n  </tbody>\n</table>\n<p>5 rows × 52 columns</p>\n</div>"
     },
     "metadata": {},
     "execution_count": 227
    }
   ],
   "source": [
    "df_alumno = df_alumno.set_index('COD_ALUMNO')\n",
    "df_alumno.head(5)"
   ]
  },
  {
   "cell_type": "code",
   "execution_count": 228,
   "metadata": {},
   "outputs": [],
   "source": [
    "df_alumno.rename(columns = {'201901.1': '201901', '201902.1': '201902','202001.1':'202001','202002.1':'202002'}, inplace = True)"
   ]
  },
  {
   "cell_type": "code",
   "execution_count": 229,
   "metadata": {},
   "outputs": [
    {
     "output_type": "execute_result",
     "data": {
      "text/plain": [
       "Index(['cuantos ciclos tiene el alumno', 'curricula ', 'nivel alumno',\n",
       "       '201901', '201902', '202001', '202002', '18', '23', '27',\n",
       "       'MAX_CREDITAJE', 'NUM_TURNO', 'POND_ACTUAL', 'POND_ACUMULADO',\n",
       "       'NUM_OBS_CONS', 'NUM_OBS_ALTE', 'TIPO_MERITO', 'm_habil_COD_CURSO',\n",
       "       '201901.2', '201902.2', '202001.2', '202002.2', '201901.3', '201902.3',\n",
       "       '202001.3', '202002.3', 'COD_ESTADO_MAT_CUR', 'NUM_VEZ_CURSO',\n",
       "       'Extra_acad', 'NO', 'SI',\n",
       "       'promadio de aprobacion de cursos de manera historica',\n",
       "       'ADMINISTRACION', 'ADMINISTRACION Y MARKETING',\n",
       "       'ADMINISTRACION Y RECURSOS HUMANOS', 'CIENCIAS',\n",
       "       'ECONOMIA Y NEGOCIOS INTERNACIONALES', 'HUMANIDADES',\n",
       "       'INGENIERIA INDUSTRIAL', 'INICIATIVA EMPRESARIAL',\n",
       "       'TRADUCCION E INTERPRETACION PROFESIONAL', '#N/D',\n",
       "       'm_habil_DES_TIPO_INGRESO', 'SEXO', 'Edad', '201901.4', '201902.4',\n",
       "       '202001.4', '202002.4', '0', '1', 'RIESGO'],\n",
       "      dtype='object')"
      ]
     },
     "metadata": {},
     "execution_count": 229
    }
   ],
   "source": [
    "df_alumno.columns"
   ]
  },
  {
   "cell_type": "code",
   "execution_count": 230,
   "metadata": {},
   "outputs": [
    {
     "output_type": "execute_result",
     "data": {
      "text/plain": [
       "        cuantos ciclos tiene el alumno  curricula   nivel alumno      201901  \\\n",
       "count                       735.000000  735.000000    735.000000  735.000000   \n",
       "unique                             NaN         NaN           NaN         NaN   \n",
       "top                                NaN         NaN           NaN         NaN   \n",
       "freq                               NaN         NaN           NaN         NaN   \n",
       "mean                          3.429932   43.427211      3.500680   21.756463   \n",
       "std                           0.989138    1.225221      1.288045    3.734625   \n",
       "min                           1.000000   41.000000      2.000000   18.000000   \n",
       "25%                           3.000000   44.000000      2.000000   18.000000   \n",
       "50%                           4.000000   44.000000      3.000000   23.000000   \n",
       "75%                           4.000000   44.000000      5.000000   27.000000   \n",
       "max                           4.000000   45.000000      7.000000   27.000000   \n",
       "\n",
       "            201902      202001      202002          18          23  \\\n",
       "count   735.000000  735.000000  735.000000  735.000000  735.000000   \n",
       "unique         NaN         NaN         NaN         NaN         NaN   \n",
       "top            NaN         NaN         NaN         NaN         NaN   \n",
       "freq           NaN         NaN         NaN         NaN         NaN   \n",
       "mean     19.695238   17.721088   17.863946    1.296599    0.975510   \n",
       "std       7.098541    9.663396   11.334185    1.191101    1.079635   \n",
       "min       0.000000    0.000000    0.000000    0.000000    0.000000   \n",
       "25%      18.000000   18.000000    0.000000    0.000000    0.000000   \n",
       "50%      18.000000   23.000000   23.000000    1.000000    1.000000   \n",
       "75%      23.000000   23.000000   27.000000    2.000000    2.000000   \n",
       "max      27.000000   27.000000   27.000000    4.000000    4.000000   \n",
       "\n",
       "                27  ...  m_habil_DES_TIPO_INGRESO        SEXO        Edad  \\\n",
       "count   735.000000  ...                       735  735.000000  735.000000   \n",
       "unique         NaN  ...                        12         NaN         NaN   \n",
       "top            NaN  ...      SELECCIÓN PREFERENTE         NaN         NaN   \n",
       "freq           NaN  ...                       361         NaN         NaN   \n",
       "mean      1.157823  ...                       NaN    0.537415   19.461224   \n",
       "std       1.380919  ...                       NaN    0.498938    6.441377   \n",
       "min       0.000000  ...                       NaN    0.000000    0.000000   \n",
       "25%       0.000000  ...                       NaN    0.000000   19.000000   \n",
       "50%       1.000000  ...                       NaN    1.000000   21.000000   \n",
       "75%       2.000000  ...                       NaN    1.000000   22.000000   \n",
       "max       4.000000  ...                       NaN    1.000000   33.000000   \n",
       "\n",
       "          201901.4    201902.4    202001.4    202002.4           0  \\\n",
       "count   735.000000  735.000000  735.000000  735.000000  735.000000   \n",
       "unique         NaN         NaN         NaN         NaN         NaN   \n",
       "top            NaN         NaN         NaN         NaN         NaN   \n",
       "freq           NaN         NaN         NaN         NaN         NaN   \n",
       "mean      0.195918    0.221769    0.151020    0.066667    3.364626   \n",
       "std       0.397176    0.415719    0.358313    0.249614    0.957034   \n",
       "min       0.000000    0.000000    0.000000    0.000000    0.000000   \n",
       "25%       0.000000    0.000000    0.000000    0.000000    3.000000   \n",
       "50%       0.000000    0.000000    0.000000    0.000000    4.000000   \n",
       "75%       0.000000    0.000000    0.000000    0.000000    4.000000   \n",
       "max       1.000000    1.000000    1.000000    1.000000    4.000000   \n",
       "\n",
       "                 1      RIESGO  \n",
       "count   735.000000  735.000000  \n",
       "unique         NaN         NaN  \n",
       "top            NaN         NaN  \n",
       "freq           NaN         NaN  \n",
       "mean      0.635374    0.050340  \n",
       "std       0.957034    0.218795  \n",
       "min       0.000000    0.000000  \n",
       "25%       0.000000    0.000000  \n",
       "50%       0.000000    0.000000  \n",
       "75%       1.000000    0.000000  \n",
       "max       4.000000    1.000000  \n",
       "\n",
       "[11 rows x 52 columns]"
      ],
      "text/html": "<div>\n<style scoped>\n    .dataframe tbody tr th:only-of-type {\n        vertical-align: middle;\n    }\n\n    .dataframe tbody tr th {\n        vertical-align: top;\n    }\n\n    .dataframe thead th {\n        text-align: right;\n    }\n</style>\n<table border=\"1\" class=\"dataframe\">\n  <thead>\n    <tr style=\"text-align: right;\">\n      <th></th>\n      <th>cuantos ciclos tiene el alumno</th>\n      <th>curricula</th>\n      <th>nivel alumno</th>\n      <th>201901</th>\n      <th>201902</th>\n      <th>202001</th>\n      <th>202002</th>\n      <th>18</th>\n      <th>23</th>\n      <th>27</th>\n      <th>...</th>\n      <th>m_habil_DES_TIPO_INGRESO</th>\n      <th>SEXO</th>\n      <th>Edad</th>\n      <th>201901.4</th>\n      <th>201902.4</th>\n      <th>202001.4</th>\n      <th>202002.4</th>\n      <th>0</th>\n      <th>1</th>\n      <th>RIESGO</th>\n    </tr>\n  </thead>\n  <tbody>\n    <tr>\n      <th>count</th>\n      <td>735.000000</td>\n      <td>735.000000</td>\n      <td>735.000000</td>\n      <td>735.000000</td>\n      <td>735.000000</td>\n      <td>735.000000</td>\n      <td>735.000000</td>\n      <td>735.000000</td>\n      <td>735.000000</td>\n      <td>735.000000</td>\n      <td>...</td>\n      <td>735</td>\n      <td>735.000000</td>\n      <td>735.000000</td>\n      <td>735.000000</td>\n      <td>735.000000</td>\n      <td>735.000000</td>\n      <td>735.000000</td>\n      <td>735.000000</td>\n      <td>735.000000</td>\n      <td>735.000000</td>\n    </tr>\n    <tr>\n      <th>unique</th>\n      <td>NaN</td>\n      <td>NaN</td>\n      <td>NaN</td>\n      <td>NaN</td>\n      <td>NaN</td>\n      <td>NaN</td>\n      <td>NaN</td>\n      <td>NaN</td>\n      <td>NaN</td>\n      <td>NaN</td>\n      <td>...</td>\n      <td>12</td>\n      <td>NaN</td>\n      <td>NaN</td>\n      <td>NaN</td>\n      <td>NaN</td>\n      <td>NaN</td>\n      <td>NaN</td>\n      <td>NaN</td>\n      <td>NaN</td>\n      <td>NaN</td>\n    </tr>\n    <tr>\n      <th>top</th>\n      <td>NaN</td>\n      <td>NaN</td>\n      <td>NaN</td>\n      <td>NaN</td>\n      <td>NaN</td>\n      <td>NaN</td>\n      <td>NaN</td>\n      <td>NaN</td>\n      <td>NaN</td>\n      <td>NaN</td>\n      <td>...</td>\n      <td>SELECCIÓN PREFERENTE</td>\n      <td>NaN</td>\n      <td>NaN</td>\n      <td>NaN</td>\n      <td>NaN</td>\n      <td>NaN</td>\n      <td>NaN</td>\n      <td>NaN</td>\n      <td>NaN</td>\n      <td>NaN</td>\n    </tr>\n    <tr>\n      <th>freq</th>\n      <td>NaN</td>\n      <td>NaN</td>\n      <td>NaN</td>\n      <td>NaN</td>\n      <td>NaN</td>\n      <td>NaN</td>\n      <td>NaN</td>\n      <td>NaN</td>\n      <td>NaN</td>\n      <td>NaN</td>\n      <td>...</td>\n      <td>361</td>\n      <td>NaN</td>\n      <td>NaN</td>\n      <td>NaN</td>\n      <td>NaN</td>\n      <td>NaN</td>\n      <td>NaN</td>\n      <td>NaN</td>\n      <td>NaN</td>\n      <td>NaN</td>\n    </tr>\n    <tr>\n      <th>mean</th>\n      <td>3.429932</td>\n      <td>43.427211</td>\n      <td>3.500680</td>\n      <td>21.756463</td>\n      <td>19.695238</td>\n      <td>17.721088</td>\n      <td>17.863946</td>\n      <td>1.296599</td>\n      <td>0.975510</td>\n      <td>1.157823</td>\n      <td>...</td>\n      <td>NaN</td>\n      <td>0.537415</td>\n      <td>19.461224</td>\n      <td>0.195918</td>\n      <td>0.221769</td>\n      <td>0.151020</td>\n      <td>0.066667</td>\n      <td>3.364626</td>\n      <td>0.635374</td>\n      <td>0.050340</td>\n    </tr>\n    <tr>\n      <th>std</th>\n      <td>0.989138</td>\n      <td>1.225221</td>\n      <td>1.288045</td>\n      <td>3.734625</td>\n      <td>7.098541</td>\n      <td>9.663396</td>\n      <td>11.334185</td>\n      <td>1.191101</td>\n      <td>1.079635</td>\n      <td>1.380919</td>\n      <td>...</td>\n      <td>NaN</td>\n      <td>0.498938</td>\n      <td>6.441377</td>\n      <td>0.397176</td>\n      <td>0.415719</td>\n      <td>0.358313</td>\n      <td>0.249614</td>\n      <td>0.957034</td>\n      <td>0.957034</td>\n      <td>0.218795</td>\n    </tr>\n    <tr>\n      <th>min</th>\n      <td>1.000000</td>\n      <td>41.000000</td>\n      <td>2.000000</td>\n      <td>18.000000</td>\n      <td>0.000000</td>\n      <td>0.000000</td>\n      <td>0.000000</td>\n      <td>0.000000</td>\n      <td>0.000000</td>\n      <td>0.000000</td>\n      <td>...</td>\n      <td>NaN</td>\n      <td>0.000000</td>\n      <td>0.000000</td>\n      <td>0.000000</td>\n      <td>0.000000</td>\n      <td>0.000000</td>\n      <td>0.000000</td>\n      <td>0.000000</td>\n      <td>0.000000</td>\n      <td>0.000000</td>\n    </tr>\n    <tr>\n      <th>25%</th>\n      <td>3.000000</td>\n      <td>44.000000</td>\n      <td>2.000000</td>\n      <td>18.000000</td>\n      <td>18.000000</td>\n      <td>18.000000</td>\n      <td>0.000000</td>\n      <td>0.000000</td>\n      <td>0.000000</td>\n      <td>0.000000</td>\n      <td>...</td>\n      <td>NaN</td>\n      <td>0.000000</td>\n      <td>19.000000</td>\n      <td>0.000000</td>\n      <td>0.000000</td>\n      <td>0.000000</td>\n      <td>0.000000</td>\n      <td>3.000000</td>\n      <td>0.000000</td>\n      <td>0.000000</td>\n    </tr>\n    <tr>\n      <th>50%</th>\n      <td>4.000000</td>\n      <td>44.000000</td>\n      <td>3.000000</td>\n      <td>23.000000</td>\n      <td>18.000000</td>\n      <td>23.000000</td>\n      <td>23.000000</td>\n      <td>1.000000</td>\n      <td>1.000000</td>\n      <td>1.000000</td>\n      <td>...</td>\n      <td>NaN</td>\n      <td>1.000000</td>\n      <td>21.000000</td>\n      <td>0.000000</td>\n      <td>0.000000</td>\n      <td>0.000000</td>\n      <td>0.000000</td>\n      <td>4.000000</td>\n      <td>0.000000</td>\n      <td>0.000000</td>\n    </tr>\n    <tr>\n      <th>75%</th>\n      <td>4.000000</td>\n      <td>44.000000</td>\n      <td>5.000000</td>\n      <td>27.000000</td>\n      <td>23.000000</td>\n      <td>23.000000</td>\n      <td>27.000000</td>\n      <td>2.000000</td>\n      <td>2.000000</td>\n      <td>2.000000</td>\n      <td>...</td>\n      <td>NaN</td>\n      <td>1.000000</td>\n      <td>22.000000</td>\n      <td>0.000000</td>\n      <td>0.000000</td>\n      <td>0.000000</td>\n      <td>0.000000</td>\n      <td>4.000000</td>\n      <td>1.000000</td>\n      <td>0.000000</td>\n    </tr>\n    <tr>\n      <th>max</th>\n      <td>4.000000</td>\n      <td>45.000000</td>\n      <td>7.000000</td>\n      <td>27.000000</td>\n      <td>27.000000</td>\n      <td>27.000000</td>\n      <td>27.000000</td>\n      <td>4.000000</td>\n      <td>4.000000</td>\n      <td>4.000000</td>\n      <td>...</td>\n      <td>NaN</td>\n      <td>1.000000</td>\n      <td>33.000000</td>\n      <td>1.000000</td>\n      <td>1.000000</td>\n      <td>1.000000</td>\n      <td>1.000000</td>\n      <td>4.000000</td>\n      <td>4.000000</td>\n      <td>1.000000</td>\n    </tr>\n  </tbody>\n</table>\n<p>11 rows × 52 columns</p>\n</div>"
     },
     "metadata": {},
     "execution_count": 230
    }
   ],
   "source": [
    "df_alumno.describe(include=\"all\")"
   ]
  },
  {
   "cell_type": "code",
   "execution_count": 231,
   "metadata": {},
   "outputs": [],
   "source": [
    "def cat_alumno(df):\n",
    "    val_temp = 0\n",
    "    cont_temp = 0\n",
    "    if  df['201901'] == 27 :\n",
    "        val_temp = val_temp + df['201901'] * 0.15\n",
    "        cont_temp = cont_temp + 1\n",
    "    elif df['201901'] == 23 :\n",
    "        val_temp = val_temp + df['201901'] * 0.15\n",
    "        cont_temp = cont_temp + 1\n",
    "    elif df['201901'] == 18 :\n",
    "        val_temp = val_temp + df['201901'] * 0.15\n",
    "        cont_temp = cont_temp + 1\n",
    "\n",
    "    if df['201902'] == 27 :\n",
    "        val_temp = val_temp + df['201902'] * 0.15\n",
    "        cont_temp = cont_temp + 1\n",
    "    elif df['201902'] == 23 :\n",
    "        val_temp = val_temp + df['201902'] * 0.15\n",
    "        cont_temp = cont_temp + 1\n",
    "    elif df['201902'] == 18 :\n",
    "        val_temp = val_temp + df['201902'] * 0.15\n",
    "        cont_temp = cont_temp + 1\n",
    "\n",
    "    if df['202001'] == 27 :\n",
    "        val_temp = val_temp + df['202001'] * 0.3\n",
    "        cont_temp = cont_temp + 1\n",
    "    elif df['202001'] == 23 :\n",
    "        val_temp = val_temp + df['202001'] * 0.3\n",
    "        cont_temp = cont_temp + 1\n",
    "    elif df['202001'] == 18 :\n",
    "        val_temp = val_temp + df['202001'] * 0.3\n",
    "        cont_temp = cont_temp + 1\n",
    "    \n",
    "    if df['202002'] == 27 :\n",
    "        val_temp = val_temp + df['202002'] * 0.4\n",
    "        cont_temp = cont_temp + 1\n",
    "    elif df['202002'] == 23 :\n",
    "        val_temp = val_temp + df['202002'] * 0.4\n",
    "        cont_temp = cont_temp + 1\n",
    "    elif df['202002'] == 18 :\n",
    "        val_temp = val_temp + df['202002'] * 0.4\n",
    "        cont_temp = cont_temp + 1\n",
    "\n",
    "    val_temp = val_temp / cont_temp\n",
    "    return val_temp"
   ]
  },
  {
   "cell_type": "code",
   "execution_count": 232,
   "metadata": {},
   "outputs": [],
   "source": [
    "# renombrar CategoriaAlumno por rendimiento\n",
    "df_alumno['CategoriaAlumno'] = df_alumno.apply(cat_alumno, axis=1)"
   ]
  },
  {
   "cell_type": "code",
   "execution_count": 233,
   "metadata": {},
   "outputs": [
    {
     "output_type": "execute_result",
     "data": {
      "text/plain": [
       "            201901  201902  202001  202002  CategoriaAlumno\n",
       "COD_ALUMNO                                                 \n",
       "201818909       18      23      27      23           7.7125\n",
       "201621635       18      18      23      23           3.7750\n",
       "201710287       18      18      18      27           5.7375\n",
       "201720918       18      23      23      23           4.7625\n",
       "201810705       23      23      23      23           5.7500\n",
       "...            ...     ...     ...     ...              ...\n",
       "20161D186       27      27      23      27          14.6000\n",
       "201822729       23      23      23      27           8.7000\n",
       "201818795       18      27      23      23           7.7125\n",
       "20181D993       27      27      23      27          14.6000\n",
       "201815082       18      27      27      27          13.6125\n",
       "\n",
       "[735 rows x 5 columns]"
      ],
      "text/html": "<div>\n<style scoped>\n    .dataframe tbody tr th:only-of-type {\n        vertical-align: middle;\n    }\n\n    .dataframe tbody tr th {\n        vertical-align: top;\n    }\n\n    .dataframe thead th {\n        text-align: right;\n    }\n</style>\n<table border=\"1\" class=\"dataframe\">\n  <thead>\n    <tr style=\"text-align: right;\">\n      <th></th>\n      <th>201901</th>\n      <th>201902</th>\n      <th>202001</th>\n      <th>202002</th>\n      <th>CategoriaAlumno</th>\n    </tr>\n    <tr>\n      <th>COD_ALUMNO</th>\n      <th></th>\n      <th></th>\n      <th></th>\n      <th></th>\n      <th></th>\n    </tr>\n  </thead>\n  <tbody>\n    <tr>\n      <th>201818909</th>\n      <td>18</td>\n      <td>23</td>\n      <td>27</td>\n      <td>23</td>\n      <td>7.7125</td>\n    </tr>\n    <tr>\n      <th>201621635</th>\n      <td>18</td>\n      <td>18</td>\n      <td>23</td>\n      <td>23</td>\n      <td>3.7750</td>\n    </tr>\n    <tr>\n      <th>201710287</th>\n      <td>18</td>\n      <td>18</td>\n      <td>18</td>\n      <td>27</td>\n      <td>5.7375</td>\n    </tr>\n    <tr>\n      <th>201720918</th>\n      <td>18</td>\n      <td>23</td>\n      <td>23</td>\n      <td>23</td>\n      <td>4.7625</td>\n    </tr>\n    <tr>\n      <th>201810705</th>\n      <td>23</td>\n      <td>23</td>\n      <td>23</td>\n      <td>23</td>\n      <td>5.7500</td>\n    </tr>\n    <tr>\n      <th>...</th>\n      <td>...</td>\n      <td>...</td>\n      <td>...</td>\n      <td>...</td>\n      <td>...</td>\n    </tr>\n    <tr>\n      <th>20161D186</th>\n      <td>27</td>\n      <td>27</td>\n      <td>23</td>\n      <td>27</td>\n      <td>14.6000</td>\n    </tr>\n    <tr>\n      <th>201822729</th>\n      <td>23</td>\n      <td>23</td>\n      <td>23</td>\n      <td>27</td>\n      <td>8.7000</td>\n    </tr>\n    <tr>\n      <th>201818795</th>\n      <td>18</td>\n      <td>27</td>\n      <td>23</td>\n      <td>23</td>\n      <td>7.7125</td>\n    </tr>\n    <tr>\n      <th>20181D993</th>\n      <td>27</td>\n      <td>27</td>\n      <td>23</td>\n      <td>27</td>\n      <td>14.6000</td>\n    </tr>\n    <tr>\n      <th>201815082</th>\n      <td>18</td>\n      <td>27</td>\n      <td>27</td>\n      <td>27</td>\n      <td>13.6125</td>\n    </tr>\n  </tbody>\n</table>\n<p>735 rows × 5 columns</p>\n</div>"
     },
     "metadata": {},
     "execution_count": 233
    }
   ],
   "source": [
    "df_alumno[['201901', '201902', '202001', '202002','CategoriaAlumno']]"
   ]
  },
  {
   "cell_type": "code",
   "execution_count": 234,
   "metadata": {},
   "outputs": [
    {
     "output_type": "execute_result",
     "data": {
      "text/plain": [
       "count    735.000000\n",
       "mean       7.635499\n",
       "std        5.372108\n",
       "min        1.800000\n",
       "25%        2.787500\n",
       "50%        6.725000\n",
       "75%       11.650000\n",
       "max       17.550000\n",
       "Name: CategoriaAlumno, dtype: float64"
      ]
     },
     "metadata": {},
     "execution_count": 234
    }
   ],
   "source": [
    "dataframe= df_alumno['CategoriaAlumno'].describe()\n",
    "dataframe"
   ]
  },
  {
   "cell_type": "code",
   "execution_count": 235,
   "metadata": {},
   "outputs": [],
   "source": [
    "#val_25 = dataframe['25%']\n",
    "#val_50 = dataframe['50%']\n",
    "#val_75 = dataframe['75%']\n",
    "val_max = dataframe['max']\n",
    "val_prim = val_max / 3\n",
    "val_seg = val_max * 2 / 3"
   ]
  },
  {
   "cell_type": "code",
   "execution_count": 236,
   "metadata": {},
   "outputs": [],
   "source": [
    "def tipo_alumno(df, val_prim, val_seg, val_max):\n",
    "    # 0 < 13.5 && \n",
    "    # CAMBIAR A SOLO 3 CATEGORIAS val_max/3 val_max*2/3 val_max\n",
    "    if df['CategoriaAlumno'] <= val_prim:\n",
    "        return 1\n",
    "    elif val_prim < df['CategoriaAlumno'] and df['CategoriaAlumno'] <= val_seg :    \n",
    "        return 2\n",
    "    elif val_seg  < df['CategoriaAlumno'] and df['CategoriaAlumno'] <= val_max:\n",
    "        return 3\n",
    "\n",
    "\n"
   ]
  },
  {
   "cell_type": "code",
   "execution_count": 237,
   "metadata": {},
   "outputs": [],
   "source": [
    "df_alumno['ranking'] = df_alumno.apply(tipo_alumno, args=(val_prim, val_seg, val_max), axis=1)"
   ]
  },
  {
   "cell_type": "code",
   "execution_count": 238,
   "metadata": {},
   "outputs": [
    {
     "output_type": "execute_result",
     "data": {
      "text/plain": [
       "            201901  201902  202001  202002  CategoriaAlumno  ranking\n",
       "COD_ALUMNO                                                          \n",
       "201818909       18      23      27      23           7.7125        2\n",
       "201621635       18      18      23      23           3.7750        1\n",
       "201710287       18      18      18      27           5.7375        1\n",
       "201720918       18      23      23      23           4.7625        1\n",
       "201810705       23      23      23      23           5.7500        1\n",
       "...            ...     ...     ...     ...              ...      ...\n",
       "20161D186       27      27      23      27          14.6000        3\n",
       "201822729       23      23      23      27           8.7000        2\n",
       "201818795       18      27      23      23           7.7125        2\n",
       "20181D993       27      27      23      27          14.6000        3\n",
       "201815082       18      27      27      27          13.6125        3\n",
       "\n",
       "[735 rows x 6 columns]"
      ],
      "text/html": "<div>\n<style scoped>\n    .dataframe tbody tr th:only-of-type {\n        vertical-align: middle;\n    }\n\n    .dataframe tbody tr th {\n        vertical-align: top;\n    }\n\n    .dataframe thead th {\n        text-align: right;\n    }\n</style>\n<table border=\"1\" class=\"dataframe\">\n  <thead>\n    <tr style=\"text-align: right;\">\n      <th></th>\n      <th>201901</th>\n      <th>201902</th>\n      <th>202001</th>\n      <th>202002</th>\n      <th>CategoriaAlumno</th>\n      <th>ranking</th>\n    </tr>\n    <tr>\n      <th>COD_ALUMNO</th>\n      <th></th>\n      <th></th>\n      <th></th>\n      <th></th>\n      <th></th>\n      <th></th>\n    </tr>\n  </thead>\n  <tbody>\n    <tr>\n      <th>201818909</th>\n      <td>18</td>\n      <td>23</td>\n      <td>27</td>\n      <td>23</td>\n      <td>7.7125</td>\n      <td>2</td>\n    </tr>\n    <tr>\n      <th>201621635</th>\n      <td>18</td>\n      <td>18</td>\n      <td>23</td>\n      <td>23</td>\n      <td>3.7750</td>\n      <td>1</td>\n    </tr>\n    <tr>\n      <th>201710287</th>\n      <td>18</td>\n      <td>18</td>\n      <td>18</td>\n      <td>27</td>\n      <td>5.7375</td>\n      <td>1</td>\n    </tr>\n    <tr>\n      <th>201720918</th>\n      <td>18</td>\n      <td>23</td>\n      <td>23</td>\n      <td>23</td>\n      <td>4.7625</td>\n      <td>1</td>\n    </tr>\n    <tr>\n      <th>201810705</th>\n      <td>23</td>\n      <td>23</td>\n      <td>23</td>\n      <td>23</td>\n      <td>5.7500</td>\n      <td>1</td>\n    </tr>\n    <tr>\n      <th>...</th>\n      <td>...</td>\n      <td>...</td>\n      <td>...</td>\n      <td>...</td>\n      <td>...</td>\n      <td>...</td>\n    </tr>\n    <tr>\n      <th>20161D186</th>\n      <td>27</td>\n      <td>27</td>\n      <td>23</td>\n      <td>27</td>\n      <td>14.6000</td>\n      <td>3</td>\n    </tr>\n    <tr>\n      <th>201822729</th>\n      <td>23</td>\n      <td>23</td>\n      <td>23</td>\n      <td>27</td>\n      <td>8.7000</td>\n      <td>2</td>\n    </tr>\n    <tr>\n      <th>201818795</th>\n      <td>18</td>\n      <td>27</td>\n      <td>23</td>\n      <td>23</td>\n      <td>7.7125</td>\n      <td>2</td>\n    </tr>\n    <tr>\n      <th>20181D993</th>\n      <td>27</td>\n      <td>27</td>\n      <td>23</td>\n      <td>27</td>\n      <td>14.6000</td>\n      <td>3</td>\n    </tr>\n    <tr>\n      <th>201815082</th>\n      <td>18</td>\n      <td>27</td>\n      <td>27</td>\n      <td>27</td>\n      <td>13.6125</td>\n      <td>3</td>\n    </tr>\n  </tbody>\n</table>\n<p>735 rows × 6 columns</p>\n</div>"
     },
     "metadata": {},
     "execution_count": 238
    }
   ],
   "source": [
    "df_alumno[['201901', '201902', '202001', '202002','CategoriaAlumno','ranking']]"
   ]
  },
  {
   "cell_type": "code",
   "execution_count": 248,
   "metadata": {},
   "outputs": [],
   "source": [
    "df_base_alumno = df_alumno[['201901', '201902', '202001', '202002','CategoriaAlumno','ranking']]"
   ]
  },
  {
   "cell_type": "code",
   "execution_count": 263,
   "metadata": {},
   "outputs": [
    {
     "output_type": "execute_result",
     "data": {
      "text/plain": [
       "            201901  201902  202001  202002  CategoriaAlumno  ranking\n",
       "COD_ALUMNO                                                          \n",
       "201818909       18      23      27      23           7.7125        2\n",
       "201621635       18      18      23      23           3.7750        1\n",
       "201710287       18      18      18      27           5.7375        1\n",
       "201720918       18      23      23      23           4.7625        1\n",
       "201810705       23      23      23      23           5.7500        1\n",
       "...            ...     ...     ...     ...              ...      ...\n",
       "20161D186       27      27      23      27          14.6000        3\n",
       "201822729       23      23      23      27           8.7000        2\n",
       "201818795       18      27      23      23           7.7125        2\n",
       "20181D993       27      27      23      27          14.6000        3\n",
       "201815082       18      27      27      27          13.6125        3\n",
       "\n",
       "[735 rows x 6 columns]"
      ],
      "text/html": "<div>\n<style scoped>\n    .dataframe tbody tr th:only-of-type {\n        vertical-align: middle;\n    }\n\n    .dataframe tbody tr th {\n        vertical-align: top;\n    }\n\n    .dataframe thead th {\n        text-align: right;\n    }\n</style>\n<table border=\"1\" class=\"dataframe\">\n  <thead>\n    <tr style=\"text-align: right;\">\n      <th></th>\n      <th>201901</th>\n      <th>201902</th>\n      <th>202001</th>\n      <th>202002</th>\n      <th>CategoriaAlumno</th>\n      <th>ranking</th>\n    </tr>\n    <tr>\n      <th>COD_ALUMNO</th>\n      <th></th>\n      <th></th>\n      <th></th>\n      <th></th>\n      <th></th>\n      <th></th>\n    </tr>\n  </thead>\n  <tbody>\n    <tr>\n      <th>201818909</th>\n      <td>18</td>\n      <td>23</td>\n      <td>27</td>\n      <td>23</td>\n      <td>7.7125</td>\n      <td>2</td>\n    </tr>\n    <tr>\n      <th>201621635</th>\n      <td>18</td>\n      <td>18</td>\n      <td>23</td>\n      <td>23</td>\n      <td>3.7750</td>\n      <td>1</td>\n    </tr>\n    <tr>\n      <th>201710287</th>\n      <td>18</td>\n      <td>18</td>\n      <td>18</td>\n      <td>27</td>\n      <td>5.7375</td>\n      <td>1</td>\n    </tr>\n    <tr>\n      <th>201720918</th>\n      <td>18</td>\n      <td>23</td>\n      <td>23</td>\n      <td>23</td>\n      <td>4.7625</td>\n      <td>1</td>\n    </tr>\n    <tr>\n      <th>201810705</th>\n      <td>23</td>\n      <td>23</td>\n      <td>23</td>\n      <td>23</td>\n      <td>5.7500</td>\n      <td>1</td>\n    </tr>\n    <tr>\n      <th>...</th>\n      <td>...</td>\n      <td>...</td>\n      <td>...</td>\n      <td>...</td>\n      <td>...</td>\n      <td>...</td>\n    </tr>\n    <tr>\n      <th>20161D186</th>\n      <td>27</td>\n      <td>27</td>\n      <td>23</td>\n      <td>27</td>\n      <td>14.6000</td>\n      <td>3</td>\n    </tr>\n    <tr>\n      <th>201822729</th>\n      <td>23</td>\n      <td>23</td>\n      <td>23</td>\n      <td>27</td>\n      <td>8.7000</td>\n      <td>2</td>\n    </tr>\n    <tr>\n      <th>201818795</th>\n      <td>18</td>\n      <td>27</td>\n      <td>23</td>\n      <td>23</td>\n      <td>7.7125</td>\n      <td>2</td>\n    </tr>\n    <tr>\n      <th>20181D993</th>\n      <td>27</td>\n      <td>27</td>\n      <td>23</td>\n      <td>27</td>\n      <td>14.6000</td>\n      <td>3</td>\n    </tr>\n    <tr>\n      <th>201815082</th>\n      <td>18</td>\n      <td>27</td>\n      <td>27</td>\n      <td>27</td>\n      <td>13.6125</td>\n      <td>3</td>\n    </tr>\n  </tbody>\n</table>\n<p>735 rows × 6 columns</p>\n</div>"
     },
     "metadata": {},
     "execution_count": 263
    }
   ],
   "source": [
    "df_base_alumno"
   ]
  },
  {
   "cell_type": "code",
   "execution_count": 265,
   "metadata": {},
   "outputs": [],
   "source": [
    "cod_alumno_evaluar = '201811484'"
   ]
  },
  {
   "cell_type": "code",
   "execution_count": 269,
   "metadata": {},
   "outputs": [
    {
     "output_type": "execute_result",
     "data": {
      "text/plain": [
       "201901             27.00\n",
       "201902             27.00\n",
       "202001             27.00\n",
       "202002             27.00\n",
       "CategoriaAlumno    17.55\n",
       "ranking             3.00\n",
       "Name: 201811484, dtype: float64"
      ]
     },
     "metadata": {},
     "execution_count": 269
    }
   ],
   "source": [
    "df_base_alumno.loc[cod_alumno_evaluar]  # [['201901','201902','202001','202002','CategoriaAlumno','ranking']]"
   ]
  },
  {
   "cell_type": "code",
   "execution_count": 260,
   "metadata": {},
   "outputs": [
    {
     "output_type": "execute_result",
     "data": {
      "text/plain": [
       "            201901  201902  202001  202002  CategoriaAlumno  ranking\n",
       "COD_ALUMNO                                                          \n",
       "201818909       18      23      27      23           7.7125        2\n",
       "201621635       18      18      23      23           3.7750        1\n",
       "201710287       18      18      18      27           5.7375        1\n",
       "201720918       18      23      23      23           4.7625        1\n",
       "201810705       23      23      23      23           5.7500        1\n",
       "...            ...     ...     ...     ...              ...      ...\n",
       "20161D186       27      27      23      27          14.6000        3\n",
       "201822729       23      23      23      27           8.7000        2\n",
       "201818795       18      27      23      23           7.7125        2\n",
       "20181D993       27      27      23      27          14.6000        3\n",
       "201815082       18      27      27      27          13.6125        3\n",
       "\n",
       "[735 rows x 6 columns]"
      ],
      "text/html": "<div>\n<style scoped>\n    .dataframe tbody tr th:only-of-type {\n        vertical-align: middle;\n    }\n\n    .dataframe tbody tr th {\n        vertical-align: top;\n    }\n\n    .dataframe thead th {\n        text-align: right;\n    }\n</style>\n<table border=\"1\" class=\"dataframe\">\n  <thead>\n    <tr style=\"text-align: right;\">\n      <th></th>\n      <th>201901</th>\n      <th>201902</th>\n      <th>202001</th>\n      <th>202002</th>\n      <th>CategoriaAlumno</th>\n      <th>ranking</th>\n    </tr>\n    <tr>\n      <th>COD_ALUMNO</th>\n      <th></th>\n      <th></th>\n      <th></th>\n      <th></th>\n      <th></th>\n      <th></th>\n    </tr>\n  </thead>\n  <tbody>\n    <tr>\n      <th>201818909</th>\n      <td>18</td>\n      <td>23</td>\n      <td>27</td>\n      <td>23</td>\n      <td>7.7125</td>\n      <td>2</td>\n    </tr>\n    <tr>\n      <th>201621635</th>\n      <td>18</td>\n      <td>18</td>\n      <td>23</td>\n      <td>23</td>\n      <td>3.7750</td>\n      <td>1</td>\n    </tr>\n    <tr>\n      <th>201710287</th>\n      <td>18</td>\n      <td>18</td>\n      <td>18</td>\n      <td>27</td>\n      <td>5.7375</td>\n      <td>1</td>\n    </tr>\n    <tr>\n      <th>201720918</th>\n      <td>18</td>\n      <td>23</td>\n      <td>23</td>\n      <td>23</td>\n      <td>4.7625</td>\n      <td>1</td>\n    </tr>\n    <tr>\n      <th>201810705</th>\n      <td>23</td>\n      <td>23</td>\n      <td>23</td>\n      <td>23</td>\n      <td>5.7500</td>\n      <td>1</td>\n    </tr>\n    <tr>\n      <th>...</th>\n      <td>...</td>\n      <td>...</td>\n      <td>...</td>\n      <td>...</td>\n      <td>...</td>\n      <td>...</td>\n    </tr>\n    <tr>\n      <th>20161D186</th>\n      <td>27</td>\n      <td>27</td>\n      <td>23</td>\n      <td>27</td>\n      <td>14.6000</td>\n      <td>3</td>\n    </tr>\n    <tr>\n      <th>201822729</th>\n      <td>23</td>\n      <td>23</td>\n      <td>23</td>\n      <td>27</td>\n      <td>8.7000</td>\n      <td>2</td>\n    </tr>\n    <tr>\n      <th>201818795</th>\n      <td>18</td>\n      <td>27</td>\n      <td>23</td>\n      <td>23</td>\n      <td>7.7125</td>\n      <td>2</td>\n    </tr>\n    <tr>\n      <th>20181D993</th>\n      <td>27</td>\n      <td>27</td>\n      <td>23</td>\n      <td>27</td>\n      <td>14.6000</td>\n      <td>3</td>\n    </tr>\n    <tr>\n      <th>201815082</th>\n      <td>18</td>\n      <td>27</td>\n      <td>27</td>\n      <td>27</td>\n      <td>13.6125</td>\n      <td>3</td>\n    </tr>\n  </tbody>\n</table>\n<p>735 rows × 6 columns</p>\n</div>"
     },
     "metadata": {},
     "execution_count": 260
    }
   ],
   "source": [
    "df_base_alumno"
   ]
  },
  {
   "cell_type": "markdown",
   "metadata": {},
   "source": [
    "## Banco de cursos"
   ]
  },
  {
   "cell_type": "code",
   "execution_count": 39,
   "metadata": {},
   "outputs": [],
   "source": [
    "banco_cursos = pd.read_csv('../data/cursos_curricula_requisitos.csv', index_col='Unnamed: 0', sep=';')"
   ]
  },
  {
   "cell_type": "code",
   "execution_count": 40,
   "metadata": {},
   "outputs": [
    {
     "data": {
      "text/plain": [
       "Index(['COD_LINEA_NEGOCIO', 'COD_PRODUCTO', 'DESC_PRODUCTO', 'COD_CURRICULO',\n",
       "       'DESC_CURRICULO', 'COD_CURSO', 'DESC_CURSO', 'DESC_ABRE_CURSO', 'clave',\n",
       "       'COD_DIRECCION', 'NOM_DIRECCION', 'COD_CURSO_ELEC', 'CICLO',\n",
       "       'CANT_CREDITOS', 'CANT_CREDEQUIV', 'FECHA_CREACION', 'USUARIO_CREACION',\n",
       "       'FECHA_MODIFICACION', 'USUARIO_MODIFICACION', 'TOTAL CRED', 'REQUISITO',\n",
       "       'REQUISITO PYTHON', 'Ruta Critica', 'Unnamed: 24',\n",
       "       'prom_promedios_notas', 'prom_promedios_Aprob'],\n",
       "      dtype='object')"
      ]
     },
     "execution_count": 40,
     "metadata": {},
     "output_type": "execute_result"
    }
   ],
   "source": [
    "banco_cursos.columns"
   ]
  },
  {
   "cell_type": "code",
   "execution_count": 41,
   "metadata": {},
   "outputs": [],
   "source": [
    "banco_cursos = banco_cursos[['COD_CURRICULO', 'COD_CURSO', 'prom_promedios_notas', 'prom_promedios_Aprob', 'Ruta Critica', 'TOTAL CRED']]"
   ]
  },
  {
   "cell_type": "code",
   "execution_count": 42,
   "metadata": {},
   "outputs": [
    {
     "data": {
      "text/html": [
       "<div>\n",
       "<style scoped>\n",
       "    .dataframe tbody tr th:only-of-type {\n",
       "        vertical-align: middle;\n",
       "    }\n",
       "\n",
       "    .dataframe tbody tr th {\n",
       "        vertical-align: top;\n",
       "    }\n",
       "\n",
       "    .dataframe thead th {\n",
       "        text-align: right;\n",
       "    }\n",
       "</style>\n",
       "<table border=\"1\" class=\"dataframe\">\n",
       "  <thead>\n",
       "    <tr style=\"text-align: right;\">\n",
       "      <th></th>\n",
       "      <th>COD_CURRICULO</th>\n",
       "      <th>COD_CURSO</th>\n",
       "      <th>prom_promedios_notas</th>\n",
       "      <th>prom_promedios_Aprob</th>\n",
       "      <th>Ruta Critica</th>\n",
       "      <th>TOTAL CRED</th>\n",
       "    </tr>\n",
       "  </thead>\n",
       "  <tbody>\n",
       "    <tr>\n",
       "      <th>0</th>\n",
       "      <td>44</td>\n",
       "      <td>AM130</td>\n",
       "      <td>14,00</td>\n",
       "      <td>100%</td>\n",
       "      <td>1.0</td>\n",
       "      <td>3</td>\n",
       "    </tr>\n",
       "    <tr>\n",
       "      <th>1</th>\n",
       "      <td>45</td>\n",
       "      <td>AM130</td>\n",
       "      <td>15,26</td>\n",
       "      <td>80%</td>\n",
       "      <td>1.0</td>\n",
       "      <td>3</td>\n",
       "    </tr>\n",
       "    <tr>\n",
       "      <th>2</th>\n",
       "      <td>45</td>\n",
       "      <td>HU543</td>\n",
       "      <td>15,13</td>\n",
       "      <td>74%</td>\n",
       "      <td>2.0</td>\n",
       "      <td>4</td>\n",
       "    </tr>\n",
       "    <tr>\n",
       "      <th>3</th>\n",
       "      <td>45</td>\n",
       "      <td>HU548</td>\n",
       "      <td>14,15</td>\n",
       "      <td>65%</td>\n",
       "      <td>0.0</td>\n",
       "      <td>2</td>\n",
       "    </tr>\n",
       "    <tr>\n",
       "      <th>4</th>\n",
       "      <td>44</td>\n",
       "      <td>HU543</td>\n",
       "      <td>15,33</td>\n",
       "      <td>77%</td>\n",
       "      <td>2.0</td>\n",
       "      <td>4</td>\n",
       "    </tr>\n",
       "    <tr>\n",
       "      <th>...</th>\n",
       "      <td>...</td>\n",
       "      <td>...</td>\n",
       "      <td>...</td>\n",
       "      <td>...</td>\n",
       "      <td>...</td>\n",
       "      <td>...</td>\n",
       "    </tr>\n",
       "    <tr>\n",
       "      <th>548</th>\n",
       "      <td>41</td>\n",
       "      <td>HU522</td>\n",
       "      <td>15,70</td>\n",
       "      <td>58%</td>\n",
       "      <td>0.0</td>\n",
       "      <td>3</td>\n",
       "    </tr>\n",
       "    <tr>\n",
       "      <th>549</th>\n",
       "      <td>41</td>\n",
       "      <td>TR240</td>\n",
       "      <td>14,00</td>\n",
       "      <td>40%</td>\n",
       "      <td>0.0</td>\n",
       "      <td>3</td>\n",
       "    </tr>\n",
       "    <tr>\n",
       "      <th>550</th>\n",
       "      <td>41</td>\n",
       "      <td>HU469</td>\n",
       "      <td>16,44</td>\n",
       "      <td>75%</td>\n",
       "      <td>0.0</td>\n",
       "      <td>3</td>\n",
       "    </tr>\n",
       "    <tr>\n",
       "      <th>551</th>\n",
       "      <td>41</td>\n",
       "      <td>DE440</td>\n",
       "      <td>#DIV/0!</td>\n",
       "      <td>#DIV/0!</td>\n",
       "      <td>0.0</td>\n",
       "      <td>2</td>\n",
       "    </tr>\n",
       "    <tr>\n",
       "      <th>552</th>\n",
       "      <td>42</td>\n",
       "      <td>IN97</td>\n",
       "      <td>14,59</td>\n",
       "      <td>86%</td>\n",
       "      <td>0.0</td>\n",
       "      <td>4</td>\n",
       "    </tr>\n",
       "  </tbody>\n",
       "</table>\n",
       "<p>553 rows × 6 columns</p>\n",
       "</div>"
      ],
      "text/plain": [
       "     COD_CURRICULO COD_CURSO prom_promedios_notas prom_promedios_Aprob  \\\n",
       "0               44     AM130                14,00                 100%   \n",
       "1               45     AM130                15,26                  80%   \n",
       "2               45     HU543                15,13                  74%   \n",
       "3               45     HU548                14,15                  65%   \n",
       "4               44     HU543                15,33                  77%   \n",
       "..             ...       ...                  ...                  ...   \n",
       "548             41     HU522                15,70                  58%   \n",
       "549             41     TR240                14,00                  40%   \n",
       "550             41     HU469                16,44                  75%   \n",
       "551             41     DE440              #DIV/0!              #DIV/0!   \n",
       "552             42      IN97                14,59                  86%   \n",
       "\n",
       "     Ruta Critica  TOTAL CRED  \n",
       "0             1.0           3  \n",
       "1             1.0           3  \n",
       "2             2.0           4  \n",
       "3             0.0           2  \n",
       "4             2.0           4  \n",
       "..            ...         ...  \n",
       "548           0.0           3  \n",
       "549           0.0           3  \n",
       "550           0.0           3  \n",
       "551           0.0           2  \n",
       "552           0.0           4  \n",
       "\n",
       "[553 rows x 6 columns]"
      ]
     },
     "execution_count": 42,
     "metadata": {},
     "output_type": "execute_result"
    }
   ],
   "source": [
    "banco_cursos\n",
    "# PENDIENTE\n",
    "# eliminar filas que contengan el valor #DIV/0! en alguna de sus celfas"
   ]
  },
  {
   "cell_type": "markdown",
   "metadata": {},
   "source": [
    "## Alumno y lista de cursos para matricula"
   ]
  },
  {
   "cell_type": "code",
   "execution_count": 1,
   "metadata": {},
   "outputs": [],
   "source": [
    "import pandas as pd\n",
    "xlsx_dataset = pd.ExcelFile('../../../Data_Ingenieria/dataset_2.xlsx')"
   ]
  },
  {
   "cell_type": "code",
   "execution_count": 329,
   "metadata": {},
   "outputs": [],
   "source": [
    "df_dataset_1 = pd.read_excel(xlsx_dataset, 'dataset_1')\n"
   ]
  },
  {
   "cell_type": "code",
   "execution_count": 330,
   "metadata": {},
   "outputs": [
    {
     "output_type": "execute_result",
     "data": {
      "text/plain": [
       "Index(['COD_LINEA_NEGOCIO', 'COD_MODAL_EST', 'COD_PERIODO', 'COD_ALUMNO',\n",
       "       'APELLIDO_PATERN', 'APELLIDO_MATERN', 'NOMBRES', 'COD_FACULTAD',\n",
       "       'DESCRIPCION_FACULTAD', 'COD_PRODUC_ALUM',\n",
       "       ...\n",
       "       'FECHA_RATIFICA', 'SEDE_ALUMNO', 'm_alumno_COD_TIPO_INGRESO',\n",
       "       'm_alumno_DES_TIPO_INGRESO', 'ORDEN_MERITO_PROD_ACUM',\n",
       "       'ORDEN_MERITO_PROD', 'TIPO_MERITO_PROD', 'TIPO_MERITO_PROD_ACUM',\n",
       "       'COD_USUARIO', 'COD_PERSONA'],\n",
       "      dtype='object', length=124)"
      ]
     },
     "metadata": {},
     "execution_count": 330
    }
   ],
   "source": [
    "df_dataset_1.columns"
   ]
  },
  {
   "cell_type": "code",
   "execution_count": 324,
   "metadata": {},
   "outputs": [
    {
     "output_type": "stream",
     "name": "stdout",
     "text": [
      "COD_LINEA_NEGOCIO\nCOD_MODAL_EST\nCOD_PERIODO\nAPELLIDO_PATERN\nAPELLIDO_MATERN\nNOMBRES\nCOD_FACULTAD\nDESCRIPCION_FACULTAD\nCOD_PRODUC_ALUM\nDES_PRODUC_ALUM\nCOD_CURRIC_ALUM\nCOD_TIPO_MAT_ALU\nDES_TIPO_MAT_ALU\nCOD_PROD_MAT_EQUIV\nDESC_PROD_MAT_EQUIV\nCOD_ESTADO_MAT_ALU\nDES_ESTADO_MAT_ALU\nNIVEL_ALUM\nMAX_CREDITAJE\nMAX_ASIGNAT\nNUM_TURNO\nturno2\nESTADO_EGRESADO\nESTADO_MAT_EXTEM\nFECHA_MATRICULA\nESTADO_INGRESANTE\nESTADO_PREMATRIC\nESTADO_PRE_EXTEM\nNUM_VEZ_PREMAT\nm_habil_FECHA_CREA_ALU\nm_habil_USUARIO_CREA_ALU\nm_habil_FECHA_MODIF_ALU\nm_habil_USUARIO_MODIF_ALU\nPOND_ACTUAL\nPOND_ACUMULADO\nNUM_OBS_CONS\nNUM_OBS_ALTE\nESTADO_CIERRE\nORDEN_MERITO\nTIPO_MERITO\nTIPO_MERITO_2\nm_curso_FECHA_CREA_ALU\nm_curso_USUARIO_CREA_ALU\nm_curso_FECHA_MODIF_ALU\nm_curso_USUARIO_MODIF_ALU\nCOD_MODAL_CURSO\nm_habil_COD_CURSO\nm_habil_DES_CURSO\nNIVEL_REFERENCIAL\nHABILITADO\nclave\nCOD_DIRECCION\nNOM_DIRECCION\nCOD_CURSO_ELEC\nm_curso_COD_CURSO\nm_curso_DES_CURSO\nCOD_CURSO_DET_EQUIV\nDESC_CURSO_DET_EQUIV\nCRED_CURSO\nCANT_CREDEQUIV\nCRED_TOTAL_CURSO\nCOD_PRODUC_CURSO\nDES_PRODUC_CURSO\nCOD_CURRIC_CURSO\nm_habil_COD_TIPO_MATRIC_CUR\nm_habil_DES_TIPO_MATRIC_CUR\nCOD_PROD_EQUIV\nDESC_PROD_EQUIV\nCOD_ESTADO_MAT_CUR\nDES_ESTADO_MAT_CUR\nm_curso_COD_TIPO_MATRIC_CUR\nm_curso_DES_TIPO_MATRIC_CUR\nFECHA_MATRICULA_CUR\nNUM_VEZ_CURSO\nNOTA_CURSO\nESTADO_ELEGIDO_USU\nESTADO_APROBO\nESTADO_APROB_CUR\nESTADO_CIERRE_CUR\nm_habil_FECHA_CREA_CUR\nm_habil_USUARIO_CREA_CUR\nm_habil_FECHA_MODIF_CUR\nm_habil_USUARIO_MODIF_CUR\nm_habil_COD_TIPO_INGRESO\nm_habil_DES_TIPO_INGRESO\nIND_MATRICULADO\nPRIOR_CURSO\nPRIOR_SELECCION\nSEXO\nDIRECCION\nNOMBRE_UBIGEO\nVALUMPERS_TELEFONO_CASA\nVALUMPERS_TELEFONO_MOVIL\nm_curso_COD_TIPO_INGRESO\nm_curso_DES_TIPO_INGRESO\nm_curso_FECHA_CREA_CUR\nm_curso_USUARIO_CREA_CUR\nm_curso_USUARIO_MODIF_CUR\nm_curso_FECHA_MODIF_CUR\nCOD_CURSO_ORIG\nCOD_CURSO_ORIG_EQUIV\nCOD_CURRICULO_ORIG\nCOD_CICLO_ORIG\nMONEDA\nNUM_CURSOS\nNUM_CUOTAS\nFECHA_NACIMIENTO\nTIPO_DOCUMENTO\nDOCUMEN_IDENTIDA\nRIESGO\nUSUARIO_MODIF_PREMAT\nFECHA_MODIF_PREMAT\nUSUARIO_RATIFICA\nFECHA_RATIFICA\nSEDE_ALUMNO\nm_alumno_COD_TIPO_INGRESO\nm_alumno_DES_TIPO_INGRESO\nORDEN_MERITO_PROD_ACUM\nORDEN_MERITO_PROD\nTIPO_MERITO_PROD\nTIPO_MERITO_PROD_ACUM\nCOD_USUARIO\nCOD_PERSONA\n"
     ]
    }
   ],
   "source": [
    "for col in df_dataset_1.columns:\n",
    "    print(col)"
   ]
  },
  {
   "cell_type": "code",
   "execution_count": 331,
   "metadata": {},
   "outputs": [],
   "source": [
    "df_dataset_1 = df_dataset_1.set_index('COD_ALUMNO')"
   ]
  },
  {
   "cell_type": "code",
   "execution_count": 239,
   "metadata": {},
   "outputs": [],
   "source": [
    "#cod_alumno_evaluar = '201322051'"
   ]
  },
  {
   "cell_type": "code",
   "execution_count": 332,
   "metadata": {},
   "outputs": [
    {
     "output_type": "execute_result",
     "data": {
      "text/plain": [
       "           COD_LINEA_NEGOCIO COD_MODAL_EST  COD_PERIODO APELLIDO_PATERN  \\\n",
       "COD_ALUMNO                                                                \n",
       "201811484                  U            AC       201901           CHANG   \n",
       "201811484                  U            AC       201901           CHANG   \n",
       "201811484                  U            AC       201901           CHANG   \n",
       "201811484                  U            AC       201901           CHANG   \n",
       "201811484                  U            AC       201901           CHANG   \n",
       "\n",
       "           APELLIDO_MATERN           NOMBRES  COD_FACULTAD  \\\n",
       "COD_ALUMNO                                                   \n",
       "201811484           BERNAL  PATRICIA SIULEYN           NaN   \n",
       "201811484           BERNAL  PATRICIA SIULEYN           NaN   \n",
       "201811484           BERNAL  PATRICIA SIULEYN           NaN   \n",
       "201811484           BERNAL  PATRICIA SIULEYN           NaN   \n",
       "201811484           BERNAL  PATRICIA SIULEYN           1.0   \n",
       "\n",
       "           DESCRIPCION_FACULTAD  COD_PRODUC_ALUM        DES_PRODUC_ALUM  ...  \\\n",
       "COD_ALUMNO                                                               ...   \n",
       "201811484                   NaN          3310004  INGENIERÍA INDUSTRIAL  ...   \n",
       "201811484                   NaN          3310004  INGENIERÍA INDUSTRIAL  ...   \n",
       "201811484                   NaN          3310004  INGENIERÍA INDUSTRIAL  ...   \n",
       "201811484                   NaN          3310004  INGENIERÍA INDUSTRIAL  ...   \n",
       "201811484            INGENIERIA          3310004  INGENIERÍA INDUSTRIAL  ...   \n",
       "\n",
       "                FECHA_RATIFICA        SEDE_ALUMNO m_alumno_COD_TIPO_INGRESO  \\\n",
       "COD_ALUMNO                                                                    \n",
       "201811484  2019-03-11 09:28:33  CAMPUS SAN ISIDRO                       NaN   \n",
       "201811484  2019-03-11 09:28:33  CAMPUS SAN ISIDRO                       NaN   \n",
       "201811484  2019-03-11 09:28:33  CAMPUS SAN ISIDRO                       NaN   \n",
       "201811484  2019-03-11 09:28:33  CAMPUS SAN ISIDRO                       NaN   \n",
       "201811484  2019-03-11 09:28:33  CAMPUS SAN ISIDRO                      51.0   \n",
       "\n",
       "            m_alumno_DES_TIPO_INGRESO  ORDEN_MERITO_PROD_ACUM  \\\n",
       "COD_ALUMNO                                                      \n",
       "201811484                         NaN                     NaN   \n",
       "201811484                         NaN                     NaN   \n",
       "201811484                         NaN                     NaN   \n",
       "201811484                         NaN                     NaN   \n",
       "201811484        SELECCIÓN PREFERENTE                    81.0   \n",
       "\n",
       "           ORDEN_MERITO_PROD TIPO_MERITO_PROD  TIPO_MERITO_PROD_ACUM  \\\n",
       "COD_ALUMNO                                                             \n",
       "201811484                NaN              NaN                    NaN   \n",
       "201811484                NaN              NaN                    NaN   \n",
       "201811484                NaN              NaN                    NaN   \n",
       "201811484                NaN              NaN                    NaN   \n",
       "201811484               40.0              1.0                    1.0   \n",
       "\n",
       "            COD_USUARIO  COD_PERSONA  \n",
       "COD_ALUMNO                            \n",
       "201811484           NaN          NaN  \n",
       "201811484           NaN          NaN  \n",
       "201811484           NaN          NaN  \n",
       "201811484           NaN          NaN  \n",
       "201811484    U201811484   20462810.0  \n",
       "\n",
       "[5 rows x 123 columns]"
      ],
      "text/html": "<div>\n<style scoped>\n    .dataframe tbody tr th:only-of-type {\n        vertical-align: middle;\n    }\n\n    .dataframe tbody tr th {\n        vertical-align: top;\n    }\n\n    .dataframe thead th {\n        text-align: right;\n    }\n</style>\n<table border=\"1\" class=\"dataframe\">\n  <thead>\n    <tr style=\"text-align: right;\">\n      <th></th>\n      <th>COD_LINEA_NEGOCIO</th>\n      <th>COD_MODAL_EST</th>\n      <th>COD_PERIODO</th>\n      <th>APELLIDO_PATERN</th>\n      <th>APELLIDO_MATERN</th>\n      <th>NOMBRES</th>\n      <th>COD_FACULTAD</th>\n      <th>DESCRIPCION_FACULTAD</th>\n      <th>COD_PRODUC_ALUM</th>\n      <th>DES_PRODUC_ALUM</th>\n      <th>...</th>\n      <th>FECHA_RATIFICA</th>\n      <th>SEDE_ALUMNO</th>\n      <th>m_alumno_COD_TIPO_INGRESO</th>\n      <th>m_alumno_DES_TIPO_INGRESO</th>\n      <th>ORDEN_MERITO_PROD_ACUM</th>\n      <th>ORDEN_MERITO_PROD</th>\n      <th>TIPO_MERITO_PROD</th>\n      <th>TIPO_MERITO_PROD_ACUM</th>\n      <th>COD_USUARIO</th>\n      <th>COD_PERSONA</th>\n    </tr>\n    <tr>\n      <th>COD_ALUMNO</th>\n      <th></th>\n      <th></th>\n      <th></th>\n      <th></th>\n      <th></th>\n      <th></th>\n      <th></th>\n      <th></th>\n      <th></th>\n      <th></th>\n      <th></th>\n      <th></th>\n      <th></th>\n      <th></th>\n      <th></th>\n      <th></th>\n      <th></th>\n      <th></th>\n      <th></th>\n      <th></th>\n      <th></th>\n    </tr>\n  </thead>\n  <tbody>\n    <tr>\n      <th>201811484</th>\n      <td>U</td>\n      <td>AC</td>\n      <td>201901</td>\n      <td>CHANG</td>\n      <td>BERNAL</td>\n      <td>PATRICIA SIULEYN</td>\n      <td>NaN</td>\n      <td>NaN</td>\n      <td>3310004</td>\n      <td>INGENIERÍA INDUSTRIAL</td>\n      <td>...</td>\n      <td>2019-03-11 09:28:33</td>\n      <td>CAMPUS SAN ISIDRO</td>\n      <td>NaN</td>\n      <td>NaN</td>\n      <td>NaN</td>\n      <td>NaN</td>\n      <td>NaN</td>\n      <td>NaN</td>\n      <td>NaN</td>\n      <td>NaN</td>\n    </tr>\n    <tr>\n      <th>201811484</th>\n      <td>U</td>\n      <td>AC</td>\n      <td>201901</td>\n      <td>CHANG</td>\n      <td>BERNAL</td>\n      <td>PATRICIA SIULEYN</td>\n      <td>NaN</td>\n      <td>NaN</td>\n      <td>3310004</td>\n      <td>INGENIERÍA INDUSTRIAL</td>\n      <td>...</td>\n      <td>2019-03-11 09:28:33</td>\n      <td>CAMPUS SAN ISIDRO</td>\n      <td>NaN</td>\n      <td>NaN</td>\n      <td>NaN</td>\n      <td>NaN</td>\n      <td>NaN</td>\n      <td>NaN</td>\n      <td>NaN</td>\n      <td>NaN</td>\n    </tr>\n    <tr>\n      <th>201811484</th>\n      <td>U</td>\n      <td>AC</td>\n      <td>201901</td>\n      <td>CHANG</td>\n      <td>BERNAL</td>\n      <td>PATRICIA SIULEYN</td>\n      <td>NaN</td>\n      <td>NaN</td>\n      <td>3310004</td>\n      <td>INGENIERÍA INDUSTRIAL</td>\n      <td>...</td>\n      <td>2019-03-11 09:28:33</td>\n      <td>CAMPUS SAN ISIDRO</td>\n      <td>NaN</td>\n      <td>NaN</td>\n      <td>NaN</td>\n      <td>NaN</td>\n      <td>NaN</td>\n      <td>NaN</td>\n      <td>NaN</td>\n      <td>NaN</td>\n    </tr>\n    <tr>\n      <th>201811484</th>\n      <td>U</td>\n      <td>AC</td>\n      <td>201901</td>\n      <td>CHANG</td>\n      <td>BERNAL</td>\n      <td>PATRICIA SIULEYN</td>\n      <td>NaN</td>\n      <td>NaN</td>\n      <td>3310004</td>\n      <td>INGENIERÍA INDUSTRIAL</td>\n      <td>...</td>\n      <td>2019-03-11 09:28:33</td>\n      <td>CAMPUS SAN ISIDRO</td>\n      <td>NaN</td>\n      <td>NaN</td>\n      <td>NaN</td>\n      <td>NaN</td>\n      <td>NaN</td>\n      <td>NaN</td>\n      <td>NaN</td>\n      <td>NaN</td>\n    </tr>\n    <tr>\n      <th>201811484</th>\n      <td>U</td>\n      <td>AC</td>\n      <td>201901</td>\n      <td>CHANG</td>\n      <td>BERNAL</td>\n      <td>PATRICIA SIULEYN</td>\n      <td>1.0</td>\n      <td>INGENIERIA</td>\n      <td>3310004</td>\n      <td>INGENIERÍA INDUSTRIAL</td>\n      <td>...</td>\n      <td>2019-03-11 09:28:33</td>\n      <td>CAMPUS SAN ISIDRO</td>\n      <td>51.0</td>\n      <td>SELECCIÓN PREFERENTE</td>\n      <td>81.0</td>\n      <td>40.0</td>\n      <td>1.0</td>\n      <td>1.0</td>\n      <td>U201811484</td>\n      <td>20462810.0</td>\n    </tr>\n  </tbody>\n</table>\n<p>5 rows × 123 columns</p>\n</div>"
     },
     "metadata": {},
     "execution_count": 332
    }
   ],
   "source": [
    "df_dataset_1.loc[cod_alumno_evaluar].head()"
   ]
  },
  {
   "cell_type": "code",
   "execution_count": 333,
   "metadata": {},
   "outputs": [
    {
     "output_type": "execute_result",
     "data": {
      "text/plain": [
       "44"
      ]
     },
     "metadata": {},
     "execution_count": 333
    }
   ],
   "source": [
    "varCOD_CURR = df_dataset_1.loc[cod_alumno_evaluar]['COD_CURRIC_ALUM'].max()\n",
    "varCOD_CURR"
   ]
  },
  {
   "cell_type": "code",
   "execution_count": 334,
   "metadata": {},
   "outputs": [
    {
     "output_type": "execute_result",
     "data": {
      "text/plain": [
       "202002"
      ]
     },
     "metadata": {},
     "execution_count": 334
    }
   ],
   "source": [
    "varCOD_PERIODO =df_dataset_1.loc[cod_alumno_evaluar]['COD_PERIODO'].unique().max()\n",
    "varCOD_PERIODO"
   ]
  },
  {
   "cell_type": "code",
   "execution_count": 243,
   "metadata": {},
   "outputs": [
    {
     "output_type": "execute_result",
     "data": {
      "text/plain": [
       "array([23, 27])"
      ]
     },
     "metadata": {},
     "execution_count": 243
    }
   ],
   "source": [
    "#varMAX_CRED =df_dataset_1.loc[cod_alumno_evaluar]['MAX_CREDITAJE'].unique()\n",
    "#varMAX_CRED"
   ]
  },
  {
   "cell_type": "code",
   "execution_count": 335,
   "metadata": {},
   "outputs": [
    {
     "output_type": "execute_result",
     "data": {
      "text/plain": [
       "['AH57',\n",
       " 'EF40',\n",
       " 'HU187',\n",
       " 'HU469',\n",
       " 'HU508',\n",
       " 'HU51',\n",
       " 'IN215',\n",
       " 'TR281',\n",
       " 'IN147',\n",
       " 'IN176',\n",
       " 'IN214',\n",
       " 'IN395',\n",
       " 'IN399',\n",
       " 'IN92']"
      ]
     },
     "metadata": {},
     "execution_count": 335
    }
   ],
   "source": [
    "lista_cursos = df_dataset_1.loc[cod_alumno_evaluar].query('COD_PERIODO == @varCOD_PERIODO & COD_CURRIC_ALUM == @varCOD_CURR')['m_habil_COD_CURSO'].to_list()\n",
    "lista_cursos"
   ]
  },
  {
   "cell_type": "code",
   "execution_count": 336,
   "metadata": {},
   "outputs": [
    {
     "output_type": "execute_result",
     "data": {
      "text/plain": [
       "            COD_PERIODO  COD_CURRIC_ALUM m_habil_COD_CURSO  MAX_CREDITAJE  \\\n",
       "COD_ALUMNO                                                                  \n",
       "201811484        202002               44              AH57             27   \n",
       "201811484        202002               44              EF40             27   \n",
       "201811484        202002               44             HU187             27   \n",
       "201811484        202002               44             HU469             27   \n",
       "201811484        202002               44             HU508             27   \n",
       "201811484        202002               44              HU51             27   \n",
       "201811484        202002               44             IN215             27   \n",
       "201811484        202002               44             TR281             27   \n",
       "201811484        202002               44             IN147             27   \n",
       "201811484        202002               44             IN176             27   \n",
       "201811484        202002               44             IN214             27   \n",
       "201811484        202002               44             IN395             27   \n",
       "201811484        202002               44             IN399             27   \n",
       "201811484        202002               44              IN92             27   \n",
       "\n",
       "           HABILITADO  CRED_CURSO  \n",
       "COD_ALUMNO                         \n",
       "201811484          NO         NaN  \n",
       "201811484          SI         NaN  \n",
       "201811484          SI         NaN  \n",
       "201811484          SI         NaN  \n",
       "201811484          NO         NaN  \n",
       "201811484          SI         NaN  \n",
       "201811484          SI         NaN  \n",
       "201811484          SI         NaN  \n",
       "201811484          SI         4.0  \n",
       "201811484          SI         4.0  \n",
       "201811484          SI         5.0  \n",
       "201811484          SI         3.0  \n",
       "201811484          SI         4.0  \n",
       "201811484          SI         3.0  "
      ],
      "text/html": "<div>\n<style scoped>\n    .dataframe tbody tr th:only-of-type {\n        vertical-align: middle;\n    }\n\n    .dataframe tbody tr th {\n        vertical-align: top;\n    }\n\n    .dataframe thead th {\n        text-align: right;\n    }\n</style>\n<table border=\"1\" class=\"dataframe\">\n  <thead>\n    <tr style=\"text-align: right;\">\n      <th></th>\n      <th>COD_PERIODO</th>\n      <th>COD_CURRIC_ALUM</th>\n      <th>m_habil_COD_CURSO</th>\n      <th>MAX_CREDITAJE</th>\n      <th>HABILITADO</th>\n      <th>CRED_CURSO</th>\n    </tr>\n    <tr>\n      <th>COD_ALUMNO</th>\n      <th></th>\n      <th></th>\n      <th></th>\n      <th></th>\n      <th></th>\n      <th></th>\n    </tr>\n  </thead>\n  <tbody>\n    <tr>\n      <th>201811484</th>\n      <td>202002</td>\n      <td>44</td>\n      <td>AH57</td>\n      <td>27</td>\n      <td>NO</td>\n      <td>NaN</td>\n    </tr>\n    <tr>\n      <th>201811484</th>\n      <td>202002</td>\n      <td>44</td>\n      <td>EF40</td>\n      <td>27</td>\n      <td>SI</td>\n      <td>NaN</td>\n    </tr>\n    <tr>\n      <th>201811484</th>\n      <td>202002</td>\n      <td>44</td>\n      <td>HU187</td>\n      <td>27</td>\n      <td>SI</td>\n      <td>NaN</td>\n    </tr>\n    <tr>\n      <th>201811484</th>\n      <td>202002</td>\n      <td>44</td>\n      <td>HU469</td>\n      <td>27</td>\n      <td>SI</td>\n      <td>NaN</td>\n    </tr>\n    <tr>\n      <th>201811484</th>\n      <td>202002</td>\n      <td>44</td>\n      <td>HU508</td>\n      <td>27</td>\n      <td>NO</td>\n      <td>NaN</td>\n    </tr>\n    <tr>\n      <th>201811484</th>\n      <td>202002</td>\n      <td>44</td>\n      <td>HU51</td>\n      <td>27</td>\n      <td>SI</td>\n      <td>NaN</td>\n    </tr>\n    <tr>\n      <th>201811484</th>\n      <td>202002</td>\n      <td>44</td>\n      <td>IN215</td>\n      <td>27</td>\n      <td>SI</td>\n      <td>NaN</td>\n    </tr>\n    <tr>\n      <th>201811484</th>\n      <td>202002</td>\n      <td>44</td>\n      <td>TR281</td>\n      <td>27</td>\n      <td>SI</td>\n      <td>NaN</td>\n    </tr>\n    <tr>\n      <th>201811484</th>\n      <td>202002</td>\n      <td>44</td>\n      <td>IN147</td>\n      <td>27</td>\n      <td>SI</td>\n      <td>4.0</td>\n    </tr>\n    <tr>\n      <th>201811484</th>\n      <td>202002</td>\n      <td>44</td>\n      <td>IN176</td>\n      <td>27</td>\n      <td>SI</td>\n      <td>4.0</td>\n    </tr>\n    <tr>\n      <th>201811484</th>\n      <td>202002</td>\n      <td>44</td>\n      <td>IN214</td>\n      <td>27</td>\n      <td>SI</td>\n      <td>5.0</td>\n    </tr>\n    <tr>\n      <th>201811484</th>\n      <td>202002</td>\n      <td>44</td>\n      <td>IN395</td>\n      <td>27</td>\n      <td>SI</td>\n      <td>3.0</td>\n    </tr>\n    <tr>\n      <th>201811484</th>\n      <td>202002</td>\n      <td>44</td>\n      <td>IN399</td>\n      <td>27</td>\n      <td>SI</td>\n      <td>4.0</td>\n    </tr>\n    <tr>\n      <th>201811484</th>\n      <td>202002</td>\n      <td>44</td>\n      <td>IN92</td>\n      <td>27</td>\n      <td>SI</td>\n      <td>3.0</td>\n    </tr>\n  </tbody>\n</table>\n</div>"
     },
     "metadata": {},
     "execution_count": 336
    }
   ],
   "source": [
    "df_dataset_1.loc[cod_alumno_evaluar].query('COD_PERIODO == @varCOD_PERIODO & COD_CURRIC_ALUM == @varCOD_CURR')[['COD_PERIODO','COD_CURRIC_ALUM','m_habil_COD_CURSO','MAX_CREDITAJE','HABILITADO','CRED_CURSO']]"
   ]
  },
  {
   "cell_type": "code",
   "execution_count": 337,
   "metadata": {},
   "outputs": [],
   "source": [
    "df_eval_alum_curso = df_dataset_1.loc[cod_alumno_evaluar].query('COD_PERIODO == @varCOD_PERIODO & COD_CURRIC_ALUM == @varCOD_CURR')[['COD_PERIODO','COD_CURRIC_ALUM','m_habil_COD_CURSO','MAX_CREDITAJE','HABILITADO','CRED_CURSO']]"
   ]
  },
  {
   "cell_type": "code",
   "execution_count": 338,
   "metadata": {},
   "outputs": [
    {
     "output_type": "execute_result",
     "data": {
      "text/plain": [
       "3.0"
      ]
     },
     "metadata": {},
     "execution_count": 338
    }
   ],
   "source": [
    "df_base_alumno.loc[cod_alumno_evaluar]['ranking']"
   ]
  },
  {
   "cell_type": "code",
   "execution_count": 339,
   "metadata": {},
   "outputs": [
    {
     "output_type": "execute_result",
     "data": {
      "text/plain": [
       "            COD_PERIODO  COD_CURRIC_ALUM m_habil_COD_CURSO  MAX_CREDITAJE  \\\n",
       "COD_ALUMNO                                                                  \n",
       "201811484        202002               44              AH57             27   \n",
       "201811484        202002               44              EF40             27   \n",
       "201811484        202002               44             HU187             27   \n",
       "201811484        202002               44             HU469             27   \n",
       "201811484        202002               44             HU508             27   \n",
       "201811484        202002               44              HU51             27   \n",
       "201811484        202002               44             IN215             27   \n",
       "201811484        202002               44             TR281             27   \n",
       "201811484        202002               44             IN147             27   \n",
       "201811484        202002               44             IN176             27   \n",
       "201811484        202002               44             IN214             27   \n",
       "201811484        202002               44             IN395             27   \n",
       "201811484        202002               44             IN399             27   \n",
       "201811484        202002               44              IN92             27   \n",
       "\n",
       "           HABILITADO  CRED_CURSO  ranking  \n",
       "COD_ALUMNO                                  \n",
       "201811484          NO         NaN      3.0  \n",
       "201811484          SI         NaN      3.0  \n",
       "201811484          SI         NaN      3.0  \n",
       "201811484          SI         NaN      3.0  \n",
       "201811484          NO         NaN      3.0  \n",
       "201811484          SI         NaN      3.0  \n",
       "201811484          SI         NaN      3.0  \n",
       "201811484          SI         NaN      3.0  \n",
       "201811484          SI         4.0      3.0  \n",
       "201811484          SI         4.0      3.0  \n",
       "201811484          SI         5.0      3.0  \n",
       "201811484          SI         3.0      3.0  \n",
       "201811484          SI         4.0      3.0  \n",
       "201811484          SI         3.0      3.0  "
      ],
      "text/html": "<div>\n<style scoped>\n    .dataframe tbody tr th:only-of-type {\n        vertical-align: middle;\n    }\n\n    .dataframe tbody tr th {\n        vertical-align: top;\n    }\n\n    .dataframe thead th {\n        text-align: right;\n    }\n</style>\n<table border=\"1\" class=\"dataframe\">\n  <thead>\n    <tr style=\"text-align: right;\">\n      <th></th>\n      <th>COD_PERIODO</th>\n      <th>COD_CURRIC_ALUM</th>\n      <th>m_habil_COD_CURSO</th>\n      <th>MAX_CREDITAJE</th>\n      <th>HABILITADO</th>\n      <th>CRED_CURSO</th>\n      <th>ranking</th>\n    </tr>\n    <tr>\n      <th>COD_ALUMNO</th>\n      <th></th>\n      <th></th>\n      <th></th>\n      <th></th>\n      <th></th>\n      <th></th>\n      <th></th>\n    </tr>\n  </thead>\n  <tbody>\n    <tr>\n      <th>201811484</th>\n      <td>202002</td>\n      <td>44</td>\n      <td>AH57</td>\n      <td>27</td>\n      <td>NO</td>\n      <td>NaN</td>\n      <td>3.0</td>\n    </tr>\n    <tr>\n      <th>201811484</th>\n      <td>202002</td>\n      <td>44</td>\n      <td>EF40</td>\n      <td>27</td>\n      <td>SI</td>\n      <td>NaN</td>\n      <td>3.0</td>\n    </tr>\n    <tr>\n      <th>201811484</th>\n      <td>202002</td>\n      <td>44</td>\n      <td>HU187</td>\n      <td>27</td>\n      <td>SI</td>\n      <td>NaN</td>\n      <td>3.0</td>\n    </tr>\n    <tr>\n      <th>201811484</th>\n      <td>202002</td>\n      <td>44</td>\n      <td>HU469</td>\n      <td>27</td>\n      <td>SI</td>\n      <td>NaN</td>\n      <td>3.0</td>\n    </tr>\n    <tr>\n      <th>201811484</th>\n      <td>202002</td>\n      <td>44</td>\n      <td>HU508</td>\n      <td>27</td>\n      <td>NO</td>\n      <td>NaN</td>\n      <td>3.0</td>\n    </tr>\n    <tr>\n      <th>201811484</th>\n      <td>202002</td>\n      <td>44</td>\n      <td>HU51</td>\n      <td>27</td>\n      <td>SI</td>\n      <td>NaN</td>\n      <td>3.0</td>\n    </tr>\n    <tr>\n      <th>201811484</th>\n      <td>202002</td>\n      <td>44</td>\n      <td>IN215</td>\n      <td>27</td>\n      <td>SI</td>\n      <td>NaN</td>\n      <td>3.0</td>\n    </tr>\n    <tr>\n      <th>201811484</th>\n      <td>202002</td>\n      <td>44</td>\n      <td>TR281</td>\n      <td>27</td>\n      <td>SI</td>\n      <td>NaN</td>\n      <td>3.0</td>\n    </tr>\n    <tr>\n      <th>201811484</th>\n      <td>202002</td>\n      <td>44</td>\n      <td>IN147</td>\n      <td>27</td>\n      <td>SI</td>\n      <td>4.0</td>\n      <td>3.0</td>\n    </tr>\n    <tr>\n      <th>201811484</th>\n      <td>202002</td>\n      <td>44</td>\n      <td>IN176</td>\n      <td>27</td>\n      <td>SI</td>\n      <td>4.0</td>\n      <td>3.0</td>\n    </tr>\n    <tr>\n      <th>201811484</th>\n      <td>202002</td>\n      <td>44</td>\n      <td>IN214</td>\n      <td>27</td>\n      <td>SI</td>\n      <td>5.0</td>\n      <td>3.0</td>\n    </tr>\n    <tr>\n      <th>201811484</th>\n      <td>202002</td>\n      <td>44</td>\n      <td>IN395</td>\n      <td>27</td>\n      <td>SI</td>\n      <td>3.0</td>\n      <td>3.0</td>\n    </tr>\n    <tr>\n      <th>201811484</th>\n      <td>202002</td>\n      <td>44</td>\n      <td>IN399</td>\n      <td>27</td>\n      <td>SI</td>\n      <td>4.0</td>\n      <td>3.0</td>\n    </tr>\n    <tr>\n      <th>201811484</th>\n      <td>202002</td>\n      <td>44</td>\n      <td>IN92</td>\n      <td>27</td>\n      <td>SI</td>\n      <td>3.0</td>\n      <td>3.0</td>\n    </tr>\n  </tbody>\n</table>\n</div>"
     },
     "metadata": {},
     "execution_count": 339
    }
   ],
   "source": [
    "df_eval_alum_curso['ranking'] = df_base_alumno.loc[cod_alumno_evaluar]['ranking']\n",
    "df_eval_alum_curso"
   ]
  },
  {
   "cell_type": "code",
   "execution_count": 340,
   "metadata": {},
   "outputs": [
    {
     "output_type": "execute_result",
     "data": {
      "text/plain": [
       "['AH57',\n",
       " 'EF40',\n",
       " 'HU187',\n",
       " 'HU469',\n",
       " 'HU508',\n",
       " 'HU51',\n",
       " 'IN215',\n",
       " 'TR281',\n",
       " 'IN147',\n",
       " 'IN176',\n",
       " 'IN214',\n",
       " 'IN395',\n",
       " 'IN399',\n",
       " 'IN92']"
      ]
     },
     "metadata": {},
     "execution_count": 340
    }
   ],
   "source": [
    "lista_cursos"
   ]
  },
  {
   "cell_type": "code",
   "execution_count": 341,
   "metadata": {},
   "outputs": [
    {
     "output_type": "execute_result",
     "data": {
      "text/plain": [
       "     COD_CURRICULO COD_CURSO prom_promedios_notas prom_promedios_Aprob  \\\n",
       "0               44     AM130                14,00                 100%   \n",
       "1               45     AM130                15,26                  80%   \n",
       "2               45     HU543                15,13                  74%   \n",
       "3               45     HU548                14,15                  65%   \n",
       "4               44     HU543                15,33                  77%   \n",
       "..             ...       ...                  ...                  ...   \n",
       "548             41     HU522                15,70                  58%   \n",
       "549             41     TR240                14,00                  40%   \n",
       "550             41     HU469                16,44                  75%   \n",
       "551             41     DE440              #DIV/0!              #DIV/0!   \n",
       "552             42      IN97                14,59                  86%   \n",
       "\n",
       "     Ruta Critica  TOTAL CRED  \n",
       "0             1.0           3  \n",
       "1             1.0           3  \n",
       "2             2.0           4  \n",
       "3             0.0           2  \n",
       "4             2.0           4  \n",
       "..            ...         ...  \n",
       "548           0.0           3  \n",
       "549           0.0           3  \n",
       "550           0.0           3  \n",
       "551           0.0           2  \n",
       "552           0.0           4  \n",
       "\n",
       "[553 rows x 6 columns]"
      ],
      "text/html": "<div>\n<style scoped>\n    .dataframe tbody tr th:only-of-type {\n        vertical-align: middle;\n    }\n\n    .dataframe tbody tr th {\n        vertical-align: top;\n    }\n\n    .dataframe thead th {\n        text-align: right;\n    }\n</style>\n<table border=\"1\" class=\"dataframe\">\n  <thead>\n    <tr style=\"text-align: right;\">\n      <th></th>\n      <th>COD_CURRICULO</th>\n      <th>COD_CURSO</th>\n      <th>prom_promedios_notas</th>\n      <th>prom_promedios_Aprob</th>\n      <th>Ruta Critica</th>\n      <th>TOTAL CRED</th>\n    </tr>\n  </thead>\n  <tbody>\n    <tr>\n      <th>0</th>\n      <td>44</td>\n      <td>AM130</td>\n      <td>14,00</td>\n      <td>100%</td>\n      <td>1.0</td>\n      <td>3</td>\n    </tr>\n    <tr>\n      <th>1</th>\n      <td>45</td>\n      <td>AM130</td>\n      <td>15,26</td>\n      <td>80%</td>\n      <td>1.0</td>\n      <td>3</td>\n    </tr>\n    <tr>\n      <th>2</th>\n      <td>45</td>\n      <td>HU543</td>\n      <td>15,13</td>\n      <td>74%</td>\n      <td>2.0</td>\n      <td>4</td>\n    </tr>\n    <tr>\n      <th>3</th>\n      <td>45</td>\n      <td>HU548</td>\n      <td>14,15</td>\n      <td>65%</td>\n      <td>0.0</td>\n      <td>2</td>\n    </tr>\n    <tr>\n      <th>4</th>\n      <td>44</td>\n      <td>HU543</td>\n      <td>15,33</td>\n      <td>77%</td>\n      <td>2.0</td>\n      <td>4</td>\n    </tr>\n    <tr>\n      <th>...</th>\n      <td>...</td>\n      <td>...</td>\n      <td>...</td>\n      <td>...</td>\n      <td>...</td>\n      <td>...</td>\n    </tr>\n    <tr>\n      <th>548</th>\n      <td>41</td>\n      <td>HU522</td>\n      <td>15,70</td>\n      <td>58%</td>\n      <td>0.0</td>\n      <td>3</td>\n    </tr>\n    <tr>\n      <th>549</th>\n      <td>41</td>\n      <td>TR240</td>\n      <td>14,00</td>\n      <td>40%</td>\n      <td>0.0</td>\n      <td>3</td>\n    </tr>\n    <tr>\n      <th>550</th>\n      <td>41</td>\n      <td>HU469</td>\n      <td>16,44</td>\n      <td>75%</td>\n      <td>0.0</td>\n      <td>3</td>\n    </tr>\n    <tr>\n      <th>551</th>\n      <td>41</td>\n      <td>DE440</td>\n      <td>#DIV/0!</td>\n      <td>#DIV/0!</td>\n      <td>0.0</td>\n      <td>2</td>\n    </tr>\n    <tr>\n      <th>552</th>\n      <td>42</td>\n      <td>IN97</td>\n      <td>14,59</td>\n      <td>86%</td>\n      <td>0.0</td>\n      <td>4</td>\n    </tr>\n  </tbody>\n</table>\n<p>553 rows × 6 columns</p>\n</div>"
     },
     "metadata": {},
     "execution_count": 341
    }
   ],
   "source": [
    "banco_cursos"
   ]
  },
  {
   "cell_type": "code",
   "execution_count": 342,
   "metadata": {},
   "outputs": [
    {
     "output_type": "execute_result",
     "data": {
      "text/plain": [
       "           COD_CURRICULO prom_promedios_notas prom_promedios_Aprob  \\\n",
       "COD_CURSO                                                            \n",
       "AM130                 44                14,00                 100%   \n",
       "AM130                 45                15,26                  80%   \n",
       "HU543                 45                15,13                  74%   \n",
       "HU548                 45                14,15                  65%   \n",
       "HU543                 44                15,33                  77%   \n",
       "...                  ...                  ...                  ...   \n",
       "HU522                 41                15,70                  58%   \n",
       "TR240                 41                14,00                  40%   \n",
       "HU469                 41                16,44                  75%   \n",
       "DE440                 41              #DIV/0!              #DIV/0!   \n",
       "IN97                  42                14,59                  86%   \n",
       "\n",
       "           Ruta Critica  TOTAL CRED  \n",
       "COD_CURSO                            \n",
       "AM130               1.0           3  \n",
       "AM130               1.0           3  \n",
       "HU543               2.0           4  \n",
       "HU548               0.0           2  \n",
       "HU543               2.0           4  \n",
       "...                 ...         ...  \n",
       "HU522               0.0           3  \n",
       "TR240               0.0           3  \n",
       "HU469               0.0           3  \n",
       "DE440               0.0           2  \n",
       "IN97                0.0           4  \n",
       "\n",
       "[553 rows x 5 columns]"
      ],
      "text/html": "<div>\n<style scoped>\n    .dataframe tbody tr th:only-of-type {\n        vertical-align: middle;\n    }\n\n    .dataframe tbody tr th {\n        vertical-align: top;\n    }\n\n    .dataframe thead th {\n        text-align: right;\n    }\n</style>\n<table border=\"1\" class=\"dataframe\">\n  <thead>\n    <tr style=\"text-align: right;\">\n      <th></th>\n      <th>COD_CURRICULO</th>\n      <th>prom_promedios_notas</th>\n      <th>prom_promedios_Aprob</th>\n      <th>Ruta Critica</th>\n      <th>TOTAL CRED</th>\n    </tr>\n    <tr>\n      <th>COD_CURSO</th>\n      <th></th>\n      <th></th>\n      <th></th>\n      <th></th>\n      <th></th>\n    </tr>\n  </thead>\n  <tbody>\n    <tr>\n      <th>AM130</th>\n      <td>44</td>\n      <td>14,00</td>\n      <td>100%</td>\n      <td>1.0</td>\n      <td>3</td>\n    </tr>\n    <tr>\n      <th>AM130</th>\n      <td>45</td>\n      <td>15,26</td>\n      <td>80%</td>\n      <td>1.0</td>\n      <td>3</td>\n    </tr>\n    <tr>\n      <th>HU543</th>\n      <td>45</td>\n      <td>15,13</td>\n      <td>74%</td>\n      <td>2.0</td>\n      <td>4</td>\n    </tr>\n    <tr>\n      <th>HU548</th>\n      <td>45</td>\n      <td>14,15</td>\n      <td>65%</td>\n      <td>0.0</td>\n      <td>2</td>\n    </tr>\n    <tr>\n      <th>HU543</th>\n      <td>44</td>\n      <td>15,33</td>\n      <td>77%</td>\n      <td>2.0</td>\n      <td>4</td>\n    </tr>\n    <tr>\n      <th>...</th>\n      <td>...</td>\n      <td>...</td>\n      <td>...</td>\n      <td>...</td>\n      <td>...</td>\n    </tr>\n    <tr>\n      <th>HU522</th>\n      <td>41</td>\n      <td>15,70</td>\n      <td>58%</td>\n      <td>0.0</td>\n      <td>3</td>\n    </tr>\n    <tr>\n      <th>TR240</th>\n      <td>41</td>\n      <td>14,00</td>\n      <td>40%</td>\n      <td>0.0</td>\n      <td>3</td>\n    </tr>\n    <tr>\n      <th>HU469</th>\n      <td>41</td>\n      <td>16,44</td>\n      <td>75%</td>\n      <td>0.0</td>\n      <td>3</td>\n    </tr>\n    <tr>\n      <th>DE440</th>\n      <td>41</td>\n      <td>#DIV/0!</td>\n      <td>#DIV/0!</td>\n      <td>0.0</td>\n      <td>2</td>\n    </tr>\n    <tr>\n      <th>IN97</th>\n      <td>42</td>\n      <td>14,59</td>\n      <td>86%</td>\n      <td>0.0</td>\n      <td>4</td>\n    </tr>\n  </tbody>\n</table>\n<p>553 rows × 5 columns</p>\n</div>"
     },
     "metadata": {},
     "execution_count": 342
    }
   ],
   "source": [
    "df_new_banco_cursos = banco_cursos.set_index('COD_CURSO')\n",
    "df_new_banco_cursos"
   ]
  },
  {
   "cell_type": "code",
   "execution_count": 319,
   "metadata": {},
   "outputs": [],
   "source": [
    "#df_eval_alum_curso[df_eval_alum_curso['m_habil_COD_CURSO'] == 'AH57']['prom_promedios_notas'] = 16.00 # 15,57"
   ]
  },
  {
   "cell_type": "code",
   "execution_count": 325,
   "metadata": {},
   "outputs": [],
   "source": [
    "#df_eval_alum_curso.at[df_eval_alum_curso['m_habil_COD_CURSO'] == 'AH57', 'prom_promedios_notas'] = 17"
   ]
  },
  {
   "cell_type": "code",
   "execution_count": 326,
   "metadata": {},
   "outputs": [
    {
     "output_type": "execute_result",
     "data": {
      "text/plain": [
       "COD_ALUMNO\n",
       "201811484    17\n",
       "Name: prom_promedios_notas, dtype: object"
      ]
     },
     "metadata": {},
     "execution_count": 326
    }
   ],
   "source": [
    "#df_eval_alum_curso[df_eval_alum_curso['m_habil_COD_CURSO'] == 'AH57']['prom_promedios_notas']"
   ]
  },
  {
   "cell_type": "code",
   "execution_count": 343,
   "metadata": {},
   "outputs": [],
   "source": [
    "for id_curso in lista_cursos:\n",
    "    #print(id_curso)\n",
    "    #print(df_new_banco_cursos[ df_new_banco_cursos['COD_CURRICULO' ] == varCOD_CURR ].loc[id_curso]['Ruta Critica'])\n",
    "    df_eval_alum_curso.at[df_eval_alum_curso['m_habil_COD_CURSO'] == id_curso, 'Ruta Critica'] = df_new_banco_cursos[ df_new_banco_cursos['COD_CURRICULO' ] == varCOD_CURR ].loc[id_curso]['Ruta Critica']\n",
    "    df_eval_alum_curso.at[df_eval_alum_curso['m_habil_COD_CURSO'] == id_curso, 'prom_promedios_Aprob'] = df_new_banco_cursos[ df_new_banco_cursos['COD_CURRICULO' ] == varCOD_CURR ].loc[id_curso]['prom_promedios_Aprob']\n",
    "    df_eval_alum_curso.at[df_eval_alum_curso['m_habil_COD_CURSO'] == id_curso, 'prom_promedios_notas'] = df_new_banco_cursos[ df_new_banco_cursos['COD_CURRICULO' ] == varCOD_CURR ].loc[id_curso]['prom_promedios_notas']\n",
    "    \n",
    "    "
   ]
  },
  {
   "cell_type": "code",
   "execution_count": 344,
   "metadata": {},
   "outputs": [
    {
     "output_type": "execute_result",
     "data": {
      "text/plain": [
       "            COD_PERIODO  COD_CURRIC_ALUM m_habil_COD_CURSO  MAX_CREDITAJE  \\\n",
       "COD_ALUMNO                                                                  \n",
       "201811484        202002               44              AH57             27   \n",
       "201811484        202002               44              EF40             27   \n",
       "201811484        202002               44             HU187             27   \n",
       "201811484        202002               44             HU469             27   \n",
       "201811484        202002               44             HU508             27   \n",
       "201811484        202002               44              HU51             27   \n",
       "201811484        202002               44             IN215             27   \n",
       "201811484        202002               44             TR281             27   \n",
       "201811484        202002               44             IN147             27   \n",
       "201811484        202002               44             IN176             27   \n",
       "201811484        202002               44             IN214             27   \n",
       "201811484        202002               44             IN395             27   \n",
       "201811484        202002               44             IN399             27   \n",
       "201811484        202002               44              IN92             27   \n",
       "\n",
       "           HABILITADO  CRED_CURSO  ranking  Ruta Critica prom_promedios_Aprob  \\\n",
       "COD_ALUMNO                                                                      \n",
       "201811484          NO         NaN      3.0           0.0                  76%   \n",
       "201811484          SI         NaN      3.0           0.0                  48%   \n",
       "201811484          SI         NaN      3.0           0.0                  80%   \n",
       "201811484          SI         NaN      3.0           0.0                  75%   \n",
       "201811484          NO         NaN      3.0           0.0                  78%   \n",
       "201811484          SI         NaN      3.0           0.0                  85%   \n",
       "201811484          SI         NaN      3.0           1.0                  89%   \n",
       "201811484          SI         NaN      3.0           1.0                  89%   \n",
       "201811484          SI         4.0      3.0           2.0                  90%   \n",
       "201811484          SI         4.0      3.0           2.0                  68%   \n",
       "201811484          SI         5.0      3.0           1.0                  69%   \n",
       "201811484          SI         3.0      3.0           1.0                  61%   \n",
       "201811484          SI         4.0      3.0           1.0                  86%   \n",
       "201811484          SI         3.0      3.0           1.0                  94%   \n",
       "\n",
       "           prom_promedios_notas  \n",
       "COD_ALUMNO                       \n",
       "201811484                 15,96  \n",
       "201811484                 12,50  \n",
       "201811484                 15,10  \n",
       "201811484                 16,44  \n",
       "201811484                 15,38  \n",
       "201811484                 15,76  \n",
       "201811484                 14,57  \n",
       "201811484                 15,11  \n",
       "201811484                 15,02  \n",
       "201811484                 13,63  \n",
       "201811484                 13,89  \n",
       "201811484                 13,03  \n",
       "201811484                 15,32  \n",
       "201811484                 15,57  "
      ],
      "text/html": "<div>\n<style scoped>\n    .dataframe tbody tr th:only-of-type {\n        vertical-align: middle;\n    }\n\n    .dataframe tbody tr th {\n        vertical-align: top;\n    }\n\n    .dataframe thead th {\n        text-align: right;\n    }\n</style>\n<table border=\"1\" class=\"dataframe\">\n  <thead>\n    <tr style=\"text-align: right;\">\n      <th></th>\n      <th>COD_PERIODO</th>\n      <th>COD_CURRIC_ALUM</th>\n      <th>m_habil_COD_CURSO</th>\n      <th>MAX_CREDITAJE</th>\n      <th>HABILITADO</th>\n      <th>CRED_CURSO</th>\n      <th>ranking</th>\n      <th>Ruta Critica</th>\n      <th>prom_promedios_Aprob</th>\n      <th>prom_promedios_notas</th>\n    </tr>\n    <tr>\n      <th>COD_ALUMNO</th>\n      <th></th>\n      <th></th>\n      <th></th>\n      <th></th>\n      <th></th>\n      <th></th>\n      <th></th>\n      <th></th>\n      <th></th>\n      <th></th>\n    </tr>\n  </thead>\n  <tbody>\n    <tr>\n      <th>201811484</th>\n      <td>202002</td>\n      <td>44</td>\n      <td>AH57</td>\n      <td>27</td>\n      <td>NO</td>\n      <td>NaN</td>\n      <td>3.0</td>\n      <td>0.0</td>\n      <td>76%</td>\n      <td>15,96</td>\n    </tr>\n    <tr>\n      <th>201811484</th>\n      <td>202002</td>\n      <td>44</td>\n      <td>EF40</td>\n      <td>27</td>\n      <td>SI</td>\n      <td>NaN</td>\n      <td>3.0</td>\n      <td>0.0</td>\n      <td>48%</td>\n      <td>12,50</td>\n    </tr>\n    <tr>\n      <th>201811484</th>\n      <td>202002</td>\n      <td>44</td>\n      <td>HU187</td>\n      <td>27</td>\n      <td>SI</td>\n      <td>NaN</td>\n      <td>3.0</td>\n      <td>0.0</td>\n      <td>80%</td>\n      <td>15,10</td>\n    </tr>\n    <tr>\n      <th>201811484</th>\n      <td>202002</td>\n      <td>44</td>\n      <td>HU469</td>\n      <td>27</td>\n      <td>SI</td>\n      <td>NaN</td>\n      <td>3.0</td>\n      <td>0.0</td>\n      <td>75%</td>\n      <td>16,44</td>\n    </tr>\n    <tr>\n      <th>201811484</th>\n      <td>202002</td>\n      <td>44</td>\n      <td>HU508</td>\n      <td>27</td>\n      <td>NO</td>\n      <td>NaN</td>\n      <td>3.0</td>\n      <td>0.0</td>\n      <td>78%</td>\n      <td>15,38</td>\n    </tr>\n    <tr>\n      <th>201811484</th>\n      <td>202002</td>\n      <td>44</td>\n      <td>HU51</td>\n      <td>27</td>\n      <td>SI</td>\n      <td>NaN</td>\n      <td>3.0</td>\n      <td>0.0</td>\n      <td>85%</td>\n      <td>15,76</td>\n    </tr>\n    <tr>\n      <th>201811484</th>\n      <td>202002</td>\n      <td>44</td>\n      <td>IN215</td>\n      <td>27</td>\n      <td>SI</td>\n      <td>NaN</td>\n      <td>3.0</td>\n      <td>1.0</td>\n      <td>89%</td>\n      <td>14,57</td>\n    </tr>\n    <tr>\n      <th>201811484</th>\n      <td>202002</td>\n      <td>44</td>\n      <td>TR281</td>\n      <td>27</td>\n      <td>SI</td>\n      <td>NaN</td>\n      <td>3.0</td>\n      <td>1.0</td>\n      <td>89%</td>\n      <td>15,11</td>\n    </tr>\n    <tr>\n      <th>201811484</th>\n      <td>202002</td>\n      <td>44</td>\n      <td>IN147</td>\n      <td>27</td>\n      <td>SI</td>\n      <td>4.0</td>\n      <td>3.0</td>\n      <td>2.0</td>\n      <td>90%</td>\n      <td>15,02</td>\n    </tr>\n    <tr>\n      <th>201811484</th>\n      <td>202002</td>\n      <td>44</td>\n      <td>IN176</td>\n      <td>27</td>\n      <td>SI</td>\n      <td>4.0</td>\n      <td>3.0</td>\n      <td>2.0</td>\n      <td>68%</td>\n      <td>13,63</td>\n    </tr>\n    <tr>\n      <th>201811484</th>\n      <td>202002</td>\n      <td>44</td>\n      <td>IN214</td>\n      <td>27</td>\n      <td>SI</td>\n      <td>5.0</td>\n      <td>3.0</td>\n      <td>1.0</td>\n      <td>69%</td>\n      <td>13,89</td>\n    </tr>\n    <tr>\n      <th>201811484</th>\n      <td>202002</td>\n      <td>44</td>\n      <td>IN395</td>\n      <td>27</td>\n      <td>SI</td>\n      <td>3.0</td>\n      <td>3.0</td>\n      <td>1.0</td>\n      <td>61%</td>\n      <td>13,03</td>\n    </tr>\n    <tr>\n      <th>201811484</th>\n      <td>202002</td>\n      <td>44</td>\n      <td>IN399</td>\n      <td>27</td>\n      <td>SI</td>\n      <td>4.0</td>\n      <td>3.0</td>\n      <td>1.0</td>\n      <td>86%</td>\n      <td>15,32</td>\n    </tr>\n    <tr>\n      <th>201811484</th>\n      <td>202002</td>\n      <td>44</td>\n      <td>IN92</td>\n      <td>27</td>\n      <td>SI</td>\n      <td>3.0</td>\n      <td>3.0</td>\n      <td>1.0</td>\n      <td>94%</td>\n      <td>15,57</td>\n    </tr>\n  </tbody>\n</table>\n</div>"
     },
     "metadata": {},
     "execution_count": 344
    }
   ],
   "source": [
    "df_eval_alum_curso"
   ]
  },
  {
   "cell_type": "code",
   "execution_count": 352,
   "metadata": {},
   "outputs": [],
   "source": [
    "df_eval_alum_curso['prom_promedios_notas'] = df_eval_alum_curso['prom_promedios_notas'].str.replace(',', '.').astype(float)"
   ]
  },
  {
   "cell_type": "code",
   "execution_count": 353,
   "metadata": {},
   "outputs": [
    {
     "output_type": "execute_result",
     "data": {
      "text/plain": [
       "            COD_PERIODO  COD_CURRIC_ALUM m_habil_COD_CURSO  MAX_CREDITAJE  \\\n",
       "COD_ALUMNO                                                                  \n",
       "201811484        202002               44              AH57             27   \n",
       "201811484        202002               44              EF40             27   \n",
       "201811484        202002               44             HU187             27   \n",
       "201811484        202002               44             HU469             27   \n",
       "201811484        202002               44             HU508             27   \n",
       "201811484        202002               44              HU51             27   \n",
       "201811484        202002               44             IN215             27   \n",
       "201811484        202002               44             TR281             27   \n",
       "201811484        202002               44             IN147             27   \n",
       "201811484        202002               44             IN176             27   \n",
       "201811484        202002               44             IN214             27   \n",
       "201811484        202002               44             IN395             27   \n",
       "201811484        202002               44             IN399             27   \n",
       "201811484        202002               44              IN92             27   \n",
       "\n",
       "           HABILITADO  CRED_CURSO  ranking  Ruta Critica prom_promedios_Aprob  \\\n",
       "COD_ALUMNO                                                                      \n",
       "201811484          NO         NaN      3.0           0.0                  76%   \n",
       "201811484          SI         NaN      3.0           0.0                  48%   \n",
       "201811484          SI         NaN      3.0           0.0                  80%   \n",
       "201811484          SI         NaN      3.0           0.0                  75%   \n",
       "201811484          NO         NaN      3.0           0.0                  78%   \n",
       "201811484          SI         NaN      3.0           0.0                  85%   \n",
       "201811484          SI         NaN      3.0           1.0                  89%   \n",
       "201811484          SI         NaN      3.0           1.0                  89%   \n",
       "201811484          SI         4.0      3.0           2.0                  90%   \n",
       "201811484          SI         4.0      3.0           2.0                  68%   \n",
       "201811484          SI         5.0      3.0           1.0                  69%   \n",
       "201811484          SI         3.0      3.0           1.0                  61%   \n",
       "201811484          SI         4.0      3.0           1.0                  86%   \n",
       "201811484          SI         3.0      3.0           1.0                  94%   \n",
       "\n",
       "            prom_promedios_notas  \n",
       "COD_ALUMNO                        \n",
       "201811484                  15.96  \n",
       "201811484                  12.50  \n",
       "201811484                  15.10  \n",
       "201811484                  16.44  \n",
       "201811484                  15.38  \n",
       "201811484                  15.76  \n",
       "201811484                  14.57  \n",
       "201811484                  15.11  \n",
       "201811484                  15.02  \n",
       "201811484                  13.63  \n",
       "201811484                  13.89  \n",
       "201811484                  13.03  \n",
       "201811484                  15.32  \n",
       "201811484                  15.57  "
      ],
      "text/html": "<div>\n<style scoped>\n    .dataframe tbody tr th:only-of-type {\n        vertical-align: middle;\n    }\n\n    .dataframe tbody tr th {\n        vertical-align: top;\n    }\n\n    .dataframe thead th {\n        text-align: right;\n    }\n</style>\n<table border=\"1\" class=\"dataframe\">\n  <thead>\n    <tr style=\"text-align: right;\">\n      <th></th>\n      <th>COD_PERIODO</th>\n      <th>COD_CURRIC_ALUM</th>\n      <th>m_habil_COD_CURSO</th>\n      <th>MAX_CREDITAJE</th>\n      <th>HABILITADO</th>\n      <th>CRED_CURSO</th>\n      <th>ranking</th>\n      <th>Ruta Critica</th>\n      <th>prom_promedios_Aprob</th>\n      <th>prom_promedios_notas</th>\n    </tr>\n    <tr>\n      <th>COD_ALUMNO</th>\n      <th></th>\n      <th></th>\n      <th></th>\n      <th></th>\n      <th></th>\n      <th></th>\n      <th></th>\n      <th></th>\n      <th></th>\n      <th></th>\n    </tr>\n  </thead>\n  <tbody>\n    <tr>\n      <th>201811484</th>\n      <td>202002</td>\n      <td>44</td>\n      <td>AH57</td>\n      <td>27</td>\n      <td>NO</td>\n      <td>NaN</td>\n      <td>3.0</td>\n      <td>0.0</td>\n      <td>76%</td>\n      <td>15.96</td>\n    </tr>\n    <tr>\n      <th>201811484</th>\n      <td>202002</td>\n      <td>44</td>\n      <td>EF40</td>\n      <td>27</td>\n      <td>SI</td>\n      <td>NaN</td>\n      <td>3.0</td>\n      <td>0.0</td>\n      <td>48%</td>\n      <td>12.50</td>\n    </tr>\n    <tr>\n      <th>201811484</th>\n      <td>202002</td>\n      <td>44</td>\n      <td>HU187</td>\n      <td>27</td>\n      <td>SI</td>\n      <td>NaN</td>\n      <td>3.0</td>\n      <td>0.0</td>\n      <td>80%</td>\n      <td>15.10</td>\n    </tr>\n    <tr>\n      <th>201811484</th>\n      <td>202002</td>\n      <td>44</td>\n      <td>HU469</td>\n      <td>27</td>\n      <td>SI</td>\n      <td>NaN</td>\n      <td>3.0</td>\n      <td>0.0</td>\n      <td>75%</td>\n      <td>16.44</td>\n    </tr>\n    <tr>\n      <th>201811484</th>\n      <td>202002</td>\n      <td>44</td>\n      <td>HU508</td>\n      <td>27</td>\n      <td>NO</td>\n      <td>NaN</td>\n      <td>3.0</td>\n      <td>0.0</td>\n      <td>78%</td>\n      <td>15.38</td>\n    </tr>\n    <tr>\n      <th>201811484</th>\n      <td>202002</td>\n      <td>44</td>\n      <td>HU51</td>\n      <td>27</td>\n      <td>SI</td>\n      <td>NaN</td>\n      <td>3.0</td>\n      <td>0.0</td>\n      <td>85%</td>\n      <td>15.76</td>\n    </tr>\n    <tr>\n      <th>201811484</th>\n      <td>202002</td>\n      <td>44</td>\n      <td>IN215</td>\n      <td>27</td>\n      <td>SI</td>\n      <td>NaN</td>\n      <td>3.0</td>\n      <td>1.0</td>\n      <td>89%</td>\n      <td>14.57</td>\n    </tr>\n    <tr>\n      <th>201811484</th>\n      <td>202002</td>\n      <td>44</td>\n      <td>TR281</td>\n      <td>27</td>\n      <td>SI</td>\n      <td>NaN</td>\n      <td>3.0</td>\n      <td>1.0</td>\n      <td>89%</td>\n      <td>15.11</td>\n    </tr>\n    <tr>\n      <th>201811484</th>\n      <td>202002</td>\n      <td>44</td>\n      <td>IN147</td>\n      <td>27</td>\n      <td>SI</td>\n      <td>4.0</td>\n      <td>3.0</td>\n      <td>2.0</td>\n      <td>90%</td>\n      <td>15.02</td>\n    </tr>\n    <tr>\n      <th>201811484</th>\n      <td>202002</td>\n      <td>44</td>\n      <td>IN176</td>\n      <td>27</td>\n      <td>SI</td>\n      <td>4.0</td>\n      <td>3.0</td>\n      <td>2.0</td>\n      <td>68%</td>\n      <td>13.63</td>\n    </tr>\n    <tr>\n      <th>201811484</th>\n      <td>202002</td>\n      <td>44</td>\n      <td>IN214</td>\n      <td>27</td>\n      <td>SI</td>\n      <td>5.0</td>\n      <td>3.0</td>\n      <td>1.0</td>\n      <td>69%</td>\n      <td>13.89</td>\n    </tr>\n    <tr>\n      <th>201811484</th>\n      <td>202002</td>\n      <td>44</td>\n      <td>IN395</td>\n      <td>27</td>\n      <td>SI</td>\n      <td>3.0</td>\n      <td>3.0</td>\n      <td>1.0</td>\n      <td>61%</td>\n      <td>13.03</td>\n    </tr>\n    <tr>\n      <th>201811484</th>\n      <td>202002</td>\n      <td>44</td>\n      <td>IN399</td>\n      <td>27</td>\n      <td>SI</td>\n      <td>4.0</td>\n      <td>3.0</td>\n      <td>1.0</td>\n      <td>86%</td>\n      <td>15.32</td>\n    </tr>\n    <tr>\n      <th>201811484</th>\n      <td>202002</td>\n      <td>44</td>\n      <td>IN92</td>\n      <td>27</td>\n      <td>SI</td>\n      <td>3.0</td>\n      <td>3.0</td>\n      <td>1.0</td>\n      <td>94%</td>\n      <td>15.57</td>\n    </tr>\n  </tbody>\n</table>\n</div>"
     },
     "metadata": {},
     "execution_count": 353
    }
   ],
   "source": [
    "df_eval_alum_curso"
   ]
  },
  {
   "cell_type": "code",
   "execution_count": 354,
   "metadata": {},
   "outputs": [],
   "source": [
    "df_eval_alum_curso.to_csv('df_eval_alum_curso.csv')\n"
   ]
  },
  {
   "cell_type": "code",
   "execution_count": 2,
   "metadata": {},
   "outputs": [],
   "source": [
    "import pandas as pd"
   ]
  },
  {
   "cell_type": "code",
   "execution_count": 3,
   "metadata": {},
   "outputs": [
    {
     "output_type": "execute_result",
     "data": {
      "text/plain": [
       "    COD_ALUMNO  COD_PERIODO  COD_CURRIC_ALUM m_habil_COD_CURSO  MAX_CREDITAJE  \\\n",
       "0    201811484       202002               44              AH57             27   \n",
       "1    201811484       202002               44              EF40             27   \n",
       "2    201811484       202002               44             HU187             27   \n",
       "3    201811484       202002               44             HU469             27   \n",
       "4    201811484       202002               44             HU508             27   \n",
       "5    201811484       202002               44              HU51             27   \n",
       "6    201811484       202002               44             IN215             27   \n",
       "7    201811484       202002               44             TR281             27   \n",
       "8    201811484       202002               44             IN147             27   \n",
       "9    201811484       202002               44             IN176             27   \n",
       "10   201811484       202002               44             IN214             27   \n",
       "11   201811484       202002               44             IN395             27   \n",
       "12   201811484       202002               44             IN399             27   \n",
       "13   201811484       202002               44              IN92             27   \n",
       "\n",
       "   HABILITADO  CRED_CURSO  ranking  Ruta Critica prom_promedios_Aprob  \\\n",
       "0          NO         NaN      3.0           0.0                  76%   \n",
       "1          SI         NaN      3.0           0.0                  48%   \n",
       "2          SI         NaN      3.0           0.0                  80%   \n",
       "3          SI         NaN      3.0           0.0                  75%   \n",
       "4          NO         NaN      3.0           0.0                  78%   \n",
       "5          SI         NaN      3.0           0.0                  85%   \n",
       "6          SI         NaN      3.0           1.0                  89%   \n",
       "7          SI         NaN      3.0           1.0                  89%   \n",
       "8          SI         4.0      3.0           2.0                  90%   \n",
       "9          SI         4.0      3.0           2.0                  68%   \n",
       "10         SI         5.0      3.0           1.0                  69%   \n",
       "11         SI         3.0      3.0           1.0                  61%   \n",
       "12         SI         4.0      3.0           1.0                  86%   \n",
       "13         SI         3.0      3.0           1.0                  94%   \n",
       "\n",
       "    prom_promedios_notas  \n",
       "0                  15.96  \n",
       "1                  12.50  \n",
       "2                  15.10  \n",
       "3                  16.44  \n",
       "4                  15.38  \n",
       "5                  15.76  \n",
       "6                  14.57  \n",
       "7                  15.11  \n",
       "8                  15.02  \n",
       "9                  13.63  \n",
       "10                 13.89  \n",
       "11                 13.03  \n",
       "12                 15.32  \n",
       "13                 15.57  "
      ],
      "text/html": "<div>\n<style scoped>\n    .dataframe tbody tr th:only-of-type {\n        vertical-align: middle;\n    }\n\n    .dataframe tbody tr th {\n        vertical-align: top;\n    }\n\n    .dataframe thead th {\n        text-align: right;\n    }\n</style>\n<table border=\"1\" class=\"dataframe\">\n  <thead>\n    <tr style=\"text-align: right;\">\n      <th></th>\n      <th>COD_ALUMNO</th>\n      <th>COD_PERIODO</th>\n      <th>COD_CURRIC_ALUM</th>\n      <th>m_habil_COD_CURSO</th>\n      <th>MAX_CREDITAJE</th>\n      <th>HABILITADO</th>\n      <th>CRED_CURSO</th>\n      <th>ranking</th>\n      <th>Ruta Critica</th>\n      <th>prom_promedios_Aprob</th>\n      <th>prom_promedios_notas</th>\n    </tr>\n  </thead>\n  <tbody>\n    <tr>\n      <th>0</th>\n      <td>201811484</td>\n      <td>202002</td>\n      <td>44</td>\n      <td>AH57</td>\n      <td>27</td>\n      <td>NO</td>\n      <td>NaN</td>\n      <td>3.0</td>\n      <td>0.0</td>\n      <td>76%</td>\n      <td>15.96</td>\n    </tr>\n    <tr>\n      <th>1</th>\n      <td>201811484</td>\n      <td>202002</td>\n      <td>44</td>\n      <td>EF40</td>\n      <td>27</td>\n      <td>SI</td>\n      <td>NaN</td>\n      <td>3.0</td>\n      <td>0.0</td>\n      <td>48%</td>\n      <td>12.50</td>\n    </tr>\n    <tr>\n      <th>2</th>\n      <td>201811484</td>\n      <td>202002</td>\n      <td>44</td>\n      <td>HU187</td>\n      <td>27</td>\n      <td>SI</td>\n      <td>NaN</td>\n      <td>3.0</td>\n      <td>0.0</td>\n      <td>80%</td>\n      <td>15.10</td>\n    </tr>\n    <tr>\n      <th>3</th>\n      <td>201811484</td>\n      <td>202002</td>\n      <td>44</td>\n      <td>HU469</td>\n      <td>27</td>\n      <td>SI</td>\n      <td>NaN</td>\n      <td>3.0</td>\n      <td>0.0</td>\n      <td>75%</td>\n      <td>16.44</td>\n    </tr>\n    <tr>\n      <th>4</th>\n      <td>201811484</td>\n      <td>202002</td>\n      <td>44</td>\n      <td>HU508</td>\n      <td>27</td>\n      <td>NO</td>\n      <td>NaN</td>\n      <td>3.0</td>\n      <td>0.0</td>\n      <td>78%</td>\n      <td>15.38</td>\n    </tr>\n    <tr>\n      <th>5</th>\n      <td>201811484</td>\n      <td>202002</td>\n      <td>44</td>\n      <td>HU51</td>\n      <td>27</td>\n      <td>SI</td>\n      <td>NaN</td>\n      <td>3.0</td>\n      <td>0.0</td>\n      <td>85%</td>\n      <td>15.76</td>\n    </tr>\n    <tr>\n      <th>6</th>\n      <td>201811484</td>\n      <td>202002</td>\n      <td>44</td>\n      <td>IN215</td>\n      <td>27</td>\n      <td>SI</td>\n      <td>NaN</td>\n      <td>3.0</td>\n      <td>1.0</td>\n      <td>89%</td>\n      <td>14.57</td>\n    </tr>\n    <tr>\n      <th>7</th>\n      <td>201811484</td>\n      <td>202002</td>\n      <td>44</td>\n      <td>TR281</td>\n      <td>27</td>\n      <td>SI</td>\n      <td>NaN</td>\n      <td>3.0</td>\n      <td>1.0</td>\n      <td>89%</td>\n      <td>15.11</td>\n    </tr>\n    <tr>\n      <th>8</th>\n      <td>201811484</td>\n      <td>202002</td>\n      <td>44</td>\n      <td>IN147</td>\n      <td>27</td>\n      <td>SI</td>\n      <td>4.0</td>\n      <td>3.0</td>\n      <td>2.0</td>\n      <td>90%</td>\n      <td>15.02</td>\n    </tr>\n    <tr>\n      <th>9</th>\n      <td>201811484</td>\n      <td>202002</td>\n      <td>44</td>\n      <td>IN176</td>\n      <td>27</td>\n      <td>SI</td>\n      <td>4.0</td>\n      <td>3.0</td>\n      <td>2.0</td>\n      <td>68%</td>\n      <td>13.63</td>\n    </tr>\n    <tr>\n      <th>10</th>\n      <td>201811484</td>\n      <td>202002</td>\n      <td>44</td>\n      <td>IN214</td>\n      <td>27</td>\n      <td>SI</td>\n      <td>5.0</td>\n      <td>3.0</td>\n      <td>1.0</td>\n      <td>69%</td>\n      <td>13.89</td>\n    </tr>\n    <tr>\n      <th>11</th>\n      <td>201811484</td>\n      <td>202002</td>\n      <td>44</td>\n      <td>IN395</td>\n      <td>27</td>\n      <td>SI</td>\n      <td>3.0</td>\n      <td>3.0</td>\n      <td>1.0</td>\n      <td>61%</td>\n      <td>13.03</td>\n    </tr>\n    <tr>\n      <th>12</th>\n      <td>201811484</td>\n      <td>202002</td>\n      <td>44</td>\n      <td>IN399</td>\n      <td>27</td>\n      <td>SI</td>\n      <td>4.0</td>\n      <td>3.0</td>\n      <td>1.0</td>\n      <td>86%</td>\n      <td>15.32</td>\n    </tr>\n    <tr>\n      <th>13</th>\n      <td>201811484</td>\n      <td>202002</td>\n      <td>44</td>\n      <td>IN92</td>\n      <td>27</td>\n      <td>SI</td>\n      <td>3.0</td>\n      <td>3.0</td>\n      <td>1.0</td>\n      <td>94%</td>\n      <td>15.57</td>\n    </tr>\n  </tbody>\n</table>\n</div>"
     },
     "metadata": {},
     "execution_count": 3
    }
   ],
   "source": [
    "df_tmp = pd.read_csv('df_eval_alum_curso.csv')\n",
    "df_tmp"
   ]
  },
  {
   "cell_type": "code",
   "execution_count": 5,
   "metadata": {},
   "outputs": [
    {
     "output_type": "execute_result",
     "data": {
      "text/plain": [
       "            COD_PERIODO  COD_CURRIC_ALUM m_habil_COD_CURSO  MAX_CREDITAJE  \\\n",
       "COD_ALUMNO                                                                  \n",
       "201811484        202002               44              AH57             27   \n",
       "201811484        202002               44              EF40             27   \n",
       "201811484        202002               44             HU187             27   \n",
       "201811484        202002               44             HU469             27   \n",
       "201811484        202002               44             HU508             27   \n",
       "201811484        202002               44              HU51             27   \n",
       "201811484        202002               44             IN215             27   \n",
       "201811484        202002               44             TR281             27   \n",
       "201811484        202002               44             IN147             27   \n",
       "201811484        202002               44             IN176             27   \n",
       "201811484        202002               44             IN214             27   \n",
       "201811484        202002               44             IN395             27   \n",
       "201811484        202002               44             IN399             27   \n",
       "201811484        202002               44              IN92             27   \n",
       "\n",
       "           HABILITADO  CRED_CURSO  ranking  Ruta Critica prom_promedios_Aprob  \\\n",
       "COD_ALUMNO                                                                      \n",
       "201811484          NO         NaN      3.0           0.0                  76%   \n",
       "201811484          SI         NaN      3.0           0.0                  48%   \n",
       "201811484          SI         NaN      3.0           0.0                  80%   \n",
       "201811484          SI         NaN      3.0           0.0                  75%   \n",
       "201811484          NO         NaN      3.0           0.0                  78%   \n",
       "201811484          SI         NaN      3.0           0.0                  85%   \n",
       "201811484          SI         NaN      3.0           1.0                  89%   \n",
       "201811484          SI         NaN      3.0           1.0                  89%   \n",
       "201811484          SI         4.0      3.0           2.0                  90%   \n",
       "201811484          SI         4.0      3.0           2.0                  68%   \n",
       "201811484          SI         5.0      3.0           1.0                  69%   \n",
       "201811484          SI         3.0      3.0           1.0                  61%   \n",
       "201811484          SI         4.0      3.0           1.0                  86%   \n",
       "201811484          SI         3.0      3.0           1.0                  94%   \n",
       "\n",
       "            prom_promedios_notas  \n",
       "COD_ALUMNO                        \n",
       "201811484                  15.96  \n",
       "201811484                  12.50  \n",
       "201811484                  15.10  \n",
       "201811484                  16.44  \n",
       "201811484                  15.38  \n",
       "201811484                  15.76  \n",
       "201811484                  14.57  \n",
       "201811484                  15.11  \n",
       "201811484                  15.02  \n",
       "201811484                  13.63  \n",
       "201811484                  13.89  \n",
       "201811484                  13.03  \n",
       "201811484                  15.32  \n",
       "201811484                  15.57  "
      ],
      "text/html": "<div>\n<style scoped>\n    .dataframe tbody tr th:only-of-type {\n        vertical-align: middle;\n    }\n\n    .dataframe tbody tr th {\n        vertical-align: top;\n    }\n\n    .dataframe thead th {\n        text-align: right;\n    }\n</style>\n<table border=\"1\" class=\"dataframe\">\n  <thead>\n    <tr style=\"text-align: right;\">\n      <th></th>\n      <th>COD_PERIODO</th>\n      <th>COD_CURRIC_ALUM</th>\n      <th>m_habil_COD_CURSO</th>\n      <th>MAX_CREDITAJE</th>\n      <th>HABILITADO</th>\n      <th>CRED_CURSO</th>\n      <th>ranking</th>\n      <th>Ruta Critica</th>\n      <th>prom_promedios_Aprob</th>\n      <th>prom_promedios_notas</th>\n    </tr>\n    <tr>\n      <th>COD_ALUMNO</th>\n      <th></th>\n      <th></th>\n      <th></th>\n      <th></th>\n      <th></th>\n      <th></th>\n      <th></th>\n      <th></th>\n      <th></th>\n      <th></th>\n    </tr>\n  </thead>\n  <tbody>\n    <tr>\n      <th>201811484</th>\n      <td>202002</td>\n      <td>44</td>\n      <td>AH57</td>\n      <td>27</td>\n      <td>NO</td>\n      <td>NaN</td>\n      <td>3.0</td>\n      <td>0.0</td>\n      <td>76%</td>\n      <td>15.96</td>\n    </tr>\n    <tr>\n      <th>201811484</th>\n      <td>202002</td>\n      <td>44</td>\n      <td>EF40</td>\n      <td>27</td>\n      <td>SI</td>\n      <td>NaN</td>\n      <td>3.0</td>\n      <td>0.0</td>\n      <td>48%</td>\n      <td>12.50</td>\n    </tr>\n    <tr>\n      <th>201811484</th>\n      <td>202002</td>\n      <td>44</td>\n      <td>HU187</td>\n      <td>27</td>\n      <td>SI</td>\n      <td>NaN</td>\n      <td>3.0</td>\n      <td>0.0</td>\n      <td>80%</td>\n      <td>15.10</td>\n    </tr>\n    <tr>\n      <th>201811484</th>\n      <td>202002</td>\n      <td>44</td>\n      <td>HU469</td>\n      <td>27</td>\n      <td>SI</td>\n      <td>NaN</td>\n      <td>3.0</td>\n      <td>0.0</td>\n      <td>75%</td>\n      <td>16.44</td>\n    </tr>\n    <tr>\n      <th>201811484</th>\n      <td>202002</td>\n      <td>44</td>\n      <td>HU508</td>\n      <td>27</td>\n      <td>NO</td>\n      <td>NaN</td>\n      <td>3.0</td>\n      <td>0.0</td>\n      <td>78%</td>\n      <td>15.38</td>\n    </tr>\n    <tr>\n      <th>201811484</th>\n      <td>202002</td>\n      <td>44</td>\n      <td>HU51</td>\n      <td>27</td>\n      <td>SI</td>\n      <td>NaN</td>\n      <td>3.0</td>\n      <td>0.0</td>\n      <td>85%</td>\n      <td>15.76</td>\n    </tr>\n    <tr>\n      <th>201811484</th>\n      <td>202002</td>\n      <td>44</td>\n      <td>IN215</td>\n      <td>27</td>\n      <td>SI</td>\n      <td>NaN</td>\n      <td>3.0</td>\n      <td>1.0</td>\n      <td>89%</td>\n      <td>14.57</td>\n    </tr>\n    <tr>\n      <th>201811484</th>\n      <td>202002</td>\n      <td>44</td>\n      <td>TR281</td>\n      <td>27</td>\n      <td>SI</td>\n      <td>NaN</td>\n      <td>3.0</td>\n      <td>1.0</td>\n      <td>89%</td>\n      <td>15.11</td>\n    </tr>\n    <tr>\n      <th>201811484</th>\n      <td>202002</td>\n      <td>44</td>\n      <td>IN147</td>\n      <td>27</td>\n      <td>SI</td>\n      <td>4.0</td>\n      <td>3.0</td>\n      <td>2.0</td>\n      <td>90%</td>\n      <td>15.02</td>\n    </tr>\n    <tr>\n      <th>201811484</th>\n      <td>202002</td>\n      <td>44</td>\n      <td>IN176</td>\n      <td>27</td>\n      <td>SI</td>\n      <td>4.0</td>\n      <td>3.0</td>\n      <td>2.0</td>\n      <td>68%</td>\n      <td>13.63</td>\n    </tr>\n    <tr>\n      <th>201811484</th>\n      <td>202002</td>\n      <td>44</td>\n      <td>IN214</td>\n      <td>27</td>\n      <td>SI</td>\n      <td>5.0</td>\n      <td>3.0</td>\n      <td>1.0</td>\n      <td>69%</td>\n      <td>13.89</td>\n    </tr>\n    <tr>\n      <th>201811484</th>\n      <td>202002</td>\n      <td>44</td>\n      <td>IN395</td>\n      <td>27</td>\n      <td>SI</td>\n      <td>3.0</td>\n      <td>3.0</td>\n      <td>1.0</td>\n      <td>61%</td>\n      <td>13.03</td>\n    </tr>\n    <tr>\n      <th>201811484</th>\n      <td>202002</td>\n      <td>44</td>\n      <td>IN399</td>\n      <td>27</td>\n      <td>SI</td>\n      <td>4.0</td>\n      <td>3.0</td>\n      <td>1.0</td>\n      <td>86%</td>\n      <td>15.32</td>\n    </tr>\n    <tr>\n      <th>201811484</th>\n      <td>202002</td>\n      <td>44</td>\n      <td>IN92</td>\n      <td>27</td>\n      <td>SI</td>\n      <td>3.0</td>\n      <td>3.0</td>\n      <td>1.0</td>\n      <td>94%</td>\n      <td>15.57</td>\n    </tr>\n  </tbody>\n</table>\n</div>"
     },
     "metadata": {},
     "execution_count": 5
    }
   ],
   "source": [
    "df_tmp.set_index('COD_ALUMNO',inplace=True)\n",
    "df_tmp"
   ]
  },
  {
   "cell_type": "code",
   "execution_count": 13,
   "metadata": {},
   "outputs": [
    {
     "output_type": "execute_result",
     "data": {
      "text/plain": [
       "            COD_PERIODO  COD_CURRIC_ALUM m_habil_COD_CURSO  MAX_CREDITAJE  \\\n",
       "COD_ALUMNO                                                                  \n",
       "201811484        202002               44             IN147             27   \n",
       "201811484        202002               44             IN176             27   \n",
       "201811484        202002               44              IN92             27   \n",
       "201811484        202002               44             TR281             27   \n",
       "201811484        202002               44             IN215             27   \n",
       "201811484        202002               44             IN399             27   \n",
       "201811484        202002               44             IN214             27   \n",
       "201811484        202002               44             IN395             27   \n",
       "201811484        202002               44              HU51             27   \n",
       "201811484        202002               44             HU187             27   \n",
       "201811484        202002               44             HU469             27   \n",
       "201811484        202002               44              EF40             27   \n",
       "201811484        202002               44             HU508             27   \n",
       "201811484        202002               44              AH57             27   \n",
       "\n",
       "           HABILITADO  CRED_CURSO  ranking  Ruta Critica prom_promedios_Aprob  \\\n",
       "COD_ALUMNO                                                                      \n",
       "201811484          SI         4.0      3.0           2.0                  90%   \n",
       "201811484          SI         4.0      3.0           2.0                  68%   \n",
       "201811484          SI         3.0      3.0           1.0                  94%   \n",
       "201811484          SI         NaN      3.0           1.0                  89%   \n",
       "201811484          SI         NaN      3.0           1.0                  89%   \n",
       "201811484          SI         4.0      3.0           1.0                  86%   \n",
       "201811484          SI         5.0      3.0           1.0                  69%   \n",
       "201811484          SI         3.0      3.0           1.0                  61%   \n",
       "201811484          SI         NaN      3.0           0.0                  85%   \n",
       "201811484          SI         NaN      3.0           0.0                  80%   \n",
       "201811484          SI         NaN      3.0           0.0                  75%   \n",
       "201811484          SI         NaN      3.0           0.0                  48%   \n",
       "201811484          NO         NaN      3.0           0.0                  78%   \n",
       "201811484          NO         NaN      3.0           0.0                  76%   \n",
       "\n",
       "            prom_promedios_notas  \n",
       "COD_ALUMNO                        \n",
       "201811484                  15.02  \n",
       "201811484                  13.63  \n",
       "201811484                  15.57  \n",
       "201811484                  15.11  \n",
       "201811484                  14.57  \n",
       "201811484                  15.32  \n",
       "201811484                  13.89  \n",
       "201811484                  13.03  \n",
       "201811484                  15.76  \n",
       "201811484                  15.10  \n",
       "201811484                  16.44  \n",
       "201811484                  12.50  \n",
       "201811484                  15.38  \n",
       "201811484                  15.96  "
      ],
      "text/html": "<div>\n<style scoped>\n    .dataframe tbody tr th:only-of-type {\n        vertical-align: middle;\n    }\n\n    .dataframe tbody tr th {\n        vertical-align: top;\n    }\n\n    .dataframe thead th {\n        text-align: right;\n    }\n</style>\n<table border=\"1\" class=\"dataframe\">\n  <thead>\n    <tr style=\"text-align: right;\">\n      <th></th>\n      <th>COD_PERIODO</th>\n      <th>COD_CURRIC_ALUM</th>\n      <th>m_habil_COD_CURSO</th>\n      <th>MAX_CREDITAJE</th>\n      <th>HABILITADO</th>\n      <th>CRED_CURSO</th>\n      <th>ranking</th>\n      <th>Ruta Critica</th>\n      <th>prom_promedios_Aprob</th>\n      <th>prom_promedios_notas</th>\n    </tr>\n    <tr>\n      <th>COD_ALUMNO</th>\n      <th></th>\n      <th></th>\n      <th></th>\n      <th></th>\n      <th></th>\n      <th></th>\n      <th></th>\n      <th></th>\n      <th></th>\n      <th></th>\n    </tr>\n  </thead>\n  <tbody>\n    <tr>\n      <th>201811484</th>\n      <td>202002</td>\n      <td>44</td>\n      <td>IN147</td>\n      <td>27</td>\n      <td>SI</td>\n      <td>4.0</td>\n      <td>3.0</td>\n      <td>2.0</td>\n      <td>90%</td>\n      <td>15.02</td>\n    </tr>\n    <tr>\n      <th>201811484</th>\n      <td>202002</td>\n      <td>44</td>\n      <td>IN176</td>\n      <td>27</td>\n      <td>SI</td>\n      <td>4.0</td>\n      <td>3.0</td>\n      <td>2.0</td>\n      <td>68%</td>\n      <td>13.63</td>\n    </tr>\n    <tr>\n      <th>201811484</th>\n      <td>202002</td>\n      <td>44</td>\n      <td>IN92</td>\n      <td>27</td>\n      <td>SI</td>\n      <td>3.0</td>\n      <td>3.0</td>\n      <td>1.0</td>\n      <td>94%</td>\n      <td>15.57</td>\n    </tr>\n    <tr>\n      <th>201811484</th>\n      <td>202002</td>\n      <td>44</td>\n      <td>TR281</td>\n      <td>27</td>\n      <td>SI</td>\n      <td>NaN</td>\n      <td>3.0</td>\n      <td>1.0</td>\n      <td>89%</td>\n      <td>15.11</td>\n    </tr>\n    <tr>\n      <th>201811484</th>\n      <td>202002</td>\n      <td>44</td>\n      <td>IN215</td>\n      <td>27</td>\n      <td>SI</td>\n      <td>NaN</td>\n      <td>3.0</td>\n      <td>1.0</td>\n      <td>89%</td>\n      <td>14.57</td>\n    </tr>\n    <tr>\n      <th>201811484</th>\n      <td>202002</td>\n      <td>44</td>\n      <td>IN399</td>\n      <td>27</td>\n      <td>SI</td>\n      <td>4.0</td>\n      <td>3.0</td>\n      <td>1.0</td>\n      <td>86%</td>\n      <td>15.32</td>\n    </tr>\n    <tr>\n      <th>201811484</th>\n      <td>202002</td>\n      <td>44</td>\n      <td>IN214</td>\n      <td>27</td>\n      <td>SI</td>\n      <td>5.0</td>\n      <td>3.0</td>\n      <td>1.0</td>\n      <td>69%</td>\n      <td>13.89</td>\n    </tr>\n    <tr>\n      <th>201811484</th>\n      <td>202002</td>\n      <td>44</td>\n      <td>IN395</td>\n      <td>27</td>\n      <td>SI</td>\n      <td>3.0</td>\n      <td>3.0</td>\n      <td>1.0</td>\n      <td>61%</td>\n      <td>13.03</td>\n    </tr>\n    <tr>\n      <th>201811484</th>\n      <td>202002</td>\n      <td>44</td>\n      <td>HU51</td>\n      <td>27</td>\n      <td>SI</td>\n      <td>NaN</td>\n      <td>3.0</td>\n      <td>0.0</td>\n      <td>85%</td>\n      <td>15.76</td>\n    </tr>\n    <tr>\n      <th>201811484</th>\n      <td>202002</td>\n      <td>44</td>\n      <td>HU187</td>\n      <td>27</td>\n      <td>SI</td>\n      <td>NaN</td>\n      <td>3.0</td>\n      <td>0.0</td>\n      <td>80%</td>\n      <td>15.10</td>\n    </tr>\n    <tr>\n      <th>201811484</th>\n      <td>202002</td>\n      <td>44</td>\n      <td>HU469</td>\n      <td>27</td>\n      <td>SI</td>\n      <td>NaN</td>\n      <td>3.0</td>\n      <td>0.0</td>\n      <td>75%</td>\n      <td>16.44</td>\n    </tr>\n    <tr>\n      <th>201811484</th>\n      <td>202002</td>\n      <td>44</td>\n      <td>EF40</td>\n      <td>27</td>\n      <td>SI</td>\n      <td>NaN</td>\n      <td>3.0</td>\n      <td>0.0</td>\n      <td>48%</td>\n      <td>12.50</td>\n    </tr>\n    <tr>\n      <th>201811484</th>\n      <td>202002</td>\n      <td>44</td>\n      <td>HU508</td>\n      <td>27</td>\n      <td>NO</td>\n      <td>NaN</td>\n      <td>3.0</td>\n      <td>0.0</td>\n      <td>78%</td>\n      <td>15.38</td>\n    </tr>\n    <tr>\n      <th>201811484</th>\n      <td>202002</td>\n      <td>44</td>\n      <td>AH57</td>\n      <td>27</td>\n      <td>NO</td>\n      <td>NaN</td>\n      <td>3.0</td>\n      <td>0.0</td>\n      <td>76%</td>\n      <td>15.96</td>\n    </tr>\n  </tbody>\n</table>\n</div>"
     },
     "metadata": {},
     "execution_count": 13
    }
   ],
   "source": [
    "df_sistm_recome = df_tmp.sort_values(['HABILITADO', 'Ruta Critica','prom_promedios_Aprob','prom_promedios_notas'], ascending=[False, False, False, False])\n",
    "df_sistm_recome"
   ]
  },
  {
   "source": [
    "# Sistema de Recomdanción al Alumno"
   ],
   "cell_type": "markdown",
   "metadata": {}
  },
  {
   "cell_type": "code",
   "execution_count": 12,
   "metadata": {},
   "outputs": [
    {
     "output_type": "execute_result",
     "data": {
      "text/plain": [
       "            COD_PERIODO  COD_CURRIC_ALUM m_habil_COD_CURSO  MAX_CREDITAJE  \\\n",
       "COD_ALUMNO                                                                  \n",
       "201811484        202002               44             IN147             27   \n",
       "201811484        202002               44             IN176             27   \n",
       "201811484        202002               44              IN92             27   \n",
       "201811484        202002               44             TR281             27   \n",
       "201811484        202002               44             IN215             27   \n",
       "201811484        202002               44             IN399             27   \n",
       "201811484        202002               44             IN214             27   \n",
       "201811484        202002               44             IN395             27   \n",
       "201811484        202002               44              HU51             27   \n",
       "201811484        202002               44             HU187             27   \n",
       "201811484        202002               44             HU469             27   \n",
       "201811484        202002               44              EF40             27   \n",
       "\n",
       "           HABILITADO  CRED_CURSO  ranking  Ruta Critica prom_promedios_Aprob  \\\n",
       "COD_ALUMNO                                                                      \n",
       "201811484          SI         4.0      3.0           2.0                  90%   \n",
       "201811484          SI         4.0      3.0           2.0                  68%   \n",
       "201811484          SI         3.0      3.0           1.0                  94%   \n",
       "201811484          SI         NaN      3.0           1.0                  89%   \n",
       "201811484          SI         NaN      3.0           1.0                  89%   \n",
       "201811484          SI         4.0      3.0           1.0                  86%   \n",
       "201811484          SI         5.0      3.0           1.0                  69%   \n",
       "201811484          SI         3.0      3.0           1.0                  61%   \n",
       "201811484          SI         NaN      3.0           0.0                  85%   \n",
       "201811484          SI         NaN      3.0           0.0                  80%   \n",
       "201811484          SI         NaN      3.0           0.0                  75%   \n",
       "201811484          SI         NaN      3.0           0.0                  48%   \n",
       "\n",
       "            prom_promedios_notas  \n",
       "COD_ALUMNO                        \n",
       "201811484                  15.02  \n",
       "201811484                  13.63  \n",
       "201811484                  15.57  \n",
       "201811484                  15.11  \n",
       "201811484                  14.57  \n",
       "201811484                  15.32  \n",
       "201811484                  13.89  \n",
       "201811484                  13.03  \n",
       "201811484                  15.76  \n",
       "201811484                  15.10  \n",
       "201811484                  16.44  \n",
       "201811484                  12.50  "
      ],
      "text/html": "<div>\n<style scoped>\n    .dataframe tbody tr th:only-of-type {\n        vertical-align: middle;\n    }\n\n    .dataframe tbody tr th {\n        vertical-align: top;\n    }\n\n    .dataframe thead th {\n        text-align: right;\n    }\n</style>\n<table border=\"1\" class=\"dataframe\">\n  <thead>\n    <tr style=\"text-align: right;\">\n      <th></th>\n      <th>COD_PERIODO</th>\n      <th>COD_CURRIC_ALUM</th>\n      <th>m_habil_COD_CURSO</th>\n      <th>MAX_CREDITAJE</th>\n      <th>HABILITADO</th>\n      <th>CRED_CURSO</th>\n      <th>ranking</th>\n      <th>Ruta Critica</th>\n      <th>prom_promedios_Aprob</th>\n      <th>prom_promedios_notas</th>\n    </tr>\n    <tr>\n      <th>COD_ALUMNO</th>\n      <th></th>\n      <th></th>\n      <th></th>\n      <th></th>\n      <th></th>\n      <th></th>\n      <th></th>\n      <th></th>\n      <th></th>\n      <th></th>\n    </tr>\n  </thead>\n  <tbody>\n    <tr>\n      <th>201811484</th>\n      <td>202002</td>\n      <td>44</td>\n      <td>IN147</td>\n      <td>27</td>\n      <td>SI</td>\n      <td>4.0</td>\n      <td>3.0</td>\n      <td>2.0</td>\n      <td>90%</td>\n      <td>15.02</td>\n    </tr>\n    <tr>\n      <th>201811484</th>\n      <td>202002</td>\n      <td>44</td>\n      <td>IN176</td>\n      <td>27</td>\n      <td>SI</td>\n      <td>4.0</td>\n      <td>3.0</td>\n      <td>2.0</td>\n      <td>68%</td>\n      <td>13.63</td>\n    </tr>\n    <tr>\n      <th>201811484</th>\n      <td>202002</td>\n      <td>44</td>\n      <td>IN92</td>\n      <td>27</td>\n      <td>SI</td>\n      <td>3.0</td>\n      <td>3.0</td>\n      <td>1.0</td>\n      <td>94%</td>\n      <td>15.57</td>\n    </tr>\n    <tr>\n      <th>201811484</th>\n      <td>202002</td>\n      <td>44</td>\n      <td>TR281</td>\n      <td>27</td>\n      <td>SI</td>\n      <td>NaN</td>\n      <td>3.0</td>\n      <td>1.0</td>\n      <td>89%</td>\n      <td>15.11</td>\n    </tr>\n    <tr>\n      <th>201811484</th>\n      <td>202002</td>\n      <td>44</td>\n      <td>IN215</td>\n      <td>27</td>\n      <td>SI</td>\n      <td>NaN</td>\n      <td>3.0</td>\n      <td>1.0</td>\n      <td>89%</td>\n      <td>14.57</td>\n    </tr>\n    <tr>\n      <th>201811484</th>\n      <td>202002</td>\n      <td>44</td>\n      <td>IN399</td>\n      <td>27</td>\n      <td>SI</td>\n      <td>4.0</td>\n      <td>3.0</td>\n      <td>1.0</td>\n      <td>86%</td>\n      <td>15.32</td>\n    </tr>\n    <tr>\n      <th>201811484</th>\n      <td>202002</td>\n      <td>44</td>\n      <td>IN214</td>\n      <td>27</td>\n      <td>SI</td>\n      <td>5.0</td>\n      <td>3.0</td>\n      <td>1.0</td>\n      <td>69%</td>\n      <td>13.89</td>\n    </tr>\n    <tr>\n      <th>201811484</th>\n      <td>202002</td>\n      <td>44</td>\n      <td>IN395</td>\n      <td>27</td>\n      <td>SI</td>\n      <td>3.0</td>\n      <td>3.0</td>\n      <td>1.0</td>\n      <td>61%</td>\n      <td>13.03</td>\n    </tr>\n    <tr>\n      <th>201811484</th>\n      <td>202002</td>\n      <td>44</td>\n      <td>HU51</td>\n      <td>27</td>\n      <td>SI</td>\n      <td>NaN</td>\n      <td>3.0</td>\n      <td>0.0</td>\n      <td>85%</td>\n      <td>15.76</td>\n    </tr>\n    <tr>\n      <th>201811484</th>\n      <td>202002</td>\n      <td>44</td>\n      <td>HU187</td>\n      <td>27</td>\n      <td>SI</td>\n      <td>NaN</td>\n      <td>3.0</td>\n      <td>0.0</td>\n      <td>80%</td>\n      <td>15.10</td>\n    </tr>\n    <tr>\n      <th>201811484</th>\n      <td>202002</td>\n      <td>44</td>\n      <td>HU469</td>\n      <td>27</td>\n      <td>SI</td>\n      <td>NaN</td>\n      <td>3.0</td>\n      <td>0.0</td>\n      <td>75%</td>\n      <td>16.44</td>\n    </tr>\n    <tr>\n      <th>201811484</th>\n      <td>202002</td>\n      <td>44</td>\n      <td>EF40</td>\n      <td>27</td>\n      <td>SI</td>\n      <td>NaN</td>\n      <td>3.0</td>\n      <td>0.0</td>\n      <td>48%</td>\n      <td>12.50</td>\n    </tr>\n  </tbody>\n</table>\n</div>"
     },
     "metadata": {},
     "execution_count": 12
    }
   ],
   "source": [
    "df_sistm_recome[df_sistm_recome['HABILITADO'] == \"SI\"]"
   ]
  },
  {
   "cell_type": "code",
   "execution_count": null,
   "metadata": {},
   "outputs": [],
   "source": [
    "# COD_PERIODO\tCOD_CURRIC_ALUM\tm_habil_COD_CURSO\tMAX_CREDITAJE\tHABILITADO\tranking\tRuta Critica    prom_promedios_Aprob\tprom_promedios_notas\t"
   ]
  },
  {
   "cell_type": "code",
   "execution_count": null,
   "metadata": {},
   "outputs": [],
   "source": []
  },
  {
   "cell_type": "code",
   "execution_count": null,
   "metadata": {},
   "outputs": [],
   "source": []
  },
  {
   "cell_type": "markdown",
   "metadata": {},
   "source": [
    "## Sistema de Recomendacion"
   ]
  },
  {
   "cell_type": "markdown",
   "metadata": {},
   "source": [
    "- Filtra por malla\n",
    "- Busca en el banco de datos la lista de cursos para matricula del alumno"
   ]
  },
  {
   "cell_type": "code",
   "execution_count": 246,
   "metadata": {},
   "outputs": [],
   "source": [
    "df_newmalla = pd.DataFrame()"
   ]
  },
  {
   "cell_type": "code",
   "execution_count": 247,
   "metadata": {},
   "outputs": [
    {
     "output_type": "execute_result",
     "data": {
      "text/plain": [
       "       COD_CURRICULO  Ruta Critica  TOTAL CRED prom_promedios_Aprob  \\\n",
       "AD185           44.0           0.0         3.0                  89%   \n",
       "AD687           44.0           0.0         3.0                  86%   \n",
       "AH57            44.0           0.0         3.0                  76%   \n",
       "AH66            44.0           0.0         3.0                  83%   \n",
       "AH67            44.0           0.0         3.0                  82%   \n",
       "HU469           44.0           0.0         3.0                  75%   \n",
       "HU508           44.0           0.0         3.0                  78%   \n",
       "HU522           44.0           0.0         3.0                  58%   \n",
       "IN149           44.0           0.0         3.0                  88%   \n",
       "IN150           44.0           0.0         3.0                  75%   \n",
       "IN155           44.0           0.0         3.0                  91%   \n",
       "IN181           44.0           0.0         3.0                  91%   \n",
       "IN183           44.0           0.0         3.0                  74%   \n",
       "IN184           44.0           0.0         3.0                  81%   \n",
       "IN185           44.0           0.0         3.0                  49%   \n",
       "IN186           44.0           0.0         3.0                  75%   \n",
       "IN187           44.0           0.0         3.0                  90%   \n",
       "IN395           44.0           1.0         3.0                  61%   \n",
       "HU187           44.0           0.0         3.0                  80%   \n",
       "HU51            44.0           0.0         3.0                  85%   \n",
       "IN134           44.0           1.0         4.0                  95%   \n",
       "IN137           44.0           0.0         3.0                  94%   \n",
       "IN175           44.0           1.0         4.0                  86%   \n",
       "IN178           44.0           1.0         3.0                  81%   \n",
       "IN215           44.0           1.0         4.0                  89%   \n",
       "IN93            44.0           1.0         3.0                  97%   \n",
       "\n",
       "      prom_promedios_notas  \n",
       "AD185                17,98  \n",
       "AD687                16,74  \n",
       "AH57                 15,96  \n",
       "AH66                 16,63  \n",
       "AH67                 16,15  \n",
       "HU469                16,44  \n",
       "HU508                15,38  \n",
       "HU522                15,70  \n",
       "IN149                15,04  \n",
       "IN150                14,84  \n",
       "IN155                16,02  \n",
       "IN181                16,70  \n",
       "IN183                15,79  \n",
       "IN184                15,56  \n",
       "IN185                13,21  \n",
       "IN186                15,85  \n",
       "IN187                15,64  \n",
       "IN395                13,03  \n",
       "HU187                15,10  \n",
       "HU51                 15,76  \n",
       "IN134                15,12  \n",
       "IN137                15,67  \n",
       "IN175                14,59  \n",
       "IN178                14,53  \n",
       "IN215                14,57  \n",
       "IN93                 15,54  "
      ],
      "text/html": "<div>\n<style scoped>\n    .dataframe tbody tr th:only-of-type {\n        vertical-align: middle;\n    }\n\n    .dataframe tbody tr th {\n        vertical-align: top;\n    }\n\n    .dataframe thead th {\n        text-align: right;\n    }\n</style>\n<table border=\"1\" class=\"dataframe\">\n  <thead>\n    <tr style=\"text-align: right;\">\n      <th></th>\n      <th>COD_CURRICULO</th>\n      <th>Ruta Critica</th>\n      <th>TOTAL CRED</th>\n      <th>prom_promedios_Aprob</th>\n      <th>prom_promedios_notas</th>\n    </tr>\n  </thead>\n  <tbody>\n    <tr>\n      <th>AD185</th>\n      <td>44.0</td>\n      <td>0.0</td>\n      <td>3.0</td>\n      <td>89%</td>\n      <td>17,98</td>\n    </tr>\n    <tr>\n      <th>AD687</th>\n      <td>44.0</td>\n      <td>0.0</td>\n      <td>3.0</td>\n      <td>86%</td>\n      <td>16,74</td>\n    </tr>\n    <tr>\n      <th>AH57</th>\n      <td>44.0</td>\n      <td>0.0</td>\n      <td>3.0</td>\n      <td>76%</td>\n      <td>15,96</td>\n    </tr>\n    <tr>\n      <th>AH66</th>\n      <td>44.0</td>\n      <td>0.0</td>\n      <td>3.0</td>\n      <td>83%</td>\n      <td>16,63</td>\n    </tr>\n    <tr>\n      <th>AH67</th>\n      <td>44.0</td>\n      <td>0.0</td>\n      <td>3.0</td>\n      <td>82%</td>\n      <td>16,15</td>\n    </tr>\n    <tr>\n      <th>HU469</th>\n      <td>44.0</td>\n      <td>0.0</td>\n      <td>3.0</td>\n      <td>75%</td>\n      <td>16,44</td>\n    </tr>\n    <tr>\n      <th>HU508</th>\n      <td>44.0</td>\n      <td>0.0</td>\n      <td>3.0</td>\n      <td>78%</td>\n      <td>15,38</td>\n    </tr>\n    <tr>\n      <th>HU522</th>\n      <td>44.0</td>\n      <td>0.0</td>\n      <td>3.0</td>\n      <td>58%</td>\n      <td>15,70</td>\n    </tr>\n    <tr>\n      <th>IN149</th>\n      <td>44.0</td>\n      <td>0.0</td>\n      <td>3.0</td>\n      <td>88%</td>\n      <td>15,04</td>\n    </tr>\n    <tr>\n      <th>IN150</th>\n      <td>44.0</td>\n      <td>0.0</td>\n      <td>3.0</td>\n      <td>75%</td>\n      <td>14,84</td>\n    </tr>\n    <tr>\n      <th>IN155</th>\n      <td>44.0</td>\n      <td>0.0</td>\n      <td>3.0</td>\n      <td>91%</td>\n      <td>16,02</td>\n    </tr>\n    <tr>\n      <th>IN181</th>\n      <td>44.0</td>\n      <td>0.0</td>\n      <td>3.0</td>\n      <td>91%</td>\n      <td>16,70</td>\n    </tr>\n    <tr>\n      <th>IN183</th>\n      <td>44.0</td>\n      <td>0.0</td>\n      <td>3.0</td>\n      <td>74%</td>\n      <td>15,79</td>\n    </tr>\n    <tr>\n      <th>IN184</th>\n      <td>44.0</td>\n      <td>0.0</td>\n      <td>3.0</td>\n      <td>81%</td>\n      <td>15,56</td>\n    </tr>\n    <tr>\n      <th>IN185</th>\n      <td>44.0</td>\n      <td>0.0</td>\n      <td>3.0</td>\n      <td>49%</td>\n      <td>13,21</td>\n    </tr>\n    <tr>\n      <th>IN186</th>\n      <td>44.0</td>\n      <td>0.0</td>\n      <td>3.0</td>\n      <td>75%</td>\n      <td>15,85</td>\n    </tr>\n    <tr>\n      <th>IN187</th>\n      <td>44.0</td>\n      <td>0.0</td>\n      <td>3.0</td>\n      <td>90%</td>\n      <td>15,64</td>\n    </tr>\n    <tr>\n      <th>IN395</th>\n      <td>44.0</td>\n      <td>1.0</td>\n      <td>3.0</td>\n      <td>61%</td>\n      <td>13,03</td>\n    </tr>\n    <tr>\n      <th>HU187</th>\n      <td>44.0</td>\n      <td>0.0</td>\n      <td>3.0</td>\n      <td>80%</td>\n      <td>15,10</td>\n    </tr>\n    <tr>\n      <th>HU51</th>\n      <td>44.0</td>\n      <td>0.0</td>\n      <td>3.0</td>\n      <td>85%</td>\n      <td>15,76</td>\n    </tr>\n    <tr>\n      <th>IN134</th>\n      <td>44.0</td>\n      <td>1.0</td>\n      <td>4.0</td>\n      <td>95%</td>\n      <td>15,12</td>\n    </tr>\n    <tr>\n      <th>IN137</th>\n      <td>44.0</td>\n      <td>0.0</td>\n      <td>3.0</td>\n      <td>94%</td>\n      <td>15,67</td>\n    </tr>\n    <tr>\n      <th>IN175</th>\n      <td>44.0</td>\n      <td>1.0</td>\n      <td>4.0</td>\n      <td>86%</td>\n      <td>14,59</td>\n    </tr>\n    <tr>\n      <th>IN178</th>\n      <td>44.0</td>\n      <td>1.0</td>\n      <td>3.0</td>\n      <td>81%</td>\n      <td>14,53</td>\n    </tr>\n    <tr>\n      <th>IN215</th>\n      <td>44.0</td>\n      <td>1.0</td>\n      <td>4.0</td>\n      <td>89%</td>\n      <td>14,57</td>\n    </tr>\n    <tr>\n      <th>IN93</th>\n      <td>44.0</td>\n      <td>1.0</td>\n      <td>3.0</td>\n      <td>97%</td>\n      <td>15,54</td>\n    </tr>\n  </tbody>\n</table>\n</div>"
     },
     "metadata": {},
     "execution_count": 247
    }
   ],
   "source": [
    "for curso in lista_cursos:\n",
    "    #df_objtmp=banco_cursos_malla[banco_cursos_malla.COD_CURSO == curso][['COD_CURSO', 'prom_promedios_notas', 'prom_promedios_Aprob', 'Ruta Critica']]\n",
    "    df_newmalla = df_newmalla.append(banco_cursos_malla.loc[ curso ,:] )\n",
    "\n",
    "df_newmalla"
   ]
  },
  {
   "cell_type": "code",
   "execution_count": null,
   "metadata": {},
   "outputs": [],
   "source": [
    "df_newmalla"
   ]
  },
  {
   "source": [
    "Leer archivo que contiene perfil del alumno, recuperar valor de la columna \"RENDIMIENTO\" para ese alumno\n",
    "\n",
    "Segun ese valor retornar los cursos recomendandos\n",
    "\n",
    "Si RENDIMIENTO igual BUENO retorno cursos segun ruta critica\n",
    "\n",
    "Si RENDIMIENTO igual REGULAR ...\n",
    "\n",
    "Si RENDIMIENTO igual MALO considerar promedios y aprobacion"
   ],
   "cell_type": "markdown",
   "metadata": {}
  },
  {
   "cell_type": "code",
   "execution_count": null,
   "metadata": {},
   "outputs": [],
   "source": []
  },
  {
   "cell_type": "code",
   "execution_count": null,
   "metadata": {},
   "outputs": [],
   "source": []
  },
  {
   "cell_type": "code",
   "execution_count": null,
   "metadata": {},
   "outputs": [],
   "source": []
  },
  {
   "cell_type": "code",
   "execution_count": null,
   "metadata": {},
   "outputs": [],
   "source": []
  },
  {
   "cell_type": "code",
   "execution_count": null,
   "metadata": {},
   "outputs": [],
   "source": []
  },
  {
   "cell_type": "code",
   "execution_count": null,
   "metadata": {},
   "outputs": [],
   "source": []
  },
  {
   "cell_type": "code",
   "execution_count": null,
   "metadata": {},
   "outputs": [],
   "source": []
  },
  {
   "cell_type": "code",
   "execution_count": null,
   "metadata": {},
   "outputs": [],
   "source": []
  },
  {
   "source": [
    "## Calcular el promedio del promedio de las notas x Curso Curricula\n"
   ],
   "cell_type": "markdown",
   "metadata": {}
  },
  {
   "cell_type": "code",
   "execution_count": 221,
   "metadata": {},
   "outputs": [],
   "source": [
    "xlsx_dataset_cursoCurr = pd.ExcelFile('../../../Data_Ingenieria/dataset_1.xlsx')"
   ]
  },
  {
   "cell_type": "code",
   "execution_count": 222,
   "metadata": {},
   "outputs": [],
   "source": [
    "df_dataset_cursoCurr = pd.read_excel(xlsx_dataset_cursoCurr, 'dataset_1')"
   ]
  },
  {
   "cell_type": "code",
   "execution_count": 189,
   "metadata": {},
   "outputs": [],
   "source": [
    "#del  xlsx_dataset_cursoCurr"
   ]
  },
  {
   "cell_type": "code",
   "execution_count": 194,
   "metadata": {},
   "outputs": [],
   "source": [
    "df_dataset_cursoCurr.rename({'m_curso_COD_CURSO':'COD_CURSO'}, inplace = True)"
   ]
  },
  {
   "cell_type": "code",
   "execution_count": 196,
   "metadata": {},
   "outputs": [],
   "source": [
    "df_dataset_cursoCurr = df_dataset_cursoCurr.set_index('m_curso_COD_CURSO')\n",
    "# eliminar las filas que estan en vacio"
   ]
  },
  {
   "cell_type": "code",
   "execution_count": 203,
   "metadata": {},
   "outputs": [
    {
     "output_type": "execute_result",
     "data": {
      "text/plain": [
       "Index(['COD_LINEA_NEGOCIO', 'COD_MODAL_EST', 'COD_PERIODO', 'COD_ALUMNO',\n",
       "       'APELLIDO_PATERN', 'APELLIDO_MATERN', 'NOMBRES', 'COD_FACULTAD',\n",
       "       'DESCRIPCION_FACULTAD', 'COD_PRODUC_ALUM',\n",
       "       ...\n",
       "       'FECHA_RATIFICA', 'SEDE_ALUMNO', 'm_alumno_COD_TIPO_INGRESO',\n",
       "       'm_alumno_DES_TIPO_INGRESO', 'ORDEN_MERITO_PROD_ACUM',\n",
       "       'ORDEN_MERITO_PROD', 'TIPO_MERITO_PROD', 'TIPO_MERITO_PROD_ACUM',\n",
       "       'COD_USUARIO', 'COD_PERSONA'],\n",
       "      dtype='object', length=123)"
      ]
     },
     "metadata": {},
     "execution_count": 203
    }
   ],
   "source": [
    "df_dataset_cursoCurr.columns"
   ]
  },
  {
   "cell_type": "code",
   "execution_count": 219,
   "metadata": {},
   "outputs": [
    {
     "output_type": "execute_result",
     "data": {
      "text/plain": [
       "<bound method Series.unique of m_curso_COD_CURSO\n",
       "NaN      201901\n",
       "NaN      201901\n",
       "NaN      201901\n",
       "NaN      201901\n",
       "NaN      201901\n",
       "          ...  \n",
       "HU193    202002\n",
       "HU543    202002\n",
       "IN142    202002\n",
       "MA420    202002\n",
       "MA465    202002\n",
       "Name: COD_PERIODO, Length: 268119, dtype: int64>"
      ]
     },
     "metadata": {},
     "execution_count": 219
    }
   ],
   "source": [
    "df_dataset_cursoCurr['COD_PERIODO'].unique"
   ]
  },
  {
   "cell_type": "code",
   "execution_count": 215,
   "metadata": {},
   "outputs": [
    {
     "output_type": "execute_result",
     "data": {
      "text/plain": [
       "                   COD_PERIODO  COD_CURRIC_ALUM m_habil_COD_CURSO  NOTA_CURSO\n",
       "m_curso_COD_CURSO                                                            \n",
       "NaN                     201901               41             AD185         NaN\n",
       "NaN                     201901               41             AD687         NaN\n",
       "NaN                     201901               41             AD688         NaN\n",
       "NaN                     201901               41             AD690         NaN\n",
       "NaN                     201901               41              AH53         NaN\n",
       "...                        ...              ...               ...         ...\n",
       "HU193                   202002               45             HU193        77.0\n",
       "HU543                   202002               45             HU543        77.0\n",
       "IN142                   202002               45             IN142        77.0\n",
       "MA420                   202002               45             MA420        77.0\n",
       "MA465                   202002               45             MA465        77.0\n",
       "\n",
       "[268119 rows x 4 columns]"
      ],
      "text/html": "<div>\n<style scoped>\n    .dataframe tbody tr th:only-of-type {\n        vertical-align: middle;\n    }\n\n    .dataframe tbody tr th {\n        vertical-align: top;\n    }\n\n    .dataframe thead th {\n        text-align: right;\n    }\n</style>\n<table border=\"1\" class=\"dataframe\">\n  <thead>\n    <tr style=\"text-align: right;\">\n      <th></th>\n      <th>COD_PERIODO</th>\n      <th>COD_CURRIC_ALUM</th>\n      <th>m_habil_COD_CURSO</th>\n      <th>NOTA_CURSO</th>\n    </tr>\n    <tr>\n      <th>m_curso_COD_CURSO</th>\n      <th></th>\n      <th></th>\n      <th></th>\n      <th></th>\n    </tr>\n  </thead>\n  <tbody>\n    <tr>\n      <th>NaN</th>\n      <td>201901</td>\n      <td>41</td>\n      <td>AD185</td>\n      <td>NaN</td>\n    </tr>\n    <tr>\n      <th>NaN</th>\n      <td>201901</td>\n      <td>41</td>\n      <td>AD687</td>\n      <td>NaN</td>\n    </tr>\n    <tr>\n      <th>NaN</th>\n      <td>201901</td>\n      <td>41</td>\n      <td>AD688</td>\n      <td>NaN</td>\n    </tr>\n    <tr>\n      <th>NaN</th>\n      <td>201901</td>\n      <td>41</td>\n      <td>AD690</td>\n      <td>NaN</td>\n    </tr>\n    <tr>\n      <th>NaN</th>\n      <td>201901</td>\n      <td>41</td>\n      <td>AH53</td>\n      <td>NaN</td>\n    </tr>\n    <tr>\n      <th>...</th>\n      <td>...</td>\n      <td>...</td>\n      <td>...</td>\n      <td>...</td>\n    </tr>\n    <tr>\n      <th>HU193</th>\n      <td>202002</td>\n      <td>45</td>\n      <td>HU193</td>\n      <td>77.0</td>\n    </tr>\n    <tr>\n      <th>HU543</th>\n      <td>202002</td>\n      <td>45</td>\n      <td>HU543</td>\n      <td>77.0</td>\n    </tr>\n    <tr>\n      <th>IN142</th>\n      <td>202002</td>\n      <td>45</td>\n      <td>IN142</td>\n      <td>77.0</td>\n    </tr>\n    <tr>\n      <th>MA420</th>\n      <td>202002</td>\n      <td>45</td>\n      <td>MA420</td>\n      <td>77.0</td>\n    </tr>\n    <tr>\n      <th>MA465</th>\n      <td>202002</td>\n      <td>45</td>\n      <td>MA465</td>\n      <td>77.0</td>\n    </tr>\n  </tbody>\n</table>\n<p>268119 rows × 4 columns</p>\n</div>"
     },
     "metadata": {},
     "execution_count": 215
    }
   ],
   "source": [
    "df_dataset_cursoCurr[['COD_PERIODO','COD_CURRIC_ALUM','m_habil_COD_CURSO','NOTA_CURSO']]"
   ]
  },
  {
   "cell_type": "code",
   "execution_count": null,
   "metadata": {},
   "outputs": [],
   "source": [
    "for col in df_dataset_cursoCurr.columns: \n",
    "    print(col) "
   ]
  },
  {
   "cell_type": "code",
   "execution_count": null,
   "metadata": {},
   "outputs": [],
   "source": [
    "df_dataset_cursoCurr"
   ]
  },
  {
   "cell_type": "code",
   "execution_count": null,
   "metadata": {},
   "outputs": [],
   "source": []
  },
  {
   "cell_type": "code",
   "execution_count": null,
   "metadata": {},
   "outputs": [],
   "source": []
  },
  {
   "cell_type": "code",
   "execution_count": null,
   "metadata": {},
   "outputs": [],
   "source": []
  },
  {
   "cell_type": "code",
   "execution_count": 154,
   "metadata": {},
   "outputs": [
    {
     "output_type": "stream",
     "name": "stdout",
     "text": [
      "        0      1     2    3    4\n0     NaN   None  None  NaN  NaN\n1    44.0  17,98   89%  0.0  3.0\n2    44.0  16,74   86%  0.0  3.0\n3    44.0  15,96   76%  0.0  3.0\n4    44.0  16,63   83%  0.0  3.0\n..    ...    ...   ...  ...  ...\n126  44.0  15,67   94%  0.0  3.0\n127  44.0  14,59   86%  1.0  4.0\n128  44.0  14,53   81%  1.0  3.0\n129  44.0  14,57   89%  1.0  4.0\n130  44.0  15,54   97%  1.0  3.0\n\n[131 rows x 5 columns]\n"
     ]
    }
   ],
   "source": [
    " \n",
    "#entries = [[]]\n",
    "for curso in lista_cursos:\n",
    "    #df.loc[df['A'] == item]\n",
    "    #df_objtmp=banco_cursos_malla[banco_cursos_malla.COD_CURSO == curso][['COD_CURSO', 'prom_promedios_notas', 'prom_promedios_Aprob', 'Ruta Critica']]\n",
    "    entry = banco_cursos_malla.loc[ curso ,:].to_list()\n",
    "    entries.append(entry)\n",
    "    #print(entry)\n",
    "\n",
    "print(pd.DataFrame(entries))"
   ]
  },
  {
   "cell_type": "code",
   "execution_count": 91,
   "metadata": {},
   "outputs": [
    {
     "output_type": "execute_result",
     "data": {
      "text/plain": [
       "Empty DataFrame\n",
       "Columns: [COD_CURSO, prom_promedios_notas, prom_promedios_Aprob, Ruta Critica]\n",
       "Index: []"
      ],
      "text/html": "<div>\n<style scoped>\n    .dataframe tbody tr th:only-of-type {\n        vertical-align: middle;\n    }\n\n    .dataframe tbody tr th {\n        vertical-align: top;\n    }\n\n    .dataframe thead th {\n        text-align: right;\n    }\n</style>\n<table border=\"1\" class=\"dataframe\">\n  <thead>\n    <tr style=\"text-align: right;\">\n      <th></th>\n      <th>COD_CURSO</th>\n      <th>prom_promedios_notas</th>\n      <th>prom_promedios_Aprob</th>\n      <th>Ruta Critica</th>\n    </tr>\n  </thead>\n  <tbody>\n  </tbody>\n</table>\n</div>"
     },
     "metadata": {},
     "execution_count": 91
    }
   ],
   "source": [
    "dfObj"
   ]
  },
  {
   "cell_type": "markdown",
   "metadata": {},
   "source": [
    "## Considerando rendimiento del alumno"
   ]
  },
  {
   "cell_type": "markdown",
   "metadata": {},
   "source": [
    "- Leer archivo que contiene perfil del alumno, recuperar valor de la columna \"RENDIMIENTO\" para ese alumno\n",
    "- Segun ese valor retornar los cursos recomendandos\n",
    "    - Si RENDIMIENTO igual BUENO \n",
    "      retorno cursos segun ruta critica\n",
    "    - Si RENDIMIENTO igual REGULAR\n",
    "      ...\n",
    "    - Si RENDIMIENTO igual MALO\n",
    "      considerar promedios y aprobacion"
   ]
  },
  {
   "cell_type": "code",
   "execution_count": null,
   "metadata": {},
   "outputs": [],
   "source": []
  },
  {
   "cell_type": "code",
   "execution_count": null,
   "metadata": {},
   "outputs": [],
   "source": []
  },
  {
   "cell_type": "code",
   "execution_count": null,
   "metadata": {},
   "outputs": [],
   "source": []
  },
  {
   "cell_type": "code",
   "execution_count": null,
   "metadata": {},
   "outputs": [],
   "source": []
  },
  {
   "cell_type": "code",
   "execution_count": null,
   "metadata": {
    "id": "dGCy-4RAKAJE"
   },
   "outputs": [],
   "source": [
    "#escoger el curso que este vigente \n",
    "#recomendar el de mayor nota\n",
    "#considerar el ciclo en que se lleva el curso\n",
    "#el alumno tiene hasta 3 niveles de dispersion en reglamento\n",
    "#considerar que el alumno cubra su carga maxima teniendo la prioridad los cursos obligatorios y luego los electivos(dependera cuantos les faltan)\n",
    "#recomendar el curso que da mejor avance curricular como prioridad\n"
   ]
  }
 ],
 "metadata": {
  "colab": {
   "name": "Untitled0.ipynb",
   "provenance": []
  },
  "kernelspec": {
   "name": "python3",
   "display_name": "Python 3.6.6 64-bit ('ml2020': conda)",
   "metadata": {
    "interpreter": {
     "hash": "aa9d7c0ce51d4ee5e7918cbbd1b16f317c494320c09dd673541defe7e1f92b5e"
    }
   }
  },
  "language_info": {
   "codemirror_mode": {
    "name": "ipython",
    "version": 3
   },
   "file_extension": ".py",
   "mimetype": "text/x-python",
   "name": "python",
   "nbconvert_exporter": "python",
   "pygments_lexer": "ipython3",
   "version": "3.6.6-final"
  }
 },
 "nbformat": 4,
 "nbformat_minor": 1
}