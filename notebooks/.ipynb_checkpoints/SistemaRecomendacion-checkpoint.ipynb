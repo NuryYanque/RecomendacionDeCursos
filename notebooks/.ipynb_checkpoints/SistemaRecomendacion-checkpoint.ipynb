{
 "cells": [
  {
   "cell_type": "code",
   "execution_count": null,
   "metadata": {
    "id": "jYKZ3xjJHJVI"
   },
   "outputs": [],
   "source": []
  },
  {
   "cell_type": "markdown",
   "metadata": {
    "id": "e97jH19wJE4q"
   },
   "source": [
    "texto test"
   ]
  },
  {
   "cell_type": "code",
   "execution_count": 4,
   "metadata": {
    "id": "sJsLKdW2LEdc"
   },
   "outputs": [],
   "source": [
    "import pandas as pd"
   ]
  },
  {
   "cell_type": "code",
   "execution_count": null,
   "metadata": {
    "id": "lgSlRTrHLA2L"
   },
   "outputs": [],
   "source": [
    "201901\t201902\t202001\t202002\n",
    "18\t23\t27\t23\n",
    "18\t18\t23\t23\n",
    "18\t18\t18\t27\n",
    "18\t23\t23\t23\n",
    "23\t23\t23\t23\n",
    "27\t27\t27\t27"
   ]
  },
  {
   "cell_type": "code",
   "execution_count": 5,
   "metadata": {
    "executionInfo": {
     "elapsed": 901,
     "status": "ok",
     "timestamp": 1604242182565,
     "user": {
      "displayName": "Nury Yuleny Arosquipa Yanque",
      "photoUrl": "https://lh3.googleusercontent.com/a-/AOh14GhrSvvDooqXZiD0drEXojYowkdCAA1ZAS9FDIVFnt8=s64",
      "userId": "13184423204279143700"
     },
     "user_tz": 180
    },
    "id": "5YIEmMGpMSFq"
   },
   "outputs": [],
   "source": [
    "perfil_alumno = [\n",
    "    ['201700000', 18, 18, 18, 18],\n",
    "    ['201818909', 18, 23, 27, 23], \n",
    "    ['201621635',18,\t18,\t23,\t23],\n",
    "    ['201710287',18,\t18,\t18,\t27],\n",
    "    ['201720918', 18,\t23, 23,\t23],\n",
    "    ['201810705', 23,\t23,\t23,\t23],\n",
    "    ['201820634', 27,\t27,\t27,\t27]\n",
    "]\n",
    "\n"
   ]
  },
  {
   "cell_type": "code",
   "execution_count": 6,
   "metadata": {
    "executionInfo": {
     "elapsed": 971,
     "status": "ok",
     "timestamp": 1604242186164,
     "user": {
      "displayName": "Nury Yuleny Arosquipa Yanque",
      "photoUrl": "https://lh3.googleusercontent.com/a-/AOh14GhrSvvDooqXZiD0drEXojYowkdCAA1ZAS9FDIVFnt8=s64",
      "userId": "13184423204279143700"
     },
     "user_tz": 180
    },
    "id": "tvW8uHCgMrhP"
   },
   "outputs": [],
   "source": [
    "perfil_alumno_df = pd.DataFrame.from_records(perfil_alumno, columns=['COD_ALUMNO', '201901', '201902', '202001', '202002'])"
   ]
  },
  {
   "cell_type": "code",
   "execution_count": 7,
   "metadata": {
    "colab": {
     "base_uri": "https://localhost:8080/",
     "height": 266
    },
    "executionInfo": {
     "elapsed": 723,
     "status": "ok",
     "timestamp": 1604242188615,
     "user": {
      "displayName": "Nury Yuleny Arosquipa Yanque",
      "photoUrl": "https://lh3.googleusercontent.com/a-/AOh14GhrSvvDooqXZiD0drEXojYowkdCAA1ZAS9FDIVFnt8=s64",
      "userId": "13184423204279143700"
     },
     "user_tz": 180
    },
    "id": "2yh9lkNCNzwC",
    "outputId": "32752c27-d0cf-4380-cb7d-cffd37a1f2ee"
   },
   "outputs": [
    {
     "data": {
      "text/html": [
       "<div>\n",
       "<style scoped>\n",
       "    .dataframe tbody tr th:only-of-type {\n",
       "        vertical-align: middle;\n",
       "    }\n",
       "\n",
       "    .dataframe tbody tr th {\n",
       "        vertical-align: top;\n",
       "    }\n",
       "\n",
       "    .dataframe thead th {\n",
       "        text-align: right;\n",
       "    }\n",
       "</style>\n",
       "<table border=\"1\" class=\"dataframe\">\n",
       "  <thead>\n",
       "    <tr style=\"text-align: right;\">\n",
       "      <th></th>\n",
       "      <th>COD_ALUMNO</th>\n",
       "      <th>201901</th>\n",
       "      <th>201902</th>\n",
       "      <th>202001</th>\n",
       "      <th>202002</th>\n",
       "    </tr>\n",
       "  </thead>\n",
       "  <tbody>\n",
       "    <tr>\n",
       "      <th>0</th>\n",
       "      <td>201700000</td>\n",
       "      <td>18</td>\n",
       "      <td>18</td>\n",
       "      <td>18</td>\n",
       "      <td>18</td>\n",
       "    </tr>\n",
       "    <tr>\n",
       "      <th>1</th>\n",
       "      <td>201818909</td>\n",
       "      <td>18</td>\n",
       "      <td>23</td>\n",
       "      <td>27</td>\n",
       "      <td>23</td>\n",
       "    </tr>\n",
       "    <tr>\n",
       "      <th>2</th>\n",
       "      <td>201621635</td>\n",
       "      <td>18</td>\n",
       "      <td>18</td>\n",
       "      <td>23</td>\n",
       "      <td>23</td>\n",
       "    </tr>\n",
       "    <tr>\n",
       "      <th>3</th>\n",
       "      <td>201710287</td>\n",
       "      <td>18</td>\n",
       "      <td>18</td>\n",
       "      <td>18</td>\n",
       "      <td>27</td>\n",
       "    </tr>\n",
       "    <tr>\n",
       "      <th>4</th>\n",
       "      <td>201720918</td>\n",
       "      <td>18</td>\n",
       "      <td>23</td>\n",
       "      <td>23</td>\n",
       "      <td>23</td>\n",
       "    </tr>\n",
       "    <tr>\n",
       "      <th>5</th>\n",
       "      <td>201810705</td>\n",
       "      <td>23</td>\n",
       "      <td>23</td>\n",
       "      <td>23</td>\n",
       "      <td>23</td>\n",
       "    </tr>\n",
       "    <tr>\n",
       "      <th>6</th>\n",
       "      <td>201820634</td>\n",
       "      <td>27</td>\n",
       "      <td>27</td>\n",
       "      <td>27</td>\n",
       "      <td>27</td>\n",
       "    </tr>\n",
       "  </tbody>\n",
       "</table>\n",
       "</div>"
      ],
      "text/plain": [
       "  COD_ALUMNO  201901  201902  202001  202002\n",
       "0  201700000      18      18      18      18\n",
       "1  201818909      18      23      27      23\n",
       "2  201621635      18      18      23      23\n",
       "3  201710287      18      18      18      27\n",
       "4  201720918      18      23      23      23\n",
       "5  201810705      23      23      23      23\n",
       "6  201820634      27      27      27      27"
      ]
     },
     "execution_count": 7,
     "metadata": {},
     "output_type": "execute_result"
    }
   ],
   "source": [
    "perfil_alumno_df"
   ]
  },
  {
   "cell_type": "code",
   "execution_count": 8,
   "metadata": {
    "colab": {
     "base_uri": "https://localhost:8080/"
    },
    "executionInfo": {
     "elapsed": 967,
     "status": "ok",
     "timestamp": 1604243705398,
     "user": {
      "displayName": "Nury Yuleny Arosquipa Yanque",
      "photoUrl": "https://lh3.googleusercontent.com/a-/AOh14GhrSvvDooqXZiD0drEXojYowkdCAA1ZAS9FDIVFnt8=s64",
      "userId": "13184423204279143700"
     },
     "user_tz": 180
    },
    "id": "-pueQTbASmYA",
    "outputId": "6cc43dd0-8fdb-42b0-f74f-a97cbd816979"
   },
   "outputs": [],
   "source": [
    "alumno_query = perfil_alumno_df[perfil_alumno_df['COD_ALUMNO'] == '201700000']\n"
   ]
  },
  {
   "cell_type": "code",
   "execution_count": 9,
   "metadata": {},
   "outputs": [
    {
     "data": {
      "text/plain": [
       "array([72])"
      ]
     },
     "execution_count": 9,
     "metadata": {},
     "output_type": "execute_result"
    }
   ],
   "source": [
    "total_creditos = alumno_query['201901'].values + alumno_query['201902'].values + alumno_query['202001'].values + alumno_query['202002'].values\n",
    "total_creditos\n",
    "    "
   ]
  },
  {
   "cell_type": "code",
   "execution_count": null,
   "metadata": {
    "executionInfo": {
     "elapsed": 969,
     "status": "ok",
     "timestamp": 1604243865558,
     "user": {
      "displayName": "Nury Yuleny Arosquipa Yanque",
      "photoUrl": "https://lh3.googleusercontent.com/a-/AOh14GhrSvvDooqXZiD0drEXojYowkdCAA1ZAS9FDIVFnt8=s64",
      "userId": "13184423204279143700"
     },
     "user_tz": 180
    },
    "id": "aMRnqZ0GJGJi"
   },
   "outputs": [],
   "source": [
    "#Si un alumno tiene en los 4 semestre 18 cred como max tiene 1\n",
    "\n",
    "def rendimiento_alumno(cod_alumno):\n",
    "    # si en el periodo 201901 tiene 18, en el periodo 201902 tiene 18, si en el periodo 202001 tiene 18, si en el periodo 202002 tiene 18, entonces 1\n",
    "    alumno_query = perfil_alumno_df[perfil_alumno_df['COD_ALUMNO'] == cod_alumno]\n",
    "    total_creditos = alumno_query['201901'].values + alumno_query['201902'].values + alumno_query['202001'].values + alumno_query['202002'].values    \n",
    "    performance = total_creditos[0] / 4    \n",
    "    print(performance)\n",
    "    if performance <= 18.0:\n",
    "        return 1\n",
    "\n",
    "    # CASO 2\n",
    "\n",
    "    # CASO 3\n",
    "\n",
    "    # cASO 4\n",
    "\n",
    "    return -1"
   ]
  },
  {
   "cell_type": "code",
   "execution_count": null,
   "metadata": {
    "colab": {
     "base_uri": "https://localhost:8080/"
    },
    "executionInfo": {
     "elapsed": 938,
     "status": "ok",
     "timestamp": 1604243820094,
     "user": {
      "displayName": "Nury Yuleny Arosquipa Yanque",
      "photoUrl": "https://lh3.googleusercontent.com/a-/AOh14GhrSvvDooqXZiD0drEXojYowkdCAA1ZAS9FDIVFnt8=s64",
      "userId": "13184423204279143700"
     },
     "user_tz": 180
    },
    "id": "YHdYYnwUSBSp",
    "outputId": "e9f66dd9-e8d9-41a4-ab9a-4c19331e4bdd"
   },
   "outputs": [],
   "source": [
    "cod_alumno = '201818909'\n",
    "print(rendimiento_alumno(cod_alumno))"
   ]
  },
  {
   "cell_type": "code",
   "execution_count": null,
   "metadata": {
    "id": "snHVhO5rJifx"
   },
   "outputs": [],
   "source": [
    "#Si un alumno tiene en los 4 semestre 23 cred como max tiene 4"
   ]
  },
  {
   "cell_type": "code",
   "execution_count": null,
   "metadata": {
    "id": "GR4ANGIqJm17"
   },
   "outputs": [],
   "source": [
    "#Si un alumno tiene en los 4 semestre 27 cred como max tiene 5"
   ]
  },
  {
   "cell_type": "code",
   "execution_count": null,
   "metadata": {
    "id": "GOnU5iZsJqE7"
   },
   "outputs": [],
   "source": [
    "#Si un alumno tiene en los últimos periodos 18 cred max y en uno mayor a este, tiene 2"
   ]
  },
  {
   "cell_type": "code",
   "execution_count": null,
   "metadata": {
    "id": "_pwW83GJJtaS"
   },
   "outputs": [],
   "source": [
    "#Si un alumno tiene en en sus periodos 23 y 27 y en el último 18  tiene 3"
   ]
  },
  {
   "cell_type": "code",
   "execution_count": null,
   "metadata": {
    "id": "RIS4Z-wFJwRW"
   },
   "outputs": [],
   "source": [
    "#Si un alumno tiene en el último periodo 27 cred y en sus últimos periodos variabilidad tiene 3.5\n",
    "\n",
    "#Si un alumno termina en su último ciclo con 27 tiene 4\n",
    "\n",
    "#Si un alumno termina en su último ciclo con 27 y en unos de sus últimos 4 periodos 27 tiene 4.5\n"
   ]
  },
  {
   "cell_type": "code",
   "execution_count": null,
   "metadata": {
    "id": "mnOgFhrGZrva"
   },
   "outputs": [],
   "source": [
    "# cargar en esta variable el banco de cursos ing industrial\n",
    "\n",
    "banco_de_cursos = {\n",
    "                   'A': 17, aprobados/total_alumno, ES_CRITICO\n",
    "                   'B', 16, *, NO_CRITICO\n",
    "                   'C', 14. ***, NO_CRITICO\n",
    "}\n",
    "\n",
    "curso_disponibles_alumno = [\"A\", \"B\", \"C\"]\n",
    "\n",
    "def cursos_recomendados_alumno(cursos_disponibles_alumno):\n",
    "   for curso_disponible in cursos_disponibles_alumno:\n",
    "       descripcion_curso = banco_cursos[curso_disponible]\n",
    "       # heuristica para colocar probabilidad de recomendacion a partir de la descripcion del curso\n",
    "      \n",
    "      A, 0.9\n",
    "      B, 0.7\n",
    "      C, 0.1\n",
    " \n",
    "\n"
   ]
  },
  {
   "cell_type": "code",
   "execution_count": null,
   "metadata": {},
   "outputs": [],
   "source": [
    "banco_cursos"
   ]
  },
  {
   "cell_type": "code",
   "execution_count": null,
   "metadata": {
    "id": "CeOzEOufZmKi"
   },
   "outputs": [],
   "source": [
    "\n",
    "alumno_cursos_disponibles = "
   ]
  },
  {
   "cell_type": "code",
   "execution_count": null,
   "metadata": {
    "id": "dGCy-4RAKAJE"
   },
   "outputs": [],
   "source": [
    "#escoger el curso que este vigente \n",
    "#recomendar el de mayor nota\n",
    "#considerar el ciclo en que se lleva el curso\n",
    "#el alumno tiene hasta 3 niveles de dispersion en reglamento\n",
    "#considerar que el alumno cubra su carga maxima teniendo la prioridad los cursos obligatorios y luego los electivos(dependera cuantos les faltan)\n",
    "#recomendar el curso que da mejor avance curricular como prioridad\n"
   ]
  }
 ],
 "metadata": {
  "colab": {
   "name": "Untitled0.ipynb",
   "provenance": []
  },
  "kernelspec": {
   "display_name": "Python 3",
   "language": "python",
   "name": "python3"
  },
  "language_info": {
   "codemirror_mode": {
    "name": "ipython",
    "version": 3
   },
   "file_extension": ".py",
   "mimetype": "text/x-python",
   "name": "python",
   "nbconvert_exporter": "python",
   "pygments_lexer": "ipython3",
   "version": "3.7.5"
  }
 },
 "nbformat": 4,
 "nbformat_minor": 1
}
