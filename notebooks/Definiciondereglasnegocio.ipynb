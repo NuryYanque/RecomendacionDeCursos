{
  "nbformat": 4,
  "nbformat_minor": 0,
  "metadata": {
    "colab": {
      "name": "Notebook.ipynb",
      "provenance": [],
      "collapsed_sections": []
    },
    "kernelspec": {
      "name": "python3",
      "display_name": "Python 3"
    }
  },
  "cells": [
    {
      "cell_type": "code",
      "metadata": {
        "id": "jYKZ3xjJHJVI"
      },
      "source": [
        ""
      ],
      "execution_count": null,
      "outputs": []
    },
    {
      "cell_type": "markdown",
      "metadata": {
        "id": "e97jH19wJE4q"
      },
      "source": [
        "texto test"
      ]
    },
    {
      "cell_type": "code",
      "metadata": {
        "id": "sJsLKdW2LEdc"
      },
      "source": [
        "import pandas as pd"
      ],
      "execution_count": 1,
      "outputs": []
    },
    {
      "cell_type": "code",
      "metadata": {
        "id": "lgSlRTrHLA2L"
      },
      "source": [
        "201901\t201902\t202001\t202002\n",
        "18\t23\t27\t23\n",
        "18\t18\t23\t23\n",
        "18\t18\t18\t27\n",
        "18\t23\t23\t23\n",
        "23\t23\t23\t23\n",
        "27\t27\t27\t27"
      ],
      "execution_count": null,
      "outputs": []
    },
    {
      "cell_type": "code",
      "metadata": {
        "id": "5YIEmMGpMSFq"
      },
      "source": [
        "perfil_alumno = [\n",
        "    ['201700000', 18, 18, 18, 18],\n",
        "    ['201818909', 18, 23, 27, 23], \n",
        "    ['201621635',18,\t18,\t23,\t23],\n",
        "    ['201710287',18,\t18,\t18,\t27],\n",
        "    ['201720918', 18,\t23, 23,\t23],\n",
        "    ['201810705', 23,\t23,\t23,\t23],\n",
        "    ['201820634', 27,\t27,\t27,\t27]\n",
        "]\n",
        "\n"
      ],
      "execution_count": 2,
      "outputs": []
    },
    {
      "cell_type": "code",
      "metadata": {
        "id": "tvW8uHCgMrhP"
      },
      "source": [
        "perfil_alumno_df = pd.DataFrame.from_records(perfil_alumno, columns=['COD_ALUMNO', '201901', '201902', '202001', '202002'])"
      ],
      "execution_count": 3,
      "outputs": []
    },
    {
      "cell_type": "code",
      "metadata": {
        "id": "2yh9lkNCNzwC",
        "outputId": "32752c27-d0cf-4380-cb7d-cffd37a1f2ee",
        "colab": {
          "base_uri": "https://localhost:8080/",
          "height": 266
        }
      },
      "source": [
        "perfil_alumno_df"
      ],
      "execution_count": 4,
      "outputs": [
        {
          "output_type": "execute_result",
          "data": {
            "text/plain": "  COD_ALUMNO  201901  201902  202001  202002\n0  201700000      18      18      18      18\n1  201818909      18      23      27      23\n2  201621635      18      18      23      23\n3  201710287      18      18      18      27\n4  201720918      18      23      23      23\n5  201810705      23      23      23      23\n6  201820634      27      27      27      27",
            "text/html": "<div>\n<style scoped>\n    .dataframe tbody tr th:only-of-type {\n        vertical-align: middle;\n    }\n\n    .dataframe tbody tr th {\n        vertical-align: top;\n    }\n\n    .dataframe thead th {\n        text-align: right;\n    }\n</style>\n<table border=\"1\" class=\"dataframe\">\n  <thead>\n    <tr style=\"text-align: right;\">\n      <th></th>\n      <th>COD_ALUMNO</th>\n      <th>201901</th>\n      <th>201902</th>\n      <th>202001</th>\n      <th>202002</th>\n    </tr>\n  </thead>\n  <tbody>\n    <tr>\n      <th>0</th>\n      <td>201700000</td>\n      <td>18</td>\n      <td>18</td>\n      <td>18</td>\n      <td>18</td>\n    </tr>\n    <tr>\n      <th>1</th>\n      <td>201818909</td>\n      <td>18</td>\n      <td>23</td>\n      <td>27</td>\n      <td>23</td>\n    </tr>\n    <tr>\n      <th>2</th>\n      <td>201621635</td>\n      <td>18</td>\n      <td>18</td>\n      <td>23</td>\n      <td>23</td>\n    </tr>\n    <tr>\n      <th>3</th>\n      <td>201710287</td>\n      <td>18</td>\n      <td>18</td>\n      <td>18</td>\n      <td>27</td>\n    </tr>\n    <tr>\n      <th>4</th>\n      <td>201720918</td>\n      <td>18</td>\n      <td>23</td>\n      <td>23</td>\n      <td>23</td>\n    </tr>\n    <tr>\n      <th>5</th>\n      <td>201810705</td>\n      <td>23</td>\n      <td>23</td>\n      <td>23</td>\n      <td>23</td>\n    </tr>\n    <tr>\n      <th>6</th>\n      <td>201820634</td>\n      <td>27</td>\n      <td>27</td>\n      <td>27</td>\n      <td>27</td>\n    </tr>\n  </tbody>\n</table>\n</div>"
          },
          "metadata": {},
          "execution_count": 4
        }
      ]
    },
    {
      "cell_type": "code",
      "metadata": {
        "id": "-pueQTbASmYA",
        "outputId": "6cc43dd0-8fdb-42b0-f74f-a97cbd816979",
        "colab": {
          "base_uri": "https://localhost:8080/"
        }
      },
      "source": [
        "alumno_query = perfil_alumno_df[perfil_alumno_df['COD_ALUMNO'] == '201700000']\n",
        "total_creditos = alumno_query['201901'].values + alumno_query['201902'].values + alumno_query['202001'].values + alumno_query['202002'].values\n",
        "total_creditos\n",
        "    "
      ],
      "execution_count": null,
      "outputs": [
        {
          "output_type": "execute_result",
          "data": {
            "text/plain": [
              "array([72])"
            ]
          },
          "metadata": {
            "tags": []
          },
          "execution_count": 104
        }
      ]
    },
    {
      "cell_type": "code",
      "metadata": {
        "id": "aMRnqZ0GJGJi"
      },
      "source": [
        "#Si un alumno tiene en los 4 semestre 18 cred como max tiene 1\n",
        "\n",
        "def rendimiento_alumno(cod_alumno):\n",
        "    # si en el periodo 201901 tiene 18, en el periodo 201902 tiene 18, si en el periodo 202001 tiene 18, si en el periodo 202002 tiene 18, entonces 1\n",
        "    alumno_query = perfil_alumno_df[perfil_alumno_df['COD_ALUMNO'] == cod_alumno]\n",
        "    total_creditos = alumno_query['201901'].values + alumno_query['201902'].values + alumno_query['202001'].values + alumno_query['202002'].values    \n",
        "    performance = total_creditos[0] / 4    \n",
        "    print(performance)\n",
        "    if performance <= 18.0:\n",
        "        return 1\n",
        "\n",
        "    # CASO 2\n",
        "\n",
        "    # CASO 3\n",
        "\n",
        "    # cASO 4\n",
        "\n",
        "    return -1"
      ],
      "execution_count": null,
      "outputs": []
    },
    {
      "cell_type": "code",
      "metadata": {
        "id": "YHdYYnwUSBSp",
        "outputId": "e9f66dd9-e8d9-41a4-ab9a-4c19331e4bdd",
        "colab": {
          "base_uri": "https://localhost:8080/"
        }
      },
      "source": [
        "cod_alumno = '201818909'\n",
        "print(rendimiento_alumno(cod_alumno))"
      ],
      "execution_count": null,
      "outputs": [
        {
          "output_type": "stream",
          "text": [
            "22.75\n",
            "-1\n"
          ],
          "name": "stdout"
        }
      ]
    },
    {
      "cell_type": "code",
      "metadata": {
        "id": "snHVhO5rJifx"
      },
      "source": [
        "#Si un alumno tiene en los 4 semestre 23 cred como max tiene 4"
      ],
      "execution_count": null,
      "outputs": []
    },
    {
      "cell_type": "code",
      "metadata": {
        "id": "GR4ANGIqJm17"
      },
      "source": [
        "#Si un alumno tiene en los 4 semestre 27 cred como max tiene 5"
      ],
      "execution_count": null,
      "outputs": []
    },
    {
      "cell_type": "code",
      "metadata": {
        "id": "GOnU5iZsJqE7"
      },
      "source": [
        "#Si un alumno tiene en los últimos periodos 18 cred max y en uno mayor a este, tiene 2"
      ],
      "execution_count": null,
      "outputs": []
    },
    {
      "cell_type": "code",
      "metadata": {
        "id": "_pwW83GJJtaS"
      },
      "source": [
        "#Si un alumno tiene en en sus periodos 23 y 27 y en el último 18  tiene 3"
      ],
      "execution_count": null,
      "outputs": []
    },
    {
      "cell_type": "code",
      "metadata": {
        "id": "RIS4Z-wFJwRW"
      },
      "source": [
        "#Si un alumno tiene en el último periodo 27 cred y en sus últimos periodos variabilidad tiene 3.5\n",
        "\n",
        "#Si un alumno termina en su último ciclo con 27 tiene 4\n",
        "\n",
        "#Si un alumno termina en su último ciclo con 27 y en unos de sus últimos 4 periodos 27 tiene 4.5\n"
      ],
      "execution_count": null,
      "outputs": []
    },
    {
      "cell_type": "code",
      "metadata": {
        "id": "mnOgFhrGZrva"
      },
      "source": [
        "# cargar en esta variable el banco de cursos ing industrial\n",
        "\n",
        "banco_de_cursos = {\n",
        "                   'A': 17, aprobados/total_alumno, ES_CRITICO\n",
        "                   'B', 16, *, NO_CRITICO\n",
        "                   'C', 14. ***, NO_CRITICO\n",
        "}\n",
        "\n",
        "curso_disponibles_alumno = [\"A\", \"B\", \"C\"]\n",
        "\n",
        "def cursos_recomendados_alumno(cursos_disponibles_alumno):\n",
        "   for curso_disponible in cursos_disponibles_alumno:\n",
        "       descripcion_curso = banco_cursos[curso_disponible]\n",
        "       # heuristica para colocar probabilidad de recomendacion a partir de la descripcion del curso\n",
        "      \n",
        "      A, 0.9\n",
        "      B, 0.7\n",
        "      C, 0.1\n",
        " \n",
        "\n"
      ],
      "execution_count": null,
      "outputs": []
    },
    {
      "cell_type": "code",
      "metadata": {
        "id": "CeOzEOufZmKi"
      },
      "source": [
        "cursos_disponibles"
      ],
      "execution_count": null,
      "outputs": []
    },
    {
      "cell_type": "code",
      "metadata": {
        "id": "dGCy-4RAKAJE"
      },
      "source": [
        "#escoger el curso que este vigente \n",
        "#recomendar el de mayor nota\n",
        "#considerar el ciclo en que se lleva el curso\n",
        "#el alumno tiene hasta 3 niveles de dispersion en reglamento\n",
        "#considerar que el alumno cubra su carga maxima teniendo la prioridad los cursos obligatorios y luego los electivos(dependera cuantos les faltan)\n",
        "#recomendar el curso que da mejor avance curricular como prioridad\n"
      ],
      "execution_count": null,
      "outputs": []
    }
  ]
}